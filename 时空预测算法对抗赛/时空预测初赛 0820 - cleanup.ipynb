{
 "cells": [
  {
   "cell_type": "markdown",
   "id": "64589b0c",
   "metadata": {},
   "source": [
    "# 开始"
   ]
  },
  {
   "cell_type": "code",
   "execution_count": null,
   "id": "be1811a7",
   "metadata": {
    "ExecuteTime": {
     "end_time": "2022-08-20T02:52:37.512586Z",
     "start_time": "2022-08-20T02:52:37.496977Z"
    },
    "tags": []
   },
   "outputs": [],
   "source": [
    "import numpy as np\n",
    "import pandas as pd\n",
    "pd.set_option('display.max_rows', 100)\n",
    "# pd.set_option('display.max_columns', 20)\n",
    "import geohash\n",
    "from datetime import datetime, time\n",
    "from pandarallel import pandarallel\n",
    "pandarallel.initialize(progress_bar=True)\n",
    "\n",
    "import matplotlib.pyplot as plt\n",
    "import folium\n",
    "\n",
    "import sklearn as skl\n",
    "from sklearn.model_selection import train_test_split, KFold, GridSearchCV\n",
    "import xgboost as xgb\n",
    "import lightgbm as lgb\n",
    "import rcmf as mf\n",
    "import warnings\n",
    "warnings.filterwarnings(\"ignore\")"
   ]
  },
  {
   "cell_type": "code",
   "execution_count": 2,
   "id": "5eeda737",
   "metadata": {
    "ExecuteTime": {
     "end_time": "2022-08-20T02:25:13.085976Z",
     "start_time": "2022-08-20T02:25:13.070020Z"
    }
   },
   "outputs": [
    {
     "name": "stdout",
     "output_type": "stream",
     "text": [
      "00:04:20\n"
     ]
    }
   ],
   "source": [
    "def time_trans(x):\n",
    "    from datetime import datetime, time\n",
    "    if type(x) == str:\n",
    "        x = datetime.strptime(x[11:]+':00', '%H:%M:%S')\n",
    "        return x.hour * 3600 + x.minute * 60 + x.second\n",
    "    elif type(x) == int:\n",
    "        return time(hour=x // 3600, minute=x % 3600 // 60, second=x % 3600 % 60).strftime(\"%H:%M:%S\")\n",
    "    \n",
    "# print(time_trans('00:04:20'))\n",
    "print(time_trans(260))"
   ]
  },
  {
   "cell_type": "code",
   "execution_count": null,
   "id": "620912a7-8f4b-4497-9b90-6c32af01b9a5",
   "metadata": {},
   "outputs": [],
   "source": []
  },
  {
   "cell_type": "markdown",
   "id": "776996bc-7272-4877-9785-6b5408c99ddf",
   "metadata": {},
   "source": [
    "## 导数据"
   ]
  },
  {
   "cell_type": "code",
   "execution_count": 3,
   "id": "9fcab68a",
   "metadata": {
    "ExecuteTime": {
     "end_time": "2022-08-20T02:26:18.718441Z",
     "start_time": "2022-08-20T02:25:13.087945Z"
    }
   },
   "outputs": [
    {
     "name": "stdout",
     "output_type": "stream",
     "text": [
      "(43392645, 3)\n"
     ]
    }
   ],
   "source": [
    "train_dt = []\n",
    "for t in range(7):\n",
    "    train_dt.append(pd.read_csv(\"D:/Data/toUser/train/训练集_PART\"+str(t+1)+\".csv\"))\n",
    "train_dt = pd.concat(train_dt).sort_values(['id','visit_time']).reset_index(drop=True)\n",
    "train_dt.head(2)\n",
    "print(train_dt.shape)"
   ]
  },
  {
   "cell_type": "code",
   "execution_count": 4,
   "id": "7368b0f7",
   "metadata": {
    "ExecuteTime": {
     "end_time": "2022-08-20T02:26:25.398677Z",
     "start_time": "2022-08-20T02:26:18.734081Z"
    }
   },
   "outputs": [
    {
     "data": {
      "text/plain": [
       "(17270322, 3)"
      ]
     },
     "execution_count": 4,
     "metadata": {},
     "output_type": "execute_result"
    }
   ],
   "source": [
    "to_pred_dt = pd.read_csv(\"D:/Data/toUser/test/测试集.csv\")\n",
    "to_pred_dt.shape\n",
    "\n",
    "train_dt = train_dt.loc[train_dt.id.isin(to_pred_dt['id'])].reset_index(drop=True)\n",
    "train_dt.shape"
   ]
  },
  {
   "cell_type": "code",
   "execution_count": 5,
   "id": "f9e2c9c8",
   "metadata": {
    "ExecuteTime": {
     "end_time": "2022-08-20T02:26:25.414082Z",
     "start_time": "2022-08-20T02:26:25.401087Z"
    }
   },
   "outputs": [],
   "source": [
    "# train_dt = train_dt.loc[train_dt.id.isin(np.random.choice(train_dt.id.unique(), 30000))].sort_values(['id','visit_time']).reset_index(drop=True)\n",
    "# train_dt.shape"
   ]
  },
  {
   "cell_type": "code",
   "execution_count": null,
   "id": "313f0316",
   "metadata": {},
   "outputs": [],
   "source": []
  },
  {
   "cell_type": "markdown",
   "id": "b6d65f9d",
   "metadata": {},
   "source": [
    "## 妥存ID"
   ]
  },
  {
   "cell_type": "code",
   "execution_count": 7,
   "id": "9010ef04",
   "metadata": {
    "ExecuteTime": {
     "end_time": "2022-08-20T02:26:27.651467Z",
     "start_time": "2022-08-20T02:26:25.432084Z"
    }
   },
   "outputs": [],
   "source": [
    "id_dict = dict([(v, i) for i, v in enumerate(train_dt.id.unique())])\n",
    "geo_dict = dict([(v, i) for i, v in enumerate(train_dt.geohash.unique())])\n",
    "\n",
    "di_dict = dict([(v,k) for k,v in id_dict.items()])\n",
    "oeg_dict = dict([(v,k) for k,v in geo_dict.items()])"
   ]
  },
  {
   "cell_type": "markdown",
   "id": "518e750a",
   "metadata": {},
   "source": [
    "### ID translate"
   ]
  },
  {
   "cell_type": "code",
   "execution_count": 8,
   "id": "1dc18c79",
   "metadata": {
    "ExecuteTime": {
     "end_time": "2022-08-20T02:26:30.664622Z",
     "start_time": "2022-08-20T02:26:27.651467Z"
    }
   },
   "outputs": [],
   "source": [
    "train_dt['id'] = train_dt['id'].map(id_dict)\n",
    "to_pred_dt['id'] = to_pred_dt['id'].map(id_dict)"
   ]
  },
  {
   "cell_type": "code",
   "execution_count": null,
   "id": "b7e988c6",
   "metadata": {},
   "outputs": [],
   "source": []
  },
  {
   "cell_type": "markdown",
   "id": "612b0e56",
   "metadata": {},
   "source": [
    "1. √ (全量,预备)众数Geo，以及其占比\n",
    "2. (全量)最后一次Geo值（最大重复序列数占比）\n",
    "3. (全量)时间最近Geo（knn和置信度）\n",
    "4. √ (全量,同1)Geo和时间的embedding，Geo的星期分布（均值，方差）\n",
    "5. 最近两位顺序推断（加最匹配时间）\n",
    "6. 二分类模型（待定）"
   ]
  },
  {
   "cell_type": "code",
   "execution_count": null,
   "id": "b73799f2",
   "metadata": {},
   "outputs": [],
   "source": []
  },
  {
   "cell_type": "markdown",
   "id": "304f3830",
   "metadata": {},
   "source": [
    "## 时间变量"
   ]
  },
  {
   "cell_type": "code",
   "execution_count": 9,
   "id": "9c3dd0a5",
   "metadata": {
    "ExecuteTime": {
     "end_time": "2022-08-20T02:29:10.081210Z",
     "start_time": "2022-08-20T02:26:30.664622Z"
    },
    "tags": []
   },
   "outputs": [
    {
     "data": {
      "application/vnd.jupyter.widget-view+json": {
       "model_id": "9431a9f565214f00a51473f441fe95bb",
       "version_major": 2,
       "version_minor": 0
      },
      "text/plain": [
       "VBox(children=(HBox(children=(IntProgress(value=0, description='0.00%', max=4317581), Label(value='0 / 4317581…"
      ]
     },
     "metadata": {},
     "output_type": "display_data"
    },
    {
     "data": {
      "application/vnd.jupyter.widget-view+json": {
       "model_id": "1c8b0296a3f448c8a08ddc412af99406",
       "version_major": 2,
       "version_minor": 0
      },
      "text/plain": [
       "VBox(children=(HBox(children=(IntProgress(value=0, description='0.00%', max=4317581), Label(value='0 / 4317581…"
      ]
     },
     "metadata": {},
     "output_type": "display_data"
    }
   ],
   "source": [
    "def weekday_calc(x):\n",
    "    from datetime import datetime, time\n",
    "    return datetime.weekday(datetime.strptime(x, '%Y-%m-%d %H:%M')) + 1\n",
    "\n",
    "train_dt['weekday'] = train_dt.visit_time.parallel_apply(weekday_calc)\n",
    "train_dt['seconds'] = train_dt.visit_time.parallel_apply(time_trans)"
   ]
  },
  {
   "cell_type": "code",
   "execution_count": null,
   "id": "85d50d65",
   "metadata": {},
   "outputs": [],
   "source": []
  },
  {
   "cell_type": "markdown",
   "id": "2241bfb6",
   "metadata": {},
   "source": [
    "## 样本制作"
   ]
  },
  {
   "cell_type": "markdown",
   "id": "a97834ff",
   "metadata": {},
   "source": [
    "### N-2(train) + 1(validation) + 1(test)样本集"
   ]
  },
  {
   "cell_type": "code",
   "execution_count": 102,
   "id": "79ce037e",
   "metadata": {
    "ExecuteTime": {
     "end_time": "2022-08-20T05:46:55.403676Z",
     "start_time": "2022-08-20T05:46:36.686922Z"
    }
   },
   "outputs": [
    {
     "name": "stdout",
     "output_type": "stream",
     "text": [
      "(17270322, 5) (16870322, 5) (200000, 5) (200000, 5)\n"
     ]
    },
    {
     "data": {
      "text/html": [
       "<div>\n",
       "<style scoped>\n",
       "    .dataframe tbody tr th:only-of-type {\n",
       "        vertical-align: middle;\n",
       "    }\n",
       "\n",
       "    .dataframe tbody tr th {\n",
       "        vertical-align: top;\n",
       "    }\n",
       "\n",
       "    .dataframe thead th {\n",
       "        text-align: right;\n",
       "    }\n",
       "</style>\n",
       "<table border=\"1\" class=\"dataframe\">\n",
       "  <thead>\n",
       "    <tr style=\"text-align: right;\">\n",
       "      <th></th>\n",
       "      <th>id</th>\n",
       "      <th>visit_time</th>\n",
       "      <th>geohash</th>\n",
       "      <th>weekday</th>\n",
       "      <th>seconds</th>\n",
       "    </tr>\n",
       "  </thead>\n",
       "  <tbody>\n",
       "    <tr>\n",
       "      <th>0</th>\n",
       "      <td>0</td>\n",
       "      <td>2021-10-01 17:06</td>\n",
       "      <td>wm6kfzm</td>\n",
       "      <td>5</td>\n",
       "      <td>61560</td>\n",
       "    </tr>\n",
       "    <tr>\n",
       "      <th>1</th>\n",
       "      <td>0</td>\n",
       "      <td>2021-10-02 11:25</td>\n",
       "      <td>wm3tt8q</td>\n",
       "      <td>6</td>\n",
       "      <td>41100</td>\n",
       "    </tr>\n",
       "  </tbody>\n",
       "</table>\n",
       "</div>"
      ],
      "text/plain": [
       "   id        visit_time  geohash  weekday  seconds\n",
       "0   0  2021-10-01 17:06  wm6kfzm        5    61560\n",
       "1   0  2021-10-02 11:25  wm3tt8q        6    41100"
      ]
     },
     "execution_count": 102,
     "metadata": {},
     "output_type": "execute_result"
    }
   ],
   "source": [
    "test_set = train_dt.groupby('id').tail(1)\n",
    "train_set = train_dt.loc[~train_dt.index.isin(test_set.index)]\n",
    "val_set = train_set.groupby('id').tail(1)\n",
    "train_set = train_set.loc[~train_set.index.isin(val_set.index)]\n",
    "\n",
    "print(train_dt.shape, train_set.shape, val_set.shape, test_set.shape)\n",
    "train_set.head(2)"
   ]
  },
  {
   "cell_type": "code",
   "execution_count": null,
   "id": "9087c1a4",
   "metadata": {},
   "outputs": [],
   "source": []
  },
  {
   "cell_type": "markdown",
   "id": "6e89959d",
   "metadata": {},
   "source": [
    "### 验证有多少case，最后一条就在他历史geohash中"
   ]
  },
  {
   "cell_type": "code",
   "execution_count": 103,
   "id": "b4a773da",
   "metadata": {
    "ExecuteTime": {
     "end_time": "2022-08-20T05:46:59.641215Z",
     "start_time": "2022-08-20T05:46:55.432584Z"
    }
   },
   "outputs": [
    {
     "data": {
      "text/plain": [
       "0.77992"
      ]
     },
     "execution_count": 103,
     "metadata": {},
     "output_type": "execute_result"
    }
   ],
   "source": [
    "pd.merge(val_set[['id','geohash']], train_set[['id','geohash']], \n",
    "         on=['id','geohash'], how='inner')['id'].nunique() / len(val_set)"
   ]
  },
  {
   "cell_type": "code",
   "execution_count": 104,
   "id": "8c80fe00",
   "metadata": {
    "ExecuteTime": {
     "end_time": "2022-08-20T05:47:03.961461Z",
     "start_time": "2022-08-20T05:46:59.644215Z"
    }
   },
   "outputs": [
    {
     "data": {
      "text/plain": [
       "0.774615"
      ]
     },
     "execution_count": 104,
     "metadata": {},
     "output_type": "execute_result"
    }
   ],
   "source": [
    "pd.merge(test_set[['id','geohash']], train_set[['id','geohash']], \n",
    "         on=['id','geohash'], how='inner')['id'].nunique() / len(test_set)"
   ]
  },
  {
   "cell_type": "code",
   "execution_count": null,
   "id": "162600fa",
   "metadata": {},
   "outputs": [],
   "source": []
  },
  {
   "cell_type": "markdown",
   "id": "04eacf8f-3602-41db-b02f-cb15e40f0642",
   "metadata": {},
   "source": [
    "# 特征工程"
   ]
  },
  {
   "cell_type": "markdown",
   "id": "e1c9f659",
   "metadata": {},
   "source": [
    "## id 类"
   ]
  },
  {
   "cell_type": "markdown",
   "id": "b34d3e6c",
   "metadata": {},
   "source": [
    "### id vs geohash"
   ]
  },
  {
   "cell_type": "code",
   "execution_count": 14,
   "id": "ee6cf364",
   "metadata": {
    "ExecuteTime": {
     "end_time": "2022-08-20T02:29:32.678273Z",
     "start_time": "2022-08-20T02:29:32.665268Z"
    }
   },
   "outputs": [],
   "source": [
    "# geo_embd = train_set[['id','geohash']].value_counts().reset_index()\n",
    "# geo_embd['geohash'] = geo_embd.geohash.map(geo_dict)\n",
    "# geo_embd.columns = ['u_id','i_id','rating']\n",
    "\n",
    "# svd = SVD(lr=0.001, reg=0.005, n_epochs=100, n_factors=5,\n",
    "#           early_stopping=True, min_rating=1, max_rating=1500)\n",
    "# svd.fit(X=geo_embd, X_val=geo_embd.sample(10000))\n",
    "\n",
    "# user_embd = pd.merge(pd.Series(svd.user_mapping_, name='tmp_index'), \n",
    "#                      pd.DataFrame(svd.pu_, columns=['geo_embd'+str(i) for i in range(5)]),\n",
    "#                      left_on='tmp_index', right_index=True)\n",
    "# del(geo_embd)\n",
    "# user_embd.head()"
   ]
  },
  {
   "cell_type": "code",
   "execution_count": null,
   "id": "e5b6446a",
   "metadata": {},
   "outputs": [],
   "source": []
  },
  {
   "cell_type": "markdown",
   "id": "cf370959",
   "metadata": {},
   "source": [
    "### id vs hour"
   ]
  },
  {
   "cell_type": "code",
   "execution_count": 15,
   "id": "66de219d",
   "metadata": {
    "ExecuteTime": {
     "end_time": "2022-08-20T02:29:32.723276Z",
     "start_time": "2022-08-20T02:29:32.707273Z"
    }
   },
   "outputs": [],
   "source": [
    "# hour_embd = train_set[['id','visit_time','weekday']] #.value_counts().reset_index()\n",
    "# hour_embd['weekhour'] = hour_embd.parallel_apply(lambda x:int(x.visit_time[11:13]) * x.weekday,axis=1)\n",
    "# hour_embd = hour_embd[['id','weekhour']].value_counts().reset_index()\n",
    "# hour_embd.columns = ['u_id','i_id','rating']\n",
    "\n",
    "# svd = SVD(lr=0.001, reg=0.005, n_epochs=100, n_factors=5,\n",
    "#           early_stopping=True, min_rating=1, max_rating=150)\n",
    "# svd.fit(X=hour_embd, X_val=hour_embd.sample(10000))\n",
    "\n",
    "# user_embd2 = pd.merge(pd.Series(svd.user_mapping_, name='tmp_index'), \n",
    "#                       pd.DataFrame(svd.pu_, columns=['hour_embd'+str(i) for i in range(5)]),\n",
    "#                       left_on='tmp_index', right_index=True)\n",
    "# del(hour_embd)\n",
    "# user_embd2.head()"
   ]
  },
  {
   "cell_type": "code",
   "execution_count": 16,
   "id": "f37a3f5a",
   "metadata": {
    "ExecuteTime": {
     "end_time": "2022-08-20T02:36:23.356640Z",
     "start_time": "2022-08-20T02:29:32.754315Z"
    }
   },
   "outputs": [],
   "source": [
    "# hour_embd = train_set[['id','visit_time','geohash']]\n",
    "# hour_embd['u'], hour_embd['i'] = list(zip(*hour_embd.apply(lambda x:(str(x['id']) + '_' + x['geohash'], int(x.visit_time[11:13])),axis=1)))\n",
    "# hour_embd = hour_embd.groupby(['u','i'])['id'].count().reset_index()\n",
    "# hour_embd_umap = dict([(v,i) for i, v in enumerate(hour_embd['u'])])\n",
    "# hour_embd['u'] = hour_embd['u'].map(hour_embd_umap)\n",
    "# hour_embd.columns = ['u_id','i_id','rating']\n",
    "\n",
    "# svd = SVD(lr=0.001, reg=0.005, n_epochs=100, n_factors=2, early_stopping=True, min_rating=1, max_rating=300)\n",
    "# svd.fit(X=hour_embd, X_val=hour_embd.sample(10000))\n",
    "\n",
    "# user_embd2 = pd.merge(pd.Series(svd.user_mapping_, name='tmp_index'), \n",
    "#                       pd.DataFrame(svd.pu_, columns=['hour_embd'+str(i) for i in range(2)]),\n",
    "#                       left_on='tmp_index', right_index=True)\n",
    "# del(hour_embd)\n",
    "\n",
    "# hour_embd_umap = dict([(v,k) for k,v in hour_embd_umap.items()])\n",
    "# user_embd2['id'], user_embd2['geohash'] = list(zip(*user_embd2.index.map(lambda x:tuple(hour_embd_umap[x].split('_')))))\n",
    "# user_embd2['id'] = np.int64(user_embd2['id'])"
   ]
  },
  {
   "cell_type": "markdown",
   "id": "1e2417b0",
   "metadata": {},
   "source": [
    "## id+geo统计"
   ]
  },
  {
   "cell_type": "code",
   "execution_count": 105,
   "id": "597e8203",
   "metadata": {
    "ExecuteTime": {
     "end_time": "2022-08-20T05:48:16.513775Z",
     "start_time": "2022-08-20T05:47:03.967458Z"
    }
   },
   "outputs": [],
   "source": [
    "id_geo_stat = train_set.groupby(['id', 'geohash']).agg({'seconds':[np.count_nonzero, np.median, np.mean, np.std], \n",
    "                                                        'weekday':[np.median, np.mean, np.std]}).reset_index()"
   ]
  },
  {
   "cell_type": "code",
   "execution_count": null,
   "id": "3b3ee6f6",
   "metadata": {
    "ExecuteTime": {
     "end_time": "2022-08-20T05:48:16.592141Z",
     "start_time": "2022-08-20T05:48:16.524735Z"
    }
   },
   "outputs": [],
   "source": [
    "id_geo_stat.columns = ['id', 'geohash', 'count', 'sec_median', 'sec_mean', 'sec_std', 'week_median', 'week_mean', 'week_std']\n",
    "id_geo_stat.head()"
   ]
  },
  {
   "cell_type": "code",
   "execution_count": 107,
   "id": "0597d8fe",
   "metadata": {
    "ExecuteTime": {
     "end_time": "2022-08-20T05:48:18.211835Z",
     "start_time": "2022-08-20T05:48:16.595837Z"
    }
   },
   "outputs": [],
   "source": [
    "pred_most_geo = id_geo_stat.sort_values(['id','count']).groupby('id').tail(1)[['id','geohash','count']]\n",
    "pred_most_geo.columns = ['id','most_geo','most_geo_cnt']"
   ]
  },
  {
   "cell_type": "code",
   "execution_count": 108,
   "id": "5d6c5a23",
   "metadata": {
    "ExecuteTime": {
     "end_time": "2022-08-20T05:48:18.557836Z",
     "start_time": "2022-08-20T05:48:18.214836Z"
    }
   },
   "outputs": [],
   "source": [
    "id_geo_stat['id_count'] = id_geo_stat.groupby('id')['count'].transform(sum)\n",
    "id_geo_stat['id_geo_rate'] = id_geo_stat['count'] / id_geo_stat['id_count']\n",
    "# id_geo_stat = pd.merge(id_geo_stat, user_embd2.drop('tmp_index',axis=1), on=['id', 'geohash'])"
   ]
  },
  {
   "cell_type": "code",
   "execution_count": null,
   "id": "40ef2c2c",
   "metadata": {},
   "outputs": [],
   "source": []
  },
  {
   "cell_type": "markdown",
   "id": "0c3156bf",
   "metadata": {
    "ExecuteTime": {
     "end_time": "2022-08-19T23:18:39.879825Z",
     "start_time": "2022-08-19T23:18:39.865836Z"
    }
   },
   "source": [
    "## 最短时间+等待时间"
   ]
  },
  {
   "cell_type": "code",
   "execution_count": 109,
   "id": "9a196bbd",
   "metadata": {
    "ExecuteTime": {
     "end_time": "2022-08-20T05:58:14.890307Z",
     "start_time": "2022-08-20T05:48:18.561833Z"
    }
   },
   "outputs": [],
   "source": [
    "cost_time_dict = dict()\n",
    "\n",
    "for row in train_set.groupby('id'):\n",
    "    v = row[1].values\n",
    "    records_cnt = len(v)\n",
    "    \n",
    "    for i in range(records_cnt):\n",
    "        if i > 0 and v[i][1][:10] == v[i-1][1][:10]:  # same day\n",
    "            k = tuple(sorted((v[i][2], v[i-1][2])))\n",
    "            cost_time_dict[k] = cost_time_dict.get(k, []) + [v[i][4] - v[i-1][4]]\n",
    "            \n",
    "cost_time_dict = dict([(k, [np.quantile(v, 0.1), len(v), np.std(v)]) for k, v in cost_time_dict.items()])"
   ]
  },
  {
   "cell_type": "code",
   "execution_count": null,
   "id": "d81d8815",
   "metadata": {},
   "outputs": [],
   "source": []
  },
  {
   "cell_type": "markdown",
   "id": "e0359ddf",
   "metadata": {},
   "source": [
    "## 序列性预测"
   ]
  },
  {
   "cell_type": "code",
   "execution_count": 110,
   "id": "68f57c2b",
   "metadata": {
    "ExecuteTime": {
     "end_time": "2022-08-20T06:01:27.235706Z",
     "start_time": "2022-08-20T05:58:14.906304Z"
    }
   },
   "outputs": [],
   "source": [
    "# 序列计算\n",
    "\n",
    "id_sec_dict = dict(list(zip(*[val_set.id.values, val_set.seconds.values])))  # 将要预测记录的时间（秒）\n",
    "last_geo_dict = dict([(r[0], r[2]) for r in train_set.sort_values(['id','visit_time']).groupby('id').tail(1).values])  # 已知最后一条的geo\n",
    "aim_time_dict = dict([(r[0], [r[1], r[-1]]) for r in val_set.values])  # 将要预测记录的时间信息\n",
    "result_collect = []\n",
    "result_collect2 = []\n",
    "\n",
    "for row in train_set.groupby('id'):\n",
    "    v = row[1].values\n",
    "    records_cnt = len(v)\n",
    "    \n",
    "    dup_cnt = 0\n",
    "    val_sec = id_sec_dict[row[0]]\n",
    "    min_sec_geo = [999999, '']  # 逐条比对flag\n",
    "    \n",
    "    pair_dict = {}\n",
    "    pair_time_dict = {}\n",
    "    for i in range(records_cnt):\n",
    "        if i > 0 and v[i][2] == v[i-1][2]:\n",
    "            dup_cnt += 1\n",
    "        if abs(val_sec - v[i][4]) < min_sec_geo[0]:\n",
    "            min_sec_geo = [abs(val_sec - v[i][4]), v[i][2]]  # 时间（秒）最近的geo\n",
    "            \n",
    "        if i < records_cnt - 1 and v[i][2] == last_geo_dict[row[0]]:  #  沿途拿着last geo比对\n",
    "            pair_dict[v[i+1][2]] = pair_dict.get(v[i+1][2], 0) + 1\n",
    "            pair_time_dict[v[i+1][2]] = pair_time_dict.get(v[i+1][2], []) + [(datetime.strptime(v[i+1][1], '%Y-%m-%d %H:%M') - datetime.strptime(v[i][1], '%Y-%m-%d %H:%M')).total_seconds()]  # 时间\n",
    "    \n",
    "        if i == records_cnt - 1:  # 最后一条，计算与待预测数据的时间差，是否同一天\n",
    "            last_geo = v[i][2]  # 已知最后一条的geo\n",
    "            aim_last_sec = (datetime.strptime(aim_time_dict[row[0]][0], '%Y-%m-%d %H:%M') - datetime.strptime(v[i][1], '%Y-%m-%d %H:%M')).total_seconds()\n",
    "            same_day = 1 if aim_time_dict[row[0]][0][:10] == v[i][1][:10] else 0\n",
    "            \n",
    "    pair_time_dict = dict([(r[0], np.min(np.abs(np.array(r[1]) - aim_last_sec))) for r in pair_time_dict.items()])  #  取最小者\n",
    "        \n",
    "    result_collect.append([row[0], min_sec_geo[1], last_geo, dup_cnt, records_cnt, round(dup_cnt/records_cnt, 4)])\n",
    "    if len(pair_dict) > 0:\n",
    "        result_collect2.append([row[0], min(pair_time_dict.items(), key=lambda i:i[1])[0], min(pair_time_dict.values()),\n",
    "                               max(pair_dict.items(), key=lambda x:x[1])[0], max(pair_dict.items(), key=lambda x:x[1])[1],\n",
    "                               same_day])\n",
    "    else:\n",
    "        result_collect2.append([row[0], last_geo_dict[row[0]], 0, last_geo_dict[row[0]], 0, same_day])\n",
    "    \n",
    "pred_last_geo = pd.DataFrame(result_collect, columns=['id','nearest_geo','last_geo','dup_cnt','records_cnt','dup_rate'])\n",
    "pred_next_geo = pd.DataFrame(result_collect2, columns=['id','next_neartime_geo','next_neartime_geo_sec','next_geo','next_geo_cnt','same_day'])\n",
    "\n",
    "del(result_collect, result_collect2)"
   ]
  },
  {
   "cell_type": "code",
   "execution_count": null,
   "id": "34cf83cc",
   "metadata": {},
   "outputs": [],
   "source": []
  },
  {
   "cell_type": "markdown",
   "id": "a0411cf3",
   "metadata": {},
   "source": [
    "## 合并、多分类"
   ]
  },
  {
   "cell_type": "code",
   "execution_count": 111,
   "id": "0d43e803",
   "metadata": {
    "ExecuteTime": {
     "end_time": "2022-08-20T06:01:27.933794Z",
     "start_time": "2022-08-20T06:01:27.264626Z"
    }
   },
   "outputs": [
    {
     "data": {
      "text/html": [
       "<div>\n",
       "<style scoped>\n",
       "    .dataframe tbody tr th:only-of-type {\n",
       "        vertical-align: middle;\n",
       "    }\n",
       "\n",
       "    .dataframe tbody tr th {\n",
       "        vertical-align: top;\n",
       "    }\n",
       "\n",
       "    .dataframe thead th {\n",
       "        text-align: right;\n",
       "    }\n",
       "</style>\n",
       "<table border=\"1\" class=\"dataframe\">\n",
       "  <thead>\n",
       "    <tr style=\"text-align: right;\">\n",
       "      <th></th>\n",
       "      <th>id</th>\n",
       "      <th>geohash</th>\n",
       "      <th>weekday</th>\n",
       "      <th>seconds</th>\n",
       "      <th>most_geo</th>\n",
       "      <th>most_geo_cnt</th>\n",
       "      <th>nearest_geo</th>\n",
       "      <th>last_geo</th>\n",
       "      <th>dup_cnt</th>\n",
       "      <th>records_cnt</th>\n",
       "      <th>dup_rate</th>\n",
       "      <th>next_neartime_geo</th>\n",
       "      <th>next_neartime_geo_sec</th>\n",
       "      <th>next_geo</th>\n",
       "      <th>next_geo_cnt</th>\n",
       "      <th>same_day</th>\n",
       "    </tr>\n",
       "  </thead>\n",
       "  <tbody>\n",
       "    <tr>\n",
       "      <th>0</th>\n",
       "      <td>0</td>\n",
       "      <td>wm3yx3t</td>\n",
       "      <td>7</td>\n",
       "      <td>58740</td>\n",
       "      <td>wm6n2jm</td>\n",
       "      <td>49</td>\n",
       "      <td>wm3yx9y</td>\n",
       "      <td>wm6n2jm</td>\n",
       "      <td>33</td>\n",
       "      <td>83</td>\n",
       "      <td>0.3976</td>\n",
       "      <td>wm6n2jm</td>\n",
       "      <td>960.0</td>\n",
       "      <td>wm6n2jm</td>\n",
       "      <td>31</td>\n",
       "      <td>1</td>\n",
       "    </tr>\n",
       "    <tr>\n",
       "      <th>1</th>\n",
       "      <td>1</td>\n",
       "      <td>wm3vz92</td>\n",
       "      <td>6</td>\n",
       "      <td>81000</td>\n",
       "      <td>wm3vz92</td>\n",
       "      <td>36</td>\n",
       "      <td>wm3vz92</td>\n",
       "      <td>wm3vz92</td>\n",
       "      <td>26</td>\n",
       "      <td>91</td>\n",
       "      <td>0.2857</td>\n",
       "      <td>wm3vz98</td>\n",
       "      <td>3900.0</td>\n",
       "      <td>wm3vz92</td>\n",
       "      <td>15</td>\n",
       "      <td>1</td>\n",
       "    </tr>\n",
       "  </tbody>\n",
       "</table>\n",
       "</div>"
      ],
      "text/plain": [
       "   id  geohash  weekday  seconds most_geo  most_geo_cnt nearest_geo last_geo  \\\n",
       "0   0  wm3yx3t        7    58740  wm6n2jm            49     wm3yx9y  wm6n2jm   \n",
       "1   1  wm3vz92        6    81000  wm3vz92            36     wm3vz92  wm3vz92   \n",
       "\n",
       "   dup_cnt  records_cnt  dup_rate next_neartime_geo  next_neartime_geo_sec  \\\n",
       "0       33           83    0.3976           wm6n2jm                  960.0   \n",
       "1       26           91    0.2857           wm3vz98                 3900.0   \n",
       "\n",
       "  next_geo  next_geo_cnt  same_day  \n",
       "0  wm6n2jm            31         1  \n",
       "1  wm3vz92            15         1  "
      ]
     },
     "execution_count": 111,
     "metadata": {},
     "output_type": "execute_result"
    }
   ],
   "source": [
    "val_merge_set = pd.merge(val_set.drop('visit_time',axis=1), pred_most_geo, on='id')\n",
    "val_merge_set = pd.merge(val_merge_set, pred_last_geo, on='id')\n",
    "val_merge_set = pd.merge(val_merge_set, pred_next_geo, on='id')\n",
    "\n",
    "val_merge_set.head(2)"
   ]
  },
  {
   "cell_type": "code",
   "execution_count": null,
   "id": "caf1c2e9",
   "metadata": {},
   "outputs": [],
   "source": []
  },
  {
   "cell_type": "markdown",
   "id": "9ab98e33",
   "metadata": {
    "tags": []
   },
   "source": [
    "### 做标签、做剩余特征"
   ]
  },
  {
   "cell_type": "code",
   "execution_count": 112,
   "id": "f360f48e",
   "metadata": {
    "ExecuteTime": {
     "end_time": "2022-08-20T06:01:50.216345Z",
     "start_time": "2022-08-20T06:01:27.936796Z"
    },
    "tags": []
   },
   "outputs": [],
   "source": [
    "def tmp(x):\n",
    "    bingo_list = []\n",
    "    if x.geohash == x.most_geo:\n",
    "        bingo_list.append(1)\n",
    "    if x.geohash == x.nearest_geo:\n",
    "        bingo_list.append(2)\n",
    "    if x.geohash == x.next_neartime_geo:\n",
    "        bingo_list.append(5)\n",
    "\n",
    "    return bingo_list, round(x.most_geo_cnt / x.records_cnt, 4), round(x.next_geo_cnt / x.records_cnt, 4)\n",
    "    \n",
    "val_merge_set['bingo_list'], val_merge_set['most_geo_rate'], val_merge_set['next_geo_rate'] = list(zip(*val_merge_set.apply(tmp, axis=1)))"
   ]
  },
  {
   "cell_type": "code",
   "execution_count": null,
   "id": "8134acca",
   "metadata": {
    "ExecuteTime": {
     "end_time": "2022-08-20T02:47:37.390830Z",
     "start_time": "2022-08-20T02:47:35.489247Z"
    },
    "tags": []
   },
   "outputs": [],
   "source": [
    "val_merge_set['bingo_list'].value_counts()\n",
    "# 1 2 5"
   ]
  },
  {
   "cell_type": "code",
   "execution_count": null,
   "id": "5908a300-3c89-4e98-b160-3b7d60355992",
   "metadata": {},
   "outputs": [],
   "source": [
    "[]           90951\n",
    "[1, 2, 5]    30132\n",
    "[1, 2]       15594\n",
    "[2]          15385\n",
    "[5]          14071\n",
    "[2, 5]       13776\n",
    "[1]          11167\n",
    "[1, 5]        8924"
   ]
  },
  {
   "cell_type": "code",
   "execution_count": 113,
   "id": "32e284ff",
   "metadata": {
    "ExecuteTime": {
     "end_time": "2022-08-20T06:01:50.355182Z",
     "start_time": "2022-08-20T06:01:50.219216Z"
    }
   },
   "outputs": [
    {
     "data": {
      "text/plain": [
       "0.545245"
      ]
     },
     "execution_count": 113,
     "metadata": {},
     "output_type": "execute_result"
    }
   ],
   "source": [
    "# 二阶段上限准确率\n",
    "sum(val_merge_set.bingo_list.map(lambda x:1 if len(x) > 0 else 0)) / 200000"
   ]
  },
  {
   "cell_type": "markdown",
   "id": "03e534ea",
   "metadata": {},
   "source": [
    "1 2 5: 0.545245"
   ]
  },
  {
   "cell_type": "code",
   "execution_count": null,
   "id": "e05c62af",
   "metadata": {},
   "outputs": [],
   "source": []
  },
  {
   "cell_type": "code",
   "execution_count": 114,
   "id": "916c0a05",
   "metadata": {
    "ExecuteTime": {
     "end_time": "2022-08-20T06:02:04.678368Z",
     "start_time": "2022-08-20T06:01:50.357177Z"
    }
   },
   "outputs": [],
   "source": [
    "val_merge_set['last_most_min_sec'],val_merge_set['last_most_min_cnt'],val_merge_set['last_most_min_std'] = list(zip(\\\n",
    "    *val_merge_set.apply(lambda x:cost_time_dict.get(tuple(sorted((x.last_geo, x.most_geo))),[0,0,0]),axis=1)))\n",
    "val_merge_set['last_nearest_min_sec'],val_merge_set['last_nearest_min_cnt'],val_merge_set['last_nearest_min_std'] = list(zip(\\\n",
    "    *val_merge_set.apply(lambda x:cost_time_dict.get(tuple(sorted((x.last_geo, x.nearest_geo))),[0,0,0]),axis=1)))\n",
    "val_merge_set['last_neartime_min_sec'],val_merge_set['last_neartime_min_cnt'],val_merge_set['last_neartime_min_std'] = list(zip(\\\n",
    "    *val_merge_set.apply(lambda x:cost_time_dict.get(tuple(sorted((x.last_geo, x.next_neartime_geo))),[0,0,0]),axis=1)))"
   ]
  },
  {
   "cell_type": "code",
   "execution_count": 115,
   "id": "f7574a65",
   "metadata": {
    "ExecuteTime": {
     "end_time": "2022-08-20T06:02:05.156237Z",
     "start_time": "2022-08-20T06:02:04.681237Z"
    }
   },
   "outputs": [],
   "source": [
    "del(cost_time_dict)"
   ]
  },
  {
   "cell_type": "code",
   "execution_count": 116,
   "id": "21e4ee6c",
   "metadata": {
    "ExecuteTime": {
     "end_time": "2022-08-20T06:02:20.042502Z",
     "start_time": "2022-08-20T06:02:05.159234Z"
    }
   },
   "outputs": [],
   "source": [
    "val_merge_set = pd.merge(val_merge_set, id_geo_stat.rename({**{'geohash':'most_geo'}, **dict([(x, 'most_geo_'+x) for x in id_geo_stat.columns[2:]])},axis=1), on=['id','most_geo'])\n",
    "val_merge_set = pd.merge(val_merge_set, id_geo_stat.rename({**{'geohash':'nearest_geo'}, **dict([(x, 'nearest_geo_'+x) for x in id_geo_stat.columns[2:]])},axis=1), on=['id','nearest_geo'])\n",
    "val_merge_set = pd.merge(val_merge_set, id_geo_stat.rename({**{'geohash':'next_neartime_geo'}, **dict([(x, 'next_neartime_geo_'+x) for x in id_geo_stat.columns[2:]])},axis=1), on=['id','next_neartime_geo'])\n",
    "# val_merge_set = pd.merge(val_merge_set, id_geo_stat.rename({**{'geohash':'next_geo'}, **dict([(x, 'next_geo_'+x) for x in id_geo_stat.columns[2:]])},axis=1), on=['id','next_geo'])"
   ]
  },
  {
   "cell_type": "markdown",
   "id": "8731dc92",
   "metadata": {},
   "source": [
    "### 再补充一些最终时间的差值特征"
   ]
  },
  {
   "cell_type": "code",
   "execution_count": 117,
   "id": "f79ebeed",
   "metadata": {
    "ExecuteTime": {
     "end_time": "2022-08-20T06:02:50.076961Z",
     "start_time": "2022-08-20T06:02:20.065506Z"
    },
    "scrolled": true
   },
   "outputs": [],
   "source": [
    "# parallel_apply\n",
    "val_merge_set['most_week_diff_median'] = val_merge_set.apply(lambda x:abs(x.weekday - x.most_geo_week_median), axis=1)\n",
    "val_merge_set['nearest_week_diff_median'] = val_merge_set.apply(lambda x:abs(x.weekday - x.nearest_geo_week_median), axis=1)\n",
    "val_merge_set['neartime_week_diff_median'] = val_merge_set.apply(lambda x:abs(x.weekday - x.next_neartime_geo_week_median), axis=1)\n",
    "\n",
    "val_merge_set['most_sec_diff_median'] = val_merge_set.apply(lambda x:abs(x.seconds - x.most_geo_sec_median), axis=1)\n",
    "val_merge_set['nearest_sec_diff_median'] = val_merge_set.apply(lambda x:abs(x.seconds - x.nearest_geo_sec_median), axis=1)\n",
    "val_merge_set['neartime_sec_diff_median'] = val_merge_set.apply(lambda x:abs(x.seconds - x.next_neartime_geo_sec_median), axis=1)"
   ]
  },
  {
   "cell_type": "code",
   "execution_count": 118,
   "id": "e913af94",
   "metadata": {
    "ExecuteTime": {
     "end_time": "2022-08-20T06:03:14.185757Z",
     "start_time": "2022-08-20T06:02:50.080919Z"
    },
    "scrolled": true
   },
   "outputs": [],
   "source": [
    "val_merge_set['most_week_diff_mean'] = val_merge_set.apply(lambda x:abs(x.weekday - x.most_geo_week_mean), axis=1)\n",
    "val_merge_set['nearest_week_diff_mean'] = val_merge_set.apply(lambda x:abs(x.weekday - x.nearest_geo_week_mean), axis=1)\n",
    "val_merge_set['neartime_week_diff_mean'] = val_merge_set.apply(lambda x:abs(x.weekday - x.next_neartime_geo_week_mean), axis=1)\n",
    "\n",
    "val_merge_set['most_sec_diff_mean'] = val_merge_set.apply(lambda x:abs(x.seconds - x.most_geo_sec_mean), axis=1)\n",
    "val_merge_set['nearest_sec_diff_mean'] = val_merge_set.apply(lambda x:abs(x.seconds - x.nearest_geo_sec_mean), axis=1)\n",
    "val_merge_set['neartime_sec_diff_mean'] = val_merge_set.apply(lambda x:abs(x.seconds - x.next_neartime_geo_sec_mean), axis=1)"
   ]
  },
  {
   "cell_type": "code",
   "execution_count": null,
   "id": "cacdc987",
   "metadata": {},
   "outputs": [],
   "source": []
  },
  {
   "cell_type": "markdown",
   "id": "8222b8f7",
   "metadata": {
    "ExecuteTime": {
     "end_time": "2022-08-18T09:05:14.795388Z",
     "start_time": "2022-08-18T09:05:14.789388Z"
    }
   },
   "source": [
    "### 一些最终距离的差值特征"
   ]
  },
  {
   "cell_type": "code",
   "execution_count": 45,
   "id": "e8727d8c",
   "metadata": {
    "ExecuteTime": {
     "end_time": "2022-08-20T02:48:40.753091Z",
     "start_time": "2022-08-20T02:48:40.741089Z"
    }
   },
   "outputs": [],
   "source": [
    "def calc_distance(row):\n",
    "    from math import acos, asin, cos, sin, sqrt, pi\n",
    "    import geohash\n",
    "            \n",
    "    ap_latlon, bp_latlon = row\n",
    "    \n",
    "    ap_latlon = geohash.decode(ap_latlon)\n",
    "    bp_latlon = geohash.decode(bp_latlon)\n",
    "        \n",
    "    radLat1 = ap_latlon[0] * pi / 180.0;\n",
    "    radLat2 = bp_latlon[0] * pi / 180.0;\n",
    "    diffLat = radLat1 - radLat2;\n",
    "    \n",
    "    radLng1 = ap_latlon[1] * pi / 180.0;\n",
    "    radLng2 = bp_latlon[1] * pi / 180.0;\n",
    "    diffLng = radLng1 - radLng2;\n",
    "    \n",
    "    dist = 2 * asin(sqrt(pow(sin(diffLat / 2), 2) + cos(radLat1) * cos(radLat2) * pow(sin(diffLng / 2), 2))) * 6371000\n",
    "\n",
    "    return dist"
   ]
  },
  {
   "cell_type": "code",
   "execution_count": 119,
   "id": "d76e7f8c",
   "metadata": {
    "ExecuteTime": {
     "end_time": "2022-08-20T06:03:21.618276Z",
     "start_time": "2022-08-20T06:03:14.189753Z"
    }
   },
   "outputs": [],
   "source": [
    "val_merge_set['most_geo_dist'] = val_merge_set[['last_geo','most_geo']].apply(calc_distance, axis=1)\n",
    "val_merge_set['nearest_geo_dist'] = val_merge_set[['last_geo','nearest_geo']].apply(calc_distance, axis=1)\n",
    "val_merge_set['next_neartime_geo_dist'] = val_merge_set[['last_geo','next_neartime_geo']].apply(calc_distance, axis=1)"
   ]
  },
  {
   "cell_type": "code",
   "execution_count": 120,
   "id": "3433b184",
   "metadata": {
    "ExecuteTime": {
     "end_time": "2022-08-20T06:03:36.964189Z",
     "start_time": "2022-08-20T06:03:21.623186Z"
    }
   },
   "outputs": [],
   "source": [
    "val_merge_set['most_geo_speed_median'] = val_merge_set.apply(lambda x:-1 if x.most_sec_diff_median == 0 else x.most_geo_dist / x.most_sec_diff_median,axis=1)\n",
    "val_merge_set['nearest_geo_speed_median'] = val_merge_set.apply(lambda x:-1 if x.nearest_sec_diff_median == 0 else x.nearest_geo_dist / x.nearest_sec_diff_median,axis=1)\n",
    "val_merge_set['next_neartime_geo_speed_median'] = val_merge_set.apply(lambda x:-1 if x.neartime_sec_diff_median == 0 else x.next_neartime_geo_dist / x.neartime_sec_diff_median,axis=1)"
   ]
  },
  {
   "cell_type": "code",
   "execution_count": 121,
   "id": "814bf866",
   "metadata": {
    "ExecuteTime": {
     "end_time": "2022-08-20T06:03:50.963101Z",
     "start_time": "2022-08-20T06:03:36.967153Z"
    }
   },
   "outputs": [],
   "source": [
    "val_merge_set['most_geo_speed_mean'] = val_merge_set.apply(lambda x:-1 if x.most_sec_diff_mean == 0 else x.most_geo_dist / x.most_sec_diff_mean,axis=1)\n",
    "val_merge_set['nearest_geo_speed_mean'] = val_merge_set.apply(lambda x:-1 if x.nearest_sec_diff_mean == 0 else x.nearest_geo_dist / x.nearest_sec_diff_mean,axis=1)\n",
    "val_merge_set['next_neartime_geo_speed_mean'] = val_merge_set.apply(lambda x:-1 if x.neartime_sec_diff_mean == 0 else x.next_neartime_geo_dist / x.neartime_sec_diff_mean,axis=1)"
   ]
  },
  {
   "cell_type": "code",
   "execution_count": null,
   "id": "7b6692a2",
   "metadata": {},
   "outputs": [],
   "source": []
  },
  {
   "cell_type": "code",
   "execution_count": 49,
   "id": "0a910a5b",
   "metadata": {
    "ExecuteTime": {
     "end_time": "2022-08-20T02:49:12.986958Z",
     "start_time": "2022-08-20T02:49:12.971712Z"
    },
    "collapsed": true,
    "jupyter": {
     "outputs_hidden": true
    },
    "tags": []
   },
   "outputs": [
    {
     "data": {
      "text/plain": [
       "Index(['id', 'geohash', 'weekday', 'seconds', 'most_geo', 'most_geo_cnt',\n",
       "       'nearest_geo', 'last_geo', 'dup_cnt', 'records_cnt', 'dup_rate',\n",
       "       'next_neartime_geo', 'next_neartime_geo_sec', 'next_geo',\n",
       "       'next_geo_cnt', 'same_day', 'bingo_list', 'most_geo_rate',\n",
       "       'next_geo_rate', 'last_most_min_sec', 'last_most_min_cnt',\n",
       "       'last_most_min_std', 'last_nearest_min_sec', 'last_nearest_min_cnt',\n",
       "       'last_nearest_min_std', 'last_neartime_min_sec',\n",
       "       'last_neartime_min_cnt', 'last_neartime_min_std', 'most_geo_count',\n",
       "       'most_geo_sec_median', 'most_geo_sec_mean', 'most_geo_sec_std',\n",
       "       'most_geo_week_median', 'most_geo_week_mean', 'most_geo_week_std',\n",
       "       'most_geo_id_count', 'most_geo_id_geo_rate', 'nearest_geo_count',\n",
       "       'nearest_geo_sec_median', 'nearest_geo_sec_mean', 'nearest_geo_sec_std',\n",
       "       'nearest_geo_week_median', 'nearest_geo_week_mean',\n",
       "       'nearest_geo_week_std', 'nearest_geo_id_count',\n",
       "       'nearest_geo_id_geo_rate', 'next_neartime_geo_count',\n",
       "       'next_neartime_geo_sec_median', 'next_neartime_geo_sec_mean',\n",
       "       'next_neartime_geo_sec_std', 'next_neartime_geo_week_median',\n",
       "       'next_neartime_geo_week_mean', 'next_neartime_geo_week_std',\n",
       "       'next_neartime_geo_id_count', 'next_neartime_geo_id_geo_rate',\n",
       "       'most_week_diff_median', 'nearest_week_diff_median',\n",
       "       'neartime_week_diff_median', 'most_sec_diff_median',\n",
       "       'nearest_sec_diff_median', 'neartime_sec_diff_median',\n",
       "       'most_week_diff_mean', 'nearest_week_diff_mean',\n",
       "       'neartime_week_diff_mean', 'most_sec_diff_mean',\n",
       "       'nearest_sec_diff_mean', 'neartime_sec_diff_mean', 'most_geo_dist',\n",
       "       'nearest_geo_dist', 'next_neartime_geo_dist', 'most_geo_speed_median',\n",
       "       'nearest_geo_speed_median', 'next_neartime_geo_speed_median',\n",
       "       'most_geo_speed_mean', 'nearest_geo_speed_mean',\n",
       "       'next_neartime_geo_speed_mean'],\n",
       "      dtype='object')"
      ]
     },
     "execution_count": 49,
     "metadata": {},
     "output_type": "execute_result"
    }
   ],
   "source": [
    "val_merge_set.columns"
   ]
  },
  {
   "cell_type": "code",
   "execution_count": 122,
   "id": "48b28a00",
   "metadata": {
    "ExecuteTime": {
     "end_time": "2022-08-20T06:03:54.000815Z",
     "start_time": "2022-08-20T06:03:50.965952Z"
    }
   },
   "outputs": [],
   "source": [
    "choice_set = val_merge_set.explode('bingo_list').query('bingo_list > 0').drop(['id','geohash','nearest_geo','next_neartime_geo','most_geo','last_geo','next_geo'],axis=1)"
   ]
  },
  {
   "cell_type": "markdown",
   "id": "34cd0ab4",
   "metadata": {
    "ExecuteTime": {
     "end_time": "2022-08-19T23:25:21.726170Z",
     "start_time": "2022-08-19T23:25:21.720170Z"
    }
   },
   "source": [
    "### Ensemble"
   ]
  },
  {
   "cell_type": "code",
   "execution_count": 82,
   "id": "815e6381",
   "metadata": {
    "ExecuteTime": {
     "end_time": "2022-08-20T03:59:10.588876Z",
     "start_time": "2022-08-20T03:46:50.058605Z"
    },
    "tags": []
   },
   "outputs": [
    {
     "name": "stdout",
     "output_type": "stream",
     "text": [
      "{'colsample_bytree': 0.85, 'learning_rate': 0.1, 'n_estimators': 80}\n",
      "nan\n",
      "XGBClassifier(base_score=0.5, booster='gbtree', colsample_bylevel=1,\n",
      "              colsample_bynode=1, colsample_bytree=0.85, gamma=0, gpu_id=-1,\n",
      "              importance_type='gain', interaction_constraints='',\n",
      "              learning_rate=0.1, max_delta_step=0, max_depth=2,\n",
      "              min_child_weight=1, missing=nan, monotone_constraints='()',\n",
      "              n_estimators=80, n_jobs=8, num_parallel_tree=1,\n",
      "              objective='multi:softprob', random_state=42, reg_alpha=0,\n",
      "              reg_lambda=1, scale_pos_weight=None, subsample=1,\n",
      "              tree_method='exact', validate_parameters=1, verbosity=None)\n"
     ]
    }
   ],
   "source": [
    "# model = xgb.XGBClassifier(objective='multi:softprob', colsample_bytree=0.9, learning_rate=0.3, n_estimators = 90, max_depth = 2, random_state = 42)\n",
    "\n",
    "# # 设置网格参数\n",
    "# params = [{'n_estimators': [80, 75, 70], 'colsample_bytree': [0.85, 0.8], 'learning_rate':[0.1, 0.15, 0.2]}]\n",
    "# model = GridSearchCV(model, params, cv=3)\n",
    "# model.fit(choice_set.drop(['bingo_list'],axis=1), choice_set.bingo_list, eval_metric='mlogloss')\n",
    "\n",
    "# print(model.best_params_)   # 最优参数\n",
    "# print(model.best_score_)    # 最好得分\n",
    "# print(model.best_estimator_)"
   ]
  },
  {
   "cell_type": "code",
   "execution_count": null,
   "id": "815782b9",
   "metadata": {
    "ExecuteTime": {
     "end_time": "2022-08-20T06:34:32.557250Z",
     "start_time": "2022-08-20T06:24:48.445223Z"
    },
    "tags": []
   },
   "outputs": [],
   "source": [
    "def train_func(params, dt=val_merge_set):\n",
    "    kf = KFold(n_splits=3)\n",
    "    kf.get_n_splits(choice_set)\n",
    "    \n",
    "    for i, (train_index, test_index) in enumerate(kf.split(choice_set)):\n",
    "        X_train, X_test = choice_set.drop(['bingo_list'],axis=1).iloc[train_index], choice_set.drop(['bingo_list'],axis=1).iloc[test_index]\n",
    "        y_train, y_test = choice_set['bingo_list'].iloc[train_index], choice_set['bingo_list'].iloc[test_index]\n",
    "        \n",
    "        model = xgb.XGBClassifier(**params, colsample_bytree = 0.85, learning_rate = 0.4, objective='multi:softprob', )\n",
    "        model.fit(X_train.values, y_train, eval_metric='mlogloss')\n",
    "        model_class_dict = dict([(i, x) for i, x in enumerate(model.classes_)])\n",
    "        \n",
    "        train_acc = sum(np.array([model_class_dict[list(x).index(max(x))] for x in model.predict_proba(X_train)]) == y_train) / len(y_train)\n",
    "        test_acc = sum(np.array([model_class_dict[list(x).index(max(x))] for x in model.predict_proba(X_test)]) == y_test) / len(y_test)\n",
    "    \n",
    "        dt['pred'] = np.array([model_class_dict[list(x).index(max(x))] for x in model.predict_proba(dt[X_train.columns])])\n",
    "    \n",
    "        # 1 2 5 0.46114\n",
    "        val_actu_acc = sum(dt.apply(lambda x:1 if (x.pred == 1 and x.geohash == x.most_geo) or (x.pred == 2 and x.geohash == x.nearest_geo) or (x.pred == 5 and x.geohash == x.next_neartime_geo) else 0,axis=1)) / 200000\n",
    "        dt = dt.drop('pred', axis=1)\n",
    "        \n",
    "    print(np.mean(train_acc), np.mean(test_acc), np.mean(val_actu_acc))\n",
    "    \n",
    "for m in [5]:\n",
    "    for n in (200, 180):\n",
    "        params = {'max_depth':m, 'n_estimators':n}\n",
    "        print(params)\n",
    "        train_func(params)"
   ]
  },
  {
   "cell_type": "code",
   "execution_count": null,
   "id": "e9db60ac",
   "metadata": {},
   "outputs": [],
   "source": []
  },
  {
   "cell_type": "code",
   "execution_count": 125,
   "id": "279bf676",
   "metadata": {
    "ExecuteTime": {
     "end_time": "2022-08-20T06:36:27.204266Z",
     "start_time": "2022-08-20T06:34:57.156840Z"
    },
    "tags": []
   },
   "outputs": [
    {
     "name": "stdout",
     "output_type": "stream",
     "text": [
      "[14:34:58] WARNING: C:/Users/Administrator/workspace/xgboost-win64_release_1.4.0/src/learner.cc:1095: Starting in XGBoost 1.3.0, the default evaluation metric used with the objective 'multi:softprob' was changed from 'merror' to 'mlogloss'. Explicitly set eval_metric if you'd like to restore the old behavior.\n"
     ]
    }
   ],
   "source": [
    "X_train, X_test, y_train, y_test = train_test_split(choice_set.drop(['bingo_list'],axis=1), choice_set.bingo_list, test_size=0.1)\n",
    "model = xgb.XGBClassifier(objective='multi:softprob', colsample_bytree=0.85, learning_rate=0.4, n_estimators = 180, max_depth = 4, random_state = 5)\n",
    "model.fit(X_train, y_train)\n",
    "model_class_dict = dict([(i, x) for i, x in enumerate(model.classes_)])"
   ]
  },
  {
   "cell_type": "markdown",
   "id": "4cef4c64",
   "metadata": {},
   "source": [
    "0.48 0.47 objective='multi:softprob', colsample_bytree=0.85, learning_rate=0.3, n_estimators = 90, max_depth = 2, random_state = 42\n",
    "\n",
    "0.45 0.43 colsample_bytree=1, learning_rate=0.3, n_estimators = 90 \n",
    "\n",
    "0.45 0.42 colsample_bytree=0.85, learning_rate=0.4, n_estimators = 180"
   ]
  },
  {
   "cell_type": "code",
   "execution_count": 126,
   "id": "a85a0409",
   "metadata": {
    "ExecuteTime": {
     "end_time": "2022-08-20T06:36:35.153565Z",
     "start_time": "2022-08-20T06:36:27.207233Z"
    }
   },
   "outputs": [
    {
     "name": "stdout",
     "output_type": "stream",
     "text": [
      "train acc 0.47505967481241235\n",
      "test acc 0.3693945378353644\n",
      "val actu acc 0.48216\n"
     ]
    }
   ],
   "source": [
    "print('train acc', sum(np.array([model_class_dict[list(x).index(max(x))] for x in model.predict_proba(X_train)]) == y_train) / len(y_train))\n",
    "print('test acc', sum(np.array([model_class_dict[list(x).index(max(x))] for x in model.predict_proba(X_test)]) == y_test) / len(y_test))\n",
    "\n",
    "val_merge_set['pred'] = np.array([model_class_dict[list(x).index(max(x))] for x in model.predict_proba(val_merge_set[X_train.columns])])\n",
    "\n",
    "# 1 2 5 0.465435\n",
    "print('val actu acc', sum(val_merge_set.apply(lambda x:1 if (x.pred == 1 and x.geohash == x.most_geo) or (x.pred == 2 and x.geohash == x.nearest_geo) or (x.pred == 5 and x.geohash == x.next_neartime_geo) else 0,axis=1)) / 200000)\n",
    "val_merge_set = val_merge_set.drop('pred', axis=1)"
   ]
  },
  {
   "cell_type": "code",
   "execution_count": 127,
   "id": "cf57d479",
   "metadata": {
    "ExecuteTime": {
     "end_time": "2022-08-20T06:36:35.325936Z",
     "start_time": "2022-08-20T06:36:35.155522Z"
    },
    "collapsed": true,
    "jupyter": {
     "outputs_hidden": true
    },
    "tags": []
   },
   "outputs": [
    {
     "data": {
      "text/html": [
       "<div>\n",
       "<style scoped>\n",
       "    .dataframe tbody tr th:only-of-type {\n",
       "        vertical-align: middle;\n",
       "    }\n",
       "\n",
       "    .dataframe tbody tr th {\n",
       "        vertical-align: top;\n",
       "    }\n",
       "\n",
       "    .dataframe thead th {\n",
       "        text-align: right;\n",
       "    }\n",
       "</style>\n",
       "<table border=\"1\" class=\"dataframe\">\n",
       "  <thead>\n",
       "    <tr style=\"text-align: right;\">\n",
       "      <th></th>\n",
       "      <th>cols</th>\n",
       "      <th>fi</th>\n",
       "    </tr>\n",
       "  </thead>\n",
       "  <tbody>\n",
       "    <tr>\n",
       "      <th>56</th>\n",
       "      <td>most_sec_diff_mean</td>\n",
       "      <td>0.091634</td>\n",
       "    </tr>\n",
       "    <tr>\n",
       "      <th>38</th>\n",
       "      <td>next_neartime_geo_count</td>\n",
       "      <td>0.070278</td>\n",
       "    </tr>\n",
       "    <tr>\n",
       "      <th>46</th>\n",
       "      <td>next_neartime_geo_id_geo_rate</td>\n",
       "      <td>0.058399</td>\n",
       "    </tr>\n",
       "    <tr>\n",
       "      <th>29</th>\n",
       "      <td>nearest_geo_count</td>\n",
       "      <td>0.053357</td>\n",
       "    </tr>\n",
       "    <tr>\n",
       "      <th>8</th>\n",
       "      <td>same_day</td>\n",
       "      <td>0.050484</td>\n",
       "    </tr>\n",
       "    <tr>\n",
       "      <th>37</th>\n",
       "      <td>nearest_geo_id_geo_rate</td>\n",
       "      <td>0.042693</td>\n",
       "    </tr>\n",
       "    <tr>\n",
       "      <th>58</th>\n",
       "      <td>neartime_sec_diff_mean</td>\n",
       "      <td>0.038537</td>\n",
       "    </tr>\n",
       "    <tr>\n",
       "      <th>57</th>\n",
       "      <td>nearest_sec_diff_mean</td>\n",
       "      <td>0.037546</td>\n",
       "    </tr>\n",
       "    <tr>\n",
       "      <th>52</th>\n",
       "      <td>neartime_sec_diff_median</td>\n",
       "      <td>0.032140</td>\n",
       "    </tr>\n",
       "    <tr>\n",
       "      <th>50</th>\n",
       "      <td>most_sec_diff_median</td>\n",
       "      <td>0.031145</td>\n",
       "    </tr>\n",
       "    <tr>\n",
       "      <th>60</th>\n",
       "      <td>nearest_geo_dist</td>\n",
       "      <td>0.023521</td>\n",
       "    </tr>\n",
       "    <tr>\n",
       "      <th>12</th>\n",
       "      <td>last_most_min_cnt</td>\n",
       "      <td>0.022230</td>\n",
       "    </tr>\n",
       "    <tr>\n",
       "      <th>15</th>\n",
       "      <td>last_nearest_min_cnt</td>\n",
       "      <td>0.021600</td>\n",
       "    </tr>\n",
       "    <tr>\n",
       "      <th>18</th>\n",
       "      <td>last_neartime_min_cnt</td>\n",
       "      <td>0.020636</td>\n",
       "    </tr>\n",
       "    <tr>\n",
       "      <th>49</th>\n",
       "      <td>neartime_week_diff_median</td>\n",
       "      <td>0.018368</td>\n",
       "    </tr>\n",
       "    <tr>\n",
       "      <th>54</th>\n",
       "      <td>nearest_week_diff_mean</td>\n",
       "      <td>0.018226</td>\n",
       "    </tr>\n",
       "    <tr>\n",
       "      <th>51</th>\n",
       "      <td>nearest_sec_diff_median</td>\n",
       "      <td>0.016688</td>\n",
       "    </tr>\n",
       "    <tr>\n",
       "      <th>59</th>\n",
       "      <td>most_geo_dist</td>\n",
       "      <td>0.016446</td>\n",
       "    </tr>\n",
       "    <tr>\n",
       "      <th>35</th>\n",
       "      <td>nearest_geo_week_std</td>\n",
       "      <td>0.014250</td>\n",
       "    </tr>\n",
       "    <tr>\n",
       "      <th>41</th>\n",
       "      <td>next_neartime_geo_sec_std</td>\n",
       "      <td>0.013447</td>\n",
       "    </tr>\n",
       "    <tr>\n",
       "      <th>64</th>\n",
       "      <td>next_neartime_geo_speed_median</td>\n",
       "      <td>0.013203</td>\n",
       "    </tr>\n",
       "    <tr>\n",
       "      <th>55</th>\n",
       "      <td>neartime_week_diff_mean</td>\n",
       "      <td>0.013046</td>\n",
       "    </tr>\n",
       "    <tr>\n",
       "      <th>6</th>\n",
       "      <td>next_neartime_geo_sec</td>\n",
       "      <td>0.012559</td>\n",
       "    </tr>\n",
       "    <tr>\n",
       "      <th>62</th>\n",
       "      <td>most_geo_speed_median</td>\n",
       "      <td>0.012327</td>\n",
       "    </tr>\n",
       "    <tr>\n",
       "      <th>48</th>\n",
       "      <td>nearest_week_diff_median</td>\n",
       "      <td>0.012319</td>\n",
       "    </tr>\n",
       "    <tr>\n",
       "      <th>1</th>\n",
       "      <td>seconds</td>\n",
       "      <td>0.011899</td>\n",
       "    </tr>\n",
       "    <tr>\n",
       "      <th>61</th>\n",
       "      <td>next_neartime_geo_dist</td>\n",
       "      <td>0.011050</td>\n",
       "    </tr>\n",
       "    <tr>\n",
       "      <th>10</th>\n",
       "      <td>next_geo_rate</td>\n",
       "      <td>0.010518</td>\n",
       "    </tr>\n",
       "    <tr>\n",
       "      <th>23</th>\n",
       "      <td>most_geo_sec_std</td>\n",
       "      <td>0.009794</td>\n",
       "    </tr>\n",
       "    <tr>\n",
       "      <th>44</th>\n",
       "      <td>next_neartime_geo_week_std</td>\n",
       "      <td>0.009242</td>\n",
       "    </tr>\n",
       "    <tr>\n",
       "      <th>14</th>\n",
       "      <td>last_nearest_min_sec</td>\n",
       "      <td>0.009076</td>\n",
       "    </tr>\n",
       "    <tr>\n",
       "      <th>32</th>\n",
       "      <td>nearest_geo_sec_std</td>\n",
       "      <td>0.008915</td>\n",
       "    </tr>\n",
       "    <tr>\n",
       "      <th>11</th>\n",
       "      <td>last_most_min_sec</td>\n",
       "      <td>0.008906</td>\n",
       "    </tr>\n",
       "    <tr>\n",
       "      <th>7</th>\n",
       "      <td>next_geo_cnt</td>\n",
       "      <td>0.008786</td>\n",
       "    </tr>\n",
       "    <tr>\n",
       "      <th>0</th>\n",
       "      <td>weekday</td>\n",
       "      <td>0.008380</td>\n",
       "    </tr>\n",
       "    <tr>\n",
       "      <th>53</th>\n",
       "      <td>most_week_diff_mean</td>\n",
       "      <td>0.008328</td>\n",
       "    </tr>\n",
       "    <tr>\n",
       "      <th>17</th>\n",
       "      <td>last_neartime_min_sec</td>\n",
       "      <td>0.007760</td>\n",
       "    </tr>\n",
       "    <tr>\n",
       "      <th>16</th>\n",
       "      <td>last_nearest_min_std</td>\n",
       "      <td>0.007647</td>\n",
       "    </tr>\n",
       "    <tr>\n",
       "      <th>19</th>\n",
       "      <td>last_neartime_min_std</td>\n",
       "      <td>0.007584</td>\n",
       "    </tr>\n",
       "    <tr>\n",
       "      <th>63</th>\n",
       "      <td>nearest_geo_speed_median</td>\n",
       "      <td>0.006758</td>\n",
       "    </tr>\n",
       "    <tr>\n",
       "      <th>13</th>\n",
       "      <td>last_most_min_std</td>\n",
       "      <td>0.006097</td>\n",
       "    </tr>\n",
       "    <tr>\n",
       "      <th>9</th>\n",
       "      <td>most_geo_rate</td>\n",
       "      <td>0.005675</td>\n",
       "    </tr>\n",
       "    <tr>\n",
       "      <th>31</th>\n",
       "      <td>nearest_geo_sec_mean</td>\n",
       "      <td>0.005206</td>\n",
       "    </tr>\n",
       "    <tr>\n",
       "      <th>43</th>\n",
       "      <td>next_neartime_geo_week_mean</td>\n",
       "      <td>0.005190</td>\n",
       "    </tr>\n",
       "    <tr>\n",
       "      <th>65</th>\n",
       "      <td>most_geo_speed_mean</td>\n",
       "      <td>0.005124</td>\n",
       "    </tr>\n",
       "    <tr>\n",
       "      <th>33</th>\n",
       "      <td>nearest_geo_week_median</td>\n",
       "      <td>0.005067</td>\n",
       "    </tr>\n",
       "    <tr>\n",
       "      <th>22</th>\n",
       "      <td>most_geo_sec_mean</td>\n",
       "      <td>0.005011</td>\n",
       "    </tr>\n",
       "    <tr>\n",
       "      <th>47</th>\n",
       "      <td>most_week_diff_median</td>\n",
       "      <td>0.004985</td>\n",
       "    </tr>\n",
       "    <tr>\n",
       "      <th>5</th>\n",
       "      <td>dup_rate</td>\n",
       "      <td>0.004733</td>\n",
       "    </tr>\n",
       "    <tr>\n",
       "      <th>30</th>\n",
       "      <td>nearest_geo_sec_median</td>\n",
       "      <td>0.004541</td>\n",
       "    </tr>\n",
       "    <tr>\n",
       "      <th>26</th>\n",
       "      <td>most_geo_week_std</td>\n",
       "      <td>0.004481</td>\n",
       "    </tr>\n",
       "    <tr>\n",
       "      <th>21</th>\n",
       "      <td>most_geo_sec_median</td>\n",
       "      <td>0.004382</td>\n",
       "    </tr>\n",
       "    <tr>\n",
       "      <th>67</th>\n",
       "      <td>next_neartime_geo_speed_mean</td>\n",
       "      <td>0.004277</td>\n",
       "    </tr>\n",
       "    <tr>\n",
       "      <th>34</th>\n",
       "      <td>nearest_geo_week_mean</td>\n",
       "      <td>0.004265</td>\n",
       "    </tr>\n",
       "    <tr>\n",
       "      <th>40</th>\n",
       "      <td>next_neartime_geo_sec_mean</td>\n",
       "      <td>0.004236</td>\n",
       "    </tr>\n",
       "    <tr>\n",
       "      <th>28</th>\n",
       "      <td>most_geo_id_geo_rate</td>\n",
       "      <td>0.004014</td>\n",
       "    </tr>\n",
       "    <tr>\n",
       "      <th>66</th>\n",
       "      <td>nearest_geo_speed_mean</td>\n",
       "      <td>0.003984</td>\n",
       "    </tr>\n",
       "    <tr>\n",
       "      <th>39</th>\n",
       "      <td>next_neartime_geo_sec_median</td>\n",
       "      <td>0.003928</td>\n",
       "    </tr>\n",
       "    <tr>\n",
       "      <th>25</th>\n",
       "      <td>most_geo_week_mean</td>\n",
       "      <td>0.003493</td>\n",
       "    </tr>\n",
       "    <tr>\n",
       "      <th>20</th>\n",
       "      <td>most_geo_count</td>\n",
       "      <td>0.003181</td>\n",
       "    </tr>\n",
       "    <tr>\n",
       "      <th>42</th>\n",
       "      <td>next_neartime_geo_week_median</td>\n",
       "      <td>0.002990</td>\n",
       "    </tr>\n",
       "    <tr>\n",
       "      <th>2</th>\n",
       "      <td>most_geo_cnt</td>\n",
       "      <td>0.002946</td>\n",
       "    </tr>\n",
       "    <tr>\n",
       "      <th>4</th>\n",
       "      <td>records_cnt</td>\n",
       "      <td>0.002904</td>\n",
       "    </tr>\n",
       "    <tr>\n",
       "      <th>36</th>\n",
       "      <td>nearest_geo_id_count</td>\n",
       "      <td>0.002778</td>\n",
       "    </tr>\n",
       "    <tr>\n",
       "      <th>3</th>\n",
       "      <td>dup_cnt</td>\n",
       "      <td>0.002451</td>\n",
       "    </tr>\n",
       "    <tr>\n",
       "      <th>24</th>\n",
       "      <td>most_geo_week_median</td>\n",
       "      <td>0.002353</td>\n",
       "    </tr>\n",
       "    <tr>\n",
       "      <th>27</th>\n",
       "      <td>most_geo_id_count</td>\n",
       "      <td>0.001986</td>\n",
       "    </tr>\n",
       "    <tr>\n",
       "      <th>45</th>\n",
       "      <td>next_neartime_geo_id_count</td>\n",
       "      <td>0.000000</td>\n",
       "    </tr>\n",
       "  </tbody>\n",
       "</table>\n",
       "</div>"
      ],
      "text/plain": [
       "                              cols        fi\n",
       "56              most_sec_diff_mean  0.091634\n",
       "38         next_neartime_geo_count  0.070278\n",
       "46   next_neartime_geo_id_geo_rate  0.058399\n",
       "29               nearest_geo_count  0.053357\n",
       "8                         same_day  0.050484\n",
       "37         nearest_geo_id_geo_rate  0.042693\n",
       "58          neartime_sec_diff_mean  0.038537\n",
       "57           nearest_sec_diff_mean  0.037546\n",
       "52        neartime_sec_diff_median  0.032140\n",
       "50            most_sec_diff_median  0.031145\n",
       "60                nearest_geo_dist  0.023521\n",
       "12               last_most_min_cnt  0.022230\n",
       "15            last_nearest_min_cnt  0.021600\n",
       "18           last_neartime_min_cnt  0.020636\n",
       "49       neartime_week_diff_median  0.018368\n",
       "54          nearest_week_diff_mean  0.018226\n",
       "51         nearest_sec_diff_median  0.016688\n",
       "59                   most_geo_dist  0.016446\n",
       "35            nearest_geo_week_std  0.014250\n",
       "41       next_neartime_geo_sec_std  0.013447\n",
       "64  next_neartime_geo_speed_median  0.013203\n",
       "55         neartime_week_diff_mean  0.013046\n",
       "6            next_neartime_geo_sec  0.012559\n",
       "62           most_geo_speed_median  0.012327\n",
       "48        nearest_week_diff_median  0.012319\n",
       "1                          seconds  0.011899\n",
       "61          next_neartime_geo_dist  0.011050\n",
       "10                   next_geo_rate  0.010518\n",
       "23                most_geo_sec_std  0.009794\n",
       "44      next_neartime_geo_week_std  0.009242\n",
       "14            last_nearest_min_sec  0.009076\n",
       "32             nearest_geo_sec_std  0.008915\n",
       "11               last_most_min_sec  0.008906\n",
       "7                     next_geo_cnt  0.008786\n",
       "0                          weekday  0.008380\n",
       "53             most_week_diff_mean  0.008328\n",
       "17           last_neartime_min_sec  0.007760\n",
       "16            last_nearest_min_std  0.007647\n",
       "19           last_neartime_min_std  0.007584\n",
       "63        nearest_geo_speed_median  0.006758\n",
       "13               last_most_min_std  0.006097\n",
       "9                    most_geo_rate  0.005675\n",
       "31            nearest_geo_sec_mean  0.005206\n",
       "43     next_neartime_geo_week_mean  0.005190\n",
       "65             most_geo_speed_mean  0.005124\n",
       "33         nearest_geo_week_median  0.005067\n",
       "22               most_geo_sec_mean  0.005011\n",
       "47           most_week_diff_median  0.004985\n",
       "5                         dup_rate  0.004733\n",
       "30          nearest_geo_sec_median  0.004541\n",
       "26               most_geo_week_std  0.004481\n",
       "21             most_geo_sec_median  0.004382\n",
       "67    next_neartime_geo_speed_mean  0.004277\n",
       "34           nearest_geo_week_mean  0.004265\n",
       "40      next_neartime_geo_sec_mean  0.004236\n",
       "28            most_geo_id_geo_rate  0.004014\n",
       "66          nearest_geo_speed_mean  0.003984\n",
       "39    next_neartime_geo_sec_median  0.003928\n",
       "25              most_geo_week_mean  0.003493\n",
       "20                  most_geo_count  0.003181\n",
       "42   next_neartime_geo_week_median  0.002990\n",
       "2                     most_geo_cnt  0.002946\n",
       "4                      records_cnt  0.002904\n",
       "36            nearest_geo_id_count  0.002778\n",
       "3                          dup_cnt  0.002451\n",
       "24            most_geo_week_median  0.002353\n",
       "27               most_geo_id_count  0.001986\n",
       "45      next_neartime_geo_id_count  0.000000"
      ]
     },
     "execution_count": 127,
     "metadata": {},
     "output_type": "execute_result"
    }
   ],
   "source": [
    "fis = pd.DataFrame(list(zip(X_train.columns.values, model.feature_importances_)), columns=['cols','fi'])\n",
    "fis.sort_values('fi', ascending = False)"
   ]
  },
  {
   "cell_type": "code",
   "execution_count": null,
   "id": "4edadaa9",
   "metadata": {},
   "outputs": [],
   "source": []
  },
  {
   "cell_type": "code",
   "execution_count": null,
   "id": "cf5fca43",
   "metadata": {},
   "outputs": [],
   "source": []
  },
  {
   "cell_type": "code",
   "execution_count": 128,
   "id": "5391ae6f",
   "metadata": {
    "ExecuteTime": {
     "end_time": "2022-08-20T06:37:05.494862Z",
     "start_time": "2022-08-20T06:37:05.473522Z"
    }
   },
   "outputs": [],
   "source": [
    "model_cols = X_train.columns\n",
    "del(X_train, X_test, y_train, y_test)"
   ]
  },
  {
   "cell_type": "code",
   "execution_count": 129,
   "id": "7267fbcb",
   "metadata": {
    "ExecuteTime": {
     "end_time": "2022-08-20T06:37:06.067341Z",
     "start_time": "2022-08-20T06:37:06.047305Z"
    }
   },
   "outputs": [],
   "source": [
    "model.save_model('D:Desktop/时空预测算法对抗赛/final_model.model')"
   ]
  },
  {
   "cell_type": "code",
   "execution_count": null,
   "id": "b30d174d",
   "metadata": {},
   "outputs": [],
   "source": []
  },
  {
   "cell_type": "code",
   "execution_count": null,
   "id": "20ca738e",
   "metadata": {},
   "outputs": [],
   "source": []
  },
  {
   "cell_type": "markdown",
   "id": "9f5592e7",
   "metadata": {},
   "source": [
    "# Bad case"
   ]
  },
  {
   "cell_type": "code",
   "execution_count": 61,
   "id": "e24aa1c3",
   "metadata": {
    "ExecuteTime": {
     "end_time": "2022-08-19T12:00:16.232170Z",
     "start_time": "2022-08-19T12:00:16.168165Z"
    }
   },
   "outputs": [],
   "source": [
    "bad_case_id = val_merge_set.loc[val_merge_set.bingo_list.map(lambda x:len(x) == 0), 'id']"
   ]
  },
  {
   "cell_type": "code",
   "execution_count": 105,
   "id": "24ce1e08",
   "metadata": {
    "ExecuteTime": {
     "end_time": "2022-08-19T12:38:00.948360Z",
     "start_time": "2022-08-19T12:37:58.229131Z"
    }
   },
   "outputs": [],
   "source": [
    "pd.merge(id_geo_stat[['id','geohash','count','id_geo_rate']], val_set.loc[val_set.id.isin(bad_case_id), ['id','geohash']],\n",
    "         on=['id','geohash'], how='inner').to_csv('D:Desktop/bad case.csv', index=False)"
   ]
  },
  {
   "cell_type": "code",
   "execution_count": 62,
   "id": "b098ccc1",
   "metadata": {
    "ExecuteTime": {
     "end_time": "2022-08-19T12:00:22.353187Z",
     "start_time": "2022-08-19T12:00:20.814747Z"
    }
   },
   "outputs": [],
   "source": [
    "bad_case_id.map(di_dict).to_csv('D:Desktop/bad case.csv', index=False)"
   ]
  },
  {
   "cell_type": "code",
   "execution_count": 63,
   "id": "69f6393a",
   "metadata": {
    "ExecuteTime": {
     "end_time": "2022-08-19T12:00:23.524201Z",
     "start_time": "2022-08-19T12:00:23.500202Z"
    }
   },
   "outputs": [
    {
     "data": {
      "text/html": [
       "<div>\n",
       "<style scoped>\n",
       "    .dataframe tbody tr th:only-of-type {\n",
       "        vertical-align: middle;\n",
       "    }\n",
       "\n",
       "    .dataframe tbody tr th {\n",
       "        vertical-align: top;\n",
       "    }\n",
       "\n",
       "    .dataframe thead th {\n",
       "        text-align: right;\n",
       "    }\n",
       "</style>\n",
       "<table border=\"1\" class=\"dataframe\">\n",
       "  <thead>\n",
       "    <tr style=\"text-align: right;\">\n",
       "      <th></th>\n",
       "      <th>id</th>\n",
       "      <th>geohash</th>\n",
       "      <th>weekday</th>\n",
       "      <th>seconds</th>\n",
       "      <th>most_geo</th>\n",
       "      <th>most_geo_cnt</th>\n",
       "      <th>nearest_geo</th>\n",
       "      <th>last_geo</th>\n",
       "      <th>dup_cnt</th>\n",
       "      <th>records_cnt</th>\n",
       "      <th>...</th>\n",
       "      <th>most_geo_dist</th>\n",
       "      <th>nearest_geo_dist</th>\n",
       "      <th>next_neartime_geo_dist</th>\n",
       "      <th>most_geo_speed_median</th>\n",
       "      <th>nearest_geo_speed_median</th>\n",
       "      <th>next_neartime_geo_speed_median</th>\n",
       "      <th>most_geo_speed_mean</th>\n",
       "      <th>nearest_geo_speed_mean</th>\n",
       "      <th>next_neartime_geo_speed_mean</th>\n",
       "      <th>pred</th>\n",
       "    </tr>\n",
       "  </thead>\n",
       "  <tbody>\n",
       "    <tr>\n",
       "      <th>0</th>\n",
       "      <td>0</td>\n",
       "      <td>wm3yx3t</td>\n",
       "      <td>7</td>\n",
       "      <td>58740</td>\n",
       "      <td>wm6n2jm</td>\n",
       "      <td>49</td>\n",
       "      <td>wm3yx9y</td>\n",
       "      <td>wm6n2jm</td>\n",
       "      <td>33</td>\n",
       "      <td>83</td>\n",
       "      <td>...</td>\n",
       "      <td>0.0</td>\n",
       "      <td>3381.777133</td>\n",
       "      <td>0.0</td>\n",
       "      <td>0.0</td>\n",
       "      <td>4.335612</td>\n",
       "      <td>0.0</td>\n",
       "      <td>0.0</td>\n",
       "      <td>0.650342</td>\n",
       "      <td>0.0</td>\n",
       "      <td>5</td>\n",
       "    </tr>\n",
       "    <tr>\n",
       "      <th>1</th>\n",
       "      <td>1</td>\n",
       "      <td>wm3vz92</td>\n",
       "      <td>6</td>\n",
       "      <td>81000</td>\n",
       "      <td>wm3vz92</td>\n",
       "      <td>36</td>\n",
       "      <td>wm3vz92</td>\n",
       "      <td>wm3vz92</td>\n",
       "      <td>26</td>\n",
       "      <td>91</td>\n",
       "      <td>...</td>\n",
       "      <td>0.0</td>\n",
       "      <td>0.000000</td>\n",
       "      <td>0.0</td>\n",
       "      <td>0.0</td>\n",
       "      <td>0.000000</td>\n",
       "      <td>0.0</td>\n",
       "      <td>0.0</td>\n",
       "      <td>0.000000</td>\n",
       "      <td>0.0</td>\n",
       "      <td>2</td>\n",
       "    </tr>\n",
       "  </tbody>\n",
       "</table>\n",
       "<p>2 rows × 68 columns</p>\n",
       "</div>"
      ],
      "text/plain": [
       "   id  geohash  weekday  seconds most_geo  most_geo_cnt nearest_geo last_geo  \\\n",
       "0   0  wm3yx3t        7    58740  wm6n2jm            49     wm3yx9y  wm6n2jm   \n",
       "1   1  wm3vz92        6    81000  wm3vz92            36     wm3vz92  wm3vz92   \n",
       "\n",
       "   dup_cnt  records_cnt  ...  most_geo_dist nearest_geo_dist  \\\n",
       "0       33           83  ...            0.0      3381.777133   \n",
       "1       26           91  ...            0.0         0.000000   \n",
       "\n",
       "   next_neartime_geo_dist most_geo_speed_median  nearest_geo_speed_median  \\\n",
       "0                     0.0                   0.0                  4.335612   \n",
       "1                     0.0                   0.0                  0.000000   \n",
       "\n",
       "   next_neartime_geo_speed_median most_geo_speed_mean  nearest_geo_speed_mean  \\\n",
       "0                             0.0                 0.0                0.650342   \n",
       "1                             0.0                 0.0                0.000000   \n",
       "\n",
       "   next_neartime_geo_speed_mean  pred  \n",
       "0                           0.0     5  \n",
       "1                           0.0     2  \n",
       "\n",
       "[2 rows x 68 columns]"
      ]
     },
     "execution_count": 63,
     "metadata": {},
     "output_type": "execute_result"
    }
   ],
   "source": [
    "val_merge_set.head(2)"
   ]
  },
  {
   "cell_type": "code",
   "execution_count": 64,
   "id": "56c2191e",
   "metadata": {
    "ExecuteTime": {
     "end_time": "2022-08-19T12:00:25.406758Z",
     "start_time": "2022-08-19T12:00:25.395698Z"
    }
   },
   "outputs": [
    {
     "data": {
      "text/plain": [
       "Index(['id', 'geohash', 'weekday', 'seconds', 'most_geo', 'most_geo_cnt',\n",
       "       'nearest_geo', 'last_geo', 'dup_cnt', 'records_cnt', 'dup_rate',\n",
       "       'next_neartime_geo', 'next_neartime_geo_sec', 'next_geo',\n",
       "       'next_geo_cnt', 'same_day', 'bingo_list', 'most_geo_rate',\n",
       "       'next_geo_rate', 'most_geo_count', 'most_geo_sec_median',\n",
       "       'most_geo_sec_mean', 'most_geo_sec_std', 'most_geo_week_median',\n",
       "       'most_geo_week_mean', 'most_geo_week_std', 'most_geo_id_count',\n",
       "       'most_geo_id_geo_rate', 'nearest_geo_count', 'nearest_geo_sec_median',\n",
       "       'nearest_geo_sec_mean', 'nearest_geo_sec_std',\n",
       "       'nearest_geo_week_median', 'nearest_geo_week_mean',\n",
       "       'nearest_geo_week_std', 'nearest_geo_id_count',\n",
       "       'nearest_geo_id_geo_rate', 'next_neartime_geo_count',\n",
       "       'next_neartime_geo_sec_median', 'next_neartime_geo_sec_mean',\n",
       "       'next_neartime_geo_sec_std', 'next_neartime_geo_week_median',\n",
       "       'next_neartime_geo_week_mean', 'next_neartime_geo_week_std',\n",
       "       'next_neartime_geo_id_count', 'next_neartime_geo_id_geo_rate',\n",
       "       'most_week_diff_median', 'nearest_week_diff_median',\n",
       "       'neartime_week_diff_median', 'most_sec_diff_median',\n",
       "       'nearest_sec_diff_median', 'neartime_sec_diff_median',\n",
       "       'most_week_diff_mean', 'nearest_week_diff_mean',\n",
       "       'neartime_week_diff_mean', 'most_sec_diff_mean',\n",
       "       'nearest_sec_diff_mean', 'neartime_sec_diff_mean', 'most_geo_dist',\n",
       "       'nearest_geo_dist', 'next_neartime_geo_dist', 'most_geo_speed_median',\n",
       "       'nearest_geo_speed_median', 'next_neartime_geo_speed_median',\n",
       "       'most_geo_speed_mean', 'nearest_geo_speed_mean',\n",
       "       'next_neartime_geo_speed_mean', 'pred'],\n",
       "      dtype='object')"
      ]
     },
     "execution_count": 64,
     "metadata": {},
     "output_type": "execute_result"
    }
   ],
   "source": [
    "val_merge_set.columns"
   ]
  },
  {
   "cell_type": "code",
   "execution_count": 125,
   "id": "1b12fbc9",
   "metadata": {
    "ExecuteTime": {
     "end_time": "2022-08-19T13:05:53.048255Z",
     "start_time": "2022-08-19T13:05:52.826954Z"
    }
   },
   "outputs": [
    {
     "data": {
      "text/html": [
       "<div style=\"width:100%;\"><div style=\"position:relative;width:100%;height:0;padding-bottom:60%;\"><span style=\"color:#565656\">Make this Notebook Trusted to load map: File -> Trust Notebook</span><iframe src=\"about:blank\" style=\"position:absolute;width:100%;height:100%;left:0;top:0;border:none !important;\" data-html=%3C%21DOCTYPE%20html%3E%0A%3Chead%3E%20%20%20%20%0A%20%20%20%20%3Cmeta%20http-equiv%3D%22content-type%22%20content%3D%22text/html%3B%20charset%3DUTF-8%22%20/%3E%0A%20%20%20%20%0A%20%20%20%20%20%20%20%20%3Cscript%3E%0A%20%20%20%20%20%20%20%20%20%20%20%20L_NO_TOUCH%20%3D%20false%3B%0A%20%20%20%20%20%20%20%20%20%20%20%20L_DISABLE_3D%20%3D%20false%3B%0A%20%20%20%20%20%20%20%20%3C/script%3E%0A%20%20%20%20%0A%20%20%20%20%3Cstyle%3Ehtml%2C%20body%20%7Bwidth%3A%20100%25%3Bheight%3A%20100%25%3Bmargin%3A%200%3Bpadding%3A%200%3B%7D%3C/style%3E%0A%20%20%20%20%3Cstyle%3E%23map%20%7Bposition%3Aabsolute%3Btop%3A0%3Bbottom%3A0%3Bright%3A0%3Bleft%3A0%3B%7D%3C/style%3E%0A%20%20%20%20%3Cscript%20src%3D%22https%3A//cdn.jsdelivr.net/npm/leaflet%401.6.0/dist/leaflet.js%22%3E%3C/script%3E%0A%20%20%20%20%3Cscript%20src%3D%22https%3A//code.jquery.com/jquery-1.12.4.min.js%22%3E%3C/script%3E%0A%20%20%20%20%3Cscript%20src%3D%22https%3A//maxcdn.bootstrapcdn.com/bootstrap/3.2.0/js/bootstrap.min.js%22%3E%3C/script%3E%0A%20%20%20%20%3Cscript%20src%3D%22https%3A//cdnjs.cloudflare.com/ajax/libs/Leaflet.awesome-markers/2.0.2/leaflet.awesome-markers.js%22%3E%3C/script%3E%0A%20%20%20%20%3Clink%20rel%3D%22stylesheet%22%20href%3D%22https%3A//cdn.jsdelivr.net/npm/leaflet%401.6.0/dist/leaflet.css%22/%3E%0A%20%20%20%20%3Clink%20rel%3D%22stylesheet%22%20href%3D%22https%3A//maxcdn.bootstrapcdn.com/bootstrap/3.2.0/css/bootstrap.min.css%22/%3E%0A%20%20%20%20%3Clink%20rel%3D%22stylesheet%22%20href%3D%22https%3A//maxcdn.bootstrapcdn.com/bootstrap/3.2.0/css/bootstrap-theme.min.css%22/%3E%0A%20%20%20%20%3Clink%20rel%3D%22stylesheet%22%20href%3D%22https%3A//maxcdn.bootstrapcdn.com/font-awesome/4.6.3/css/font-awesome.min.css%22/%3E%0A%20%20%20%20%3Clink%20rel%3D%22stylesheet%22%20href%3D%22https%3A//cdnjs.cloudflare.com/ajax/libs/Leaflet.awesome-markers/2.0.2/leaflet.awesome-markers.css%22/%3E%0A%20%20%20%20%3Clink%20rel%3D%22stylesheet%22%20href%3D%22https%3A//cdn.jsdelivr.net/gh/python-visualization/folium/folium/templates/leaflet.awesome.rotate.min.css%22/%3E%0A%20%20%20%20%0A%20%20%20%20%20%20%20%20%20%20%20%20%3Cmeta%20name%3D%22viewport%22%20content%3D%22width%3Ddevice-width%2C%0A%20%20%20%20%20%20%20%20%20%20%20%20%20%20%20%20initial-scale%3D1.0%2C%20maximum-scale%3D1.0%2C%20user-scalable%3Dno%22%20/%3E%0A%20%20%20%20%20%20%20%20%20%20%20%20%3Cstyle%3E%0A%20%20%20%20%20%20%20%20%20%20%20%20%20%20%20%20%23map_598bbf8a4ce54904a787adfd3a4c1f5b%20%7B%0A%20%20%20%20%20%20%20%20%20%20%20%20%20%20%20%20%20%20%20%20position%3A%20relative%3B%0A%20%20%20%20%20%20%20%20%20%20%20%20%20%20%20%20%20%20%20%20width%3A%20100.0%25%3B%0A%20%20%20%20%20%20%20%20%20%20%20%20%20%20%20%20%20%20%20%20height%3A%20100.0%25%3B%0A%20%20%20%20%20%20%20%20%20%20%20%20%20%20%20%20%20%20%20%20left%3A%200.0%25%3B%0A%20%20%20%20%20%20%20%20%20%20%20%20%20%20%20%20%20%20%20%20top%3A%200.0%25%3B%0A%20%20%20%20%20%20%20%20%20%20%20%20%20%20%20%20%7D%0A%20%20%20%20%20%20%20%20%20%20%20%20%3C/style%3E%0A%20%20%20%20%20%20%20%20%0A%3C/head%3E%0A%3Cbody%3E%20%20%20%20%0A%20%20%20%20%0A%20%20%20%20%20%20%20%20%20%20%20%20%3Cdiv%20class%3D%22folium-map%22%20id%3D%22map_598bbf8a4ce54904a787adfd3a4c1f5b%22%20%3E%3C/div%3E%0A%20%20%20%20%20%20%20%20%0A%3C/body%3E%0A%3Cscript%3E%20%20%20%20%0A%20%20%20%20%0A%20%20%20%20%20%20%20%20%20%20%20%20var%20map_598bbf8a4ce54904a787adfd3a4c1f5b%20%3D%20L.map%28%0A%20%20%20%20%20%20%20%20%20%20%20%20%20%20%20%20%22map_598bbf8a4ce54904a787adfd3a4c1f5b%22%2C%0A%20%20%20%20%20%20%20%20%20%20%20%20%20%20%20%20%7B%0A%20%20%20%20%20%20%20%20%20%20%20%20%20%20%20%20%20%20%20%20center%3A%20%5B30.630569458007812%2C%20104.03572082519531%5D%2C%0A%20%20%20%20%20%20%20%20%20%20%20%20%20%20%20%20%20%20%20%20crs%3A%20L.CRS.EPSG3857%2C%0A%20%20%20%20%20%20%20%20%20%20%20%20%20%20%20%20%20%20%20%20zoom%3A%2013.5%2C%0A%20%20%20%20%20%20%20%20%20%20%20%20%20%20%20%20%20%20%20%20zoomControl%3A%20true%2C%0A%20%20%20%20%20%20%20%20%20%20%20%20%20%20%20%20%20%20%20%20preferCanvas%3A%20false%2C%0A%20%20%20%20%20%20%20%20%20%20%20%20%20%20%20%20%7D%0A%20%20%20%20%20%20%20%20%20%20%20%20%29%3B%0A%0A%20%20%20%20%20%20%20%20%20%20%20%20%0A%0A%20%20%20%20%20%20%20%20%0A%20%20%20%20%0A%20%20%20%20%20%20%20%20%20%20%20%20var%20tile_layer_9db45a2601a34a60b463be7c9b370647%20%3D%20L.tileLayer%28%0A%20%20%20%20%20%20%20%20%20%20%20%20%20%20%20%20%22http%3A//webrd02.is.autonavi.com/appmaptile%3Flang%3Dzh_cn%5Cu0026size%3D1%5Cu0026scale%3D1%5Cu0026style%3D7%5Cu0026x%3D%7Bx%7D%5Cu0026y%3D%7By%7D%5Cu0026z%3D%7Bz%7D%22%2C%0A%20%20%20%20%20%20%20%20%20%20%20%20%20%20%20%20%7B%22attribution%22%3A%20%22default%22%2C%20%22detectRetina%22%3A%20false%2C%20%22maxNativeZoom%22%3A%2018%2C%20%22maxZoom%22%3A%2018%2C%20%22minZoom%22%3A%200%2C%20%22noWrap%22%3A%20false%2C%20%22opacity%22%3A%201%2C%20%22subdomains%22%3A%20%22abc%22%2C%20%22tms%22%3A%20false%7D%0A%20%20%20%20%20%20%20%20%20%20%20%20%29.addTo%28map_598bbf8a4ce54904a787adfd3a4c1f5b%29%3B%0A%20%20%20%20%20%20%20%20%0A%20%20%20%20%0A%20%20%20%20%20%20%20%20%20%20%20%20var%20feature_group_2c457c5ad18c4e7db6e3cfb5c7bc78a8%20%3D%20L.featureGroup%28%0A%20%20%20%20%20%20%20%20%20%20%20%20%20%20%20%20%7B%7D%0A%20%20%20%20%20%20%20%20%20%20%20%20%29.addTo%28map_598bbf8a4ce54904a787adfd3a4c1f5b%29%3B%0A%20%20%20%20%20%20%20%20%0A%20%20%20%20%0A%20%20%20%20%20%20%20%20%20%20%20%20var%20circle_marker_92e2a59bfba143969210dc9ddd47c0ce%20%3D%20L.circleMarker%28%0A%20%20%20%20%20%20%20%20%20%20%20%20%20%20%20%20%5B30.630569458007812%2C%20104.03572082519531%5D%2C%0A%20%20%20%20%20%20%20%20%20%20%20%20%20%20%20%20%7B%22bubblingMouseEvents%22%3A%20true%2C%20%22color%22%3A%20%22red%22%2C%20%22dashArray%22%3A%20null%2C%20%22dashOffset%22%3A%20null%2C%20%22fill%22%3A%20true%2C%20%22fillColor%22%3A%20%22red%22%2C%20%22fillOpacity%22%3A%200.8%2C%20%22fillRule%22%3A%20%22evenodd%22%2C%20%22lineCap%22%3A%20%22round%22%2C%20%22lineJoin%22%3A%20%22round%22%2C%20%22opacity%22%3A%201.0%2C%20%22radius%22%3A%204%2C%20%22stroke%22%3A%20true%2C%20%22weight%22%3A%203%7D%0A%20%20%20%20%20%20%20%20%20%20%20%20%29.addTo%28feature_group_2c457c5ad18c4e7db6e3cfb5c7bc78a8%29%3B%0A%20%20%20%20%20%20%20%20%0A%20%20%20%20%0A%20%20%20%20%20%20%20%20%20%20%20%20circle_marker_92e2a59bfba143969210dc9ddd47c0ce.bindTooltip%28%0A%20%20%20%20%20%20%20%20%20%20%20%20%20%20%20%20%60%3Cdiv%3E%0A%20%20%20%20%20%20%20%20%20%20%20%20%20%20%20%20%20%20%20%20%20True%0A%20%20%20%20%20%20%20%20%20%20%20%20%20%20%20%20%20%3C/div%3E%60%2C%0A%20%20%20%20%20%20%20%20%20%20%20%20%20%20%20%20%7B%22sticky%22%3A%20true%7D%0A%20%20%20%20%20%20%20%20%20%20%20%20%29%3B%0A%20%20%20%20%20%20%20%20%0A%20%20%20%20%0A%20%20%20%20%20%20%20%20%20%20%20%20var%20circle_marker_6a51be651cae4c108b6682d23b5130ae%20%3D%20L.circleMarker%28%0A%20%20%20%20%20%20%20%20%20%20%20%20%20%20%20%20%5B30.692367553710938%2C%20104.04533386230469%5D%2C%0A%20%20%20%20%20%20%20%20%20%20%20%20%20%20%20%20%7B%22bubblingMouseEvents%22%3A%20true%2C%20%22color%22%3A%20%22black%22%2C%20%22dashArray%22%3A%20null%2C%20%22dashOffset%22%3A%20null%2C%20%22fill%22%3A%20true%2C%20%22fillColor%22%3A%20%22black%22%2C%20%22fillOpacity%22%3A%200.8%2C%20%22fillRule%22%3A%20%22evenodd%22%2C%20%22lineCap%22%3A%20%22round%22%2C%20%22lineJoin%22%3A%20%22round%22%2C%20%22opacity%22%3A%201.0%2C%20%22radius%22%3A%204%2C%20%22stroke%22%3A%20true%2C%20%22weight%22%3A%203%7D%0A%20%20%20%20%20%20%20%20%20%20%20%20%29.addTo%28feature_group_2c457c5ad18c4e7db6e3cfb5c7bc78a8%29%3B%0A%20%20%20%20%20%20%20%20%0A%20%20%20%20%0A%20%20%20%20%20%20%20%20%20%20%20%20circle_marker_6a51be651cae4c108b6682d23b5130ae.bindTooltip%28%0A%20%20%20%20%20%20%20%20%20%20%20%20%20%20%20%20%60%3Cdiv%3E%0A%20%20%20%20%20%20%20%20%20%20%20%20%20%20%20%20%20%20%20%20%20wm3yxe7%202021-10-04%2020%3A18%0A%20%20%20%20%20%20%20%20%20%20%20%20%20%20%20%20%20%3C/div%3E%60%2C%0A%20%20%20%20%20%20%20%20%20%20%20%20%20%20%20%20%7B%22sticky%22%3A%20true%7D%0A%20%20%20%20%20%20%20%20%20%20%20%20%29%3B%0A%20%20%20%20%20%20%20%20%0A%20%20%20%20%0A%20%20%20%20%20%20%20%20%20%20%20%20var%20circle_marker_e5d4b8ac99f94bbc84ee79099fb6c45b%20%3D%20L.circleMarker%28%0A%20%20%20%20%20%20%20%20%20%20%20%20%20%20%20%20%5B30.664901733398438%2C%20104.07142639160156%5D%2C%0A%20%20%20%20%20%20%20%20%20%20%20%20%20%20%20%20%7B%22bubblingMouseEvents%22%3A%20true%2C%20%22color%22%3A%20%22black%22%2C%20%22dashArray%22%3A%20null%2C%20%22dashOffset%22%3A%20null%2C%20%22fill%22%3A%20true%2C%20%22fillColor%22%3A%20%22black%22%2C%20%22fillOpacity%22%3A%200.8%2C%20%22fillRule%22%3A%20%22evenodd%22%2C%20%22lineCap%22%3A%20%22round%22%2C%20%22lineJoin%22%3A%20%22round%22%2C%20%22opacity%22%3A%201.0%2C%20%22radius%22%3A%204%2C%20%22stroke%22%3A%20true%2C%20%22weight%22%3A%203%7D%0A%20%20%20%20%20%20%20%20%20%20%20%20%29.addTo%28feature_group_2c457c5ad18c4e7db6e3cfb5c7bc78a8%29%3B%0A%20%20%20%20%20%20%20%20%0A%20%20%20%20%0A%20%20%20%20%20%20%20%20%20%20%20%20circle_marker_e5d4b8ac99f94bbc84ee79099fb6c45b.bindTooltip%28%0A%20%20%20%20%20%20%20%20%20%20%20%20%20%20%20%20%60%3Cdiv%3E%0A%20%20%20%20%20%20%20%20%20%20%20%20%20%20%20%20%20%20%20%20%20wm6n2nq%202021-10-14%2018%3A13%0A%20%20%20%20%20%20%20%20%20%20%20%20%20%20%20%20%20%3C/div%3E%60%2C%0A%20%20%20%20%20%20%20%20%20%20%20%20%20%20%20%20%7B%22sticky%22%3A%20true%7D%0A%20%20%20%20%20%20%20%20%20%20%20%20%29%3B%0A%20%20%20%20%20%20%20%20%0A%20%20%20%20%0A%20%20%20%20%20%20%20%20%20%20%20%20var%20circle_marker_9c4b8f3e187346a79f18637b2d83e99b%20%3D%20L.circleMarker%28%0A%20%20%20%20%20%20%20%20%20%20%20%20%20%20%20%20%5B30.577011108398438%2C%20103.51524353027344%5D%2C%0A%20%20%20%20%20%20%20%20%20%20%20%20%20%20%20%20%7B%22bubblingMouseEvents%22%3A%20true%2C%20%22color%22%3A%20%22black%22%2C%20%22dashArray%22%3A%20null%2C%20%22dashOffset%22%3A%20null%2C%20%22fill%22%3A%20true%2C%20%22fillColor%22%3A%20%22black%22%2C%20%22fillOpacity%22%3A%200.8%2C%20%22fillRule%22%3A%20%22evenodd%22%2C%20%22lineCap%22%3A%20%22round%22%2C%20%22lineJoin%22%3A%20%22round%22%2C%20%22opacity%22%3A%201.0%2C%20%22radius%22%3A%204%2C%20%22stroke%22%3A%20true%2C%20%22weight%22%3A%203%7D%0A%20%20%20%20%20%20%20%20%20%20%20%20%29.addTo%28feature_group_2c457c5ad18c4e7db6e3cfb5c7bc78a8%29%3B%0A%20%20%20%20%20%20%20%20%0A%20%20%20%20%0A%20%20%20%20%20%20%20%20%20%20%20%20circle_marker_9c4b8f3e187346a79f18637b2d83e99b.bindTooltip%28%0A%20%20%20%20%20%20%20%20%20%20%20%20%20%20%20%20%60%3Cdiv%3E%0A%20%20%20%20%20%20%20%20%20%20%20%20%20%20%20%20%20%20%20%20%20wm3tgw3%202021-10-16%2009%3A06%0A%20%20%20%20%20%20%20%20%20%20%20%20%20%20%20%20%20%3C/div%3E%60%2C%0A%20%20%20%20%20%20%20%20%20%20%20%20%20%20%20%20%7B%22sticky%22%3A%20true%7D%0A%20%20%20%20%20%20%20%20%20%20%20%20%29%3B%0A%20%20%20%20%20%20%20%20%0A%20%20%20%20%0A%20%20%20%20%20%20%20%20%20%20%20%20var%20circle_marker_1843991f375f4eaa887c560cadf5e7c4%20%3D%20L.circleMarker%28%0A%20%20%20%20%20%20%20%20%20%20%20%20%20%20%20%20%5B30.504226684570312%2C%20103.62648010253906%5D%2C%0A%20%20%20%20%20%20%20%20%20%20%20%20%20%20%20%20%7B%22bubblingMouseEvents%22%3A%20true%2C%20%22color%22%3A%20%22black%22%2C%20%22dashArray%22%3A%20null%2C%20%22dashOffset%22%3A%20null%2C%20%22fill%22%3A%20true%2C%20%22fillColor%22%3A%20%22black%22%2C%20%22fillOpacity%22%3A%200.8%2C%20%22fillRule%22%3A%20%22evenodd%22%2C%20%22lineCap%22%3A%20%22round%22%2C%20%22lineJoin%22%3A%20%22round%22%2C%20%22opacity%22%3A%201.0%2C%20%22radius%22%3A%204%2C%20%22stroke%22%3A%20true%2C%20%22weight%22%3A%203%7D%0A%20%20%20%20%20%20%20%20%20%20%20%20%29.addTo%28feature_group_2c457c5ad18c4e7db6e3cfb5c7bc78a8%29%3B%0A%20%20%20%20%20%20%20%20%0A%20%20%20%20%0A%20%20%20%20%20%20%20%20%20%20%20%20circle_marker_1843991f375f4eaa887c560cadf5e7c4.bindTooltip%28%0A%20%20%20%20%20%20%20%20%20%20%20%20%20%20%20%20%60%3Cdiv%3E%0A%20%20%20%20%20%20%20%20%20%20%20%20%20%20%20%20%20%20%20%20%20wm3tw14%202021-10-16%2012%3A38%0A%20%20%20%20%20%20%20%20%20%20%20%20%20%20%20%20%20%3C/div%3E%60%2C%0A%20%20%20%20%20%20%20%20%20%20%20%20%20%20%20%20%7B%22sticky%22%3A%20true%7D%0A%20%20%20%20%20%20%20%20%20%20%20%20%29%3B%0A%20%20%20%20%20%20%20%20%0A%20%20%20%20%0A%20%20%20%20%20%20%20%20%20%20%20%20var%20circle_marker_058f769e4f64412fa7dfca062fc5fa98%20%3D%20L.circleMarker%28%0A%20%20%20%20%20%20%20%20%20%20%20%20%20%20%20%20%5B30.535812377929688%2C%20104.06593322753906%5D%2C%0A%20%20%20%20%20%20%20%20%20%20%20%20%20%20%20%20%7B%22bubblingMouseEvents%22%3A%20true%2C%20%22color%22%3A%20%22black%22%2C%20%22dashArray%22%3A%20null%2C%20%22dashOffset%22%3A%20null%2C%20%22fill%22%3A%20true%2C%20%22fillColor%22%3A%20%22black%22%2C%20%22fillOpacity%22%3A%200.8%2C%20%22fillRule%22%3A%20%22evenodd%22%2C%20%22lineCap%22%3A%20%22round%22%2C%20%22lineJoin%22%3A%20%22round%22%2C%20%22opacity%22%3A%201.0%2C%20%22radius%22%3A%204%2C%20%22stroke%22%3A%20true%2C%20%22weight%22%3A%203%7D%0A%20%20%20%20%20%20%20%20%20%20%20%20%29.addTo%28feature_group_2c457c5ad18c4e7db6e3cfb5c7bc78a8%29%3B%0A%20%20%20%20%20%20%20%20%0A%20%20%20%20%0A%20%20%20%20%20%20%20%20%20%20%20%20circle_marker_058f769e4f64412fa7dfca062fc5fa98.bindTooltip%28%0A%20%20%20%20%20%20%20%20%20%20%20%20%20%20%20%20%60%3Cdiv%3E%0A%20%20%20%20%20%20%20%20%20%20%20%20%20%20%20%20%20%20%20%20%20wm6j8nf%202021-11-02%2012%3A36%0A%20%20%20%20%20%20%20%20%20%20%20%20%20%20%20%20%20%3C/div%3E%60%2C%0A%20%20%20%20%20%20%20%20%20%20%20%20%20%20%20%20%7B%22sticky%22%3A%20true%7D%0A%20%20%20%20%20%20%20%20%20%20%20%20%29%3B%0A%20%20%20%20%20%20%20%20%0A%20%20%20%20%0A%20%20%20%20%20%20%20%20%20%20%20%20var%20circle_marker_0ad94c99b3a24ba9aee2c81daac7ade8%20%3D%20L.circleMarker%28%0A%20%20%20%20%20%20%20%20%20%20%20%20%20%20%20%20%5B30.535812377929688%2C%20104.06593322753906%5D%2C%0A%20%20%20%20%20%20%20%20%20%20%20%20%20%20%20%20%7B%22bubblingMouseEvents%22%3A%20true%2C%20%22color%22%3A%20%22black%22%2C%20%22dashArray%22%3A%20null%2C%20%22dashOffset%22%3A%20null%2C%20%22fill%22%3A%20true%2C%20%22fillColor%22%3A%20%22black%22%2C%20%22fillOpacity%22%3A%200.8%2C%20%22fillRule%22%3A%20%22evenodd%22%2C%20%22lineCap%22%3A%20%22round%22%2C%20%22lineJoin%22%3A%20%22round%22%2C%20%22opacity%22%3A%201.0%2C%20%22radius%22%3A%204%2C%20%22stroke%22%3A%20true%2C%20%22weight%22%3A%203%7D%0A%20%20%20%20%20%20%20%20%20%20%20%20%29.addTo%28feature_group_2c457c5ad18c4e7db6e3cfb5c7bc78a8%29%3B%0A%20%20%20%20%20%20%20%20%0A%20%20%20%20%0A%20%20%20%20%20%20%20%20%20%20%20%20circle_marker_0ad94c99b3a24ba9aee2c81daac7ade8.bindTooltip%28%0A%20%20%20%20%20%20%20%20%20%20%20%20%20%20%20%20%60%3Cdiv%3E%0A%20%20%20%20%20%20%20%20%20%20%20%20%20%20%20%20%20%20%20%20%20wm6j8nf%202021-11-03%2012%3A26%0A%20%20%20%20%20%20%20%20%20%20%20%20%20%20%20%20%20%3C/div%3E%60%2C%0A%20%20%20%20%20%20%20%20%20%20%20%20%20%20%20%20%7B%22sticky%22%3A%20true%7D%0A%20%20%20%20%20%20%20%20%20%20%20%20%29%3B%0A%20%20%20%20%20%20%20%20%0A%20%20%20%20%0A%20%20%20%20%20%20%20%20%20%20%20%20var%20circle_marker_5eab24603eb345d1b44a0e3f527107d2%20%3D%20L.circleMarker%28%0A%20%20%20%20%20%20%20%20%20%20%20%20%20%20%20%20%5B30.623703002929688%2C%20104.04945373535156%5D%2C%0A%20%20%20%20%20%20%20%20%20%20%20%20%20%20%20%20%7B%22bubblingMouseEvents%22%3A%20true%2C%20%22color%22%3A%20%22black%22%2C%20%22dashArray%22%3A%20null%2C%20%22dashOffset%22%3A%20null%2C%20%22fill%22%3A%20true%2C%20%22fillColor%22%3A%20%22black%22%2C%20%22fillOpacity%22%3A%200.8%2C%20%22fillRule%22%3A%20%22evenodd%22%2C%20%22lineCap%22%3A%20%22round%22%2C%20%22lineJoin%22%3A%20%22round%22%2C%20%22opacity%22%3A%201.0%2C%20%22radius%22%3A%204%2C%20%22stroke%22%3A%20true%2C%20%22weight%22%3A%203%7D%0A%20%20%20%20%20%20%20%20%20%20%20%20%29.addTo%28feature_group_2c457c5ad18c4e7db6e3cfb5c7bc78a8%29%3B%0A%20%20%20%20%20%20%20%20%0A%20%20%20%20%0A%20%20%20%20%20%20%20%20%20%20%20%20circle_marker_5eab24603eb345d1b44a0e3f527107d2.bindTooltip%28%0A%20%20%20%20%20%20%20%20%20%20%20%20%20%20%20%20%60%3Cdiv%3E%0A%20%20%20%20%20%20%20%20%20%20%20%20%20%20%20%20%20%20%20%20%20wm3ypwy%202021-11-03%2018%3A04%0A%20%20%20%20%20%20%20%20%20%20%20%20%20%20%20%20%20%3C/div%3E%60%2C%0A%20%20%20%20%20%20%20%20%20%20%20%20%20%20%20%20%7B%22sticky%22%3A%20true%7D%0A%20%20%20%20%20%20%20%20%20%20%20%20%29%3B%0A%20%20%20%20%20%20%20%20%0A%20%20%20%20%0A%20%20%20%20%20%20%20%20%20%20%20%20var%20circle_marker_2a52e7a6305542c69f244c4dace392e0%20%3D%20L.circleMarker%28%0A%20%20%20%20%20%20%20%20%20%20%20%20%20%20%20%20%5B30.534439086914062%2C%20104.06867980957031%5D%2C%0A%20%20%20%20%20%20%20%20%20%20%20%20%20%20%20%20%7B%22bubblingMouseEvents%22%3A%20true%2C%20%22color%22%3A%20%22black%22%2C%20%22dashArray%22%3A%20null%2C%20%22dashOffset%22%3A%20null%2C%20%22fill%22%3A%20true%2C%20%22fillColor%22%3A%20%22black%22%2C%20%22fillOpacity%22%3A%200.8%2C%20%22fillRule%22%3A%20%22evenodd%22%2C%20%22lineCap%22%3A%20%22round%22%2C%20%22lineJoin%22%3A%20%22round%22%2C%20%22opacity%22%3A%201.0%2C%20%22radius%22%3A%204%2C%20%22stroke%22%3A%20true%2C%20%22weight%22%3A%203%7D%0A%20%20%20%20%20%20%20%20%20%20%20%20%29.addTo%28feature_group_2c457c5ad18c4e7db6e3cfb5c7bc78a8%29%3B%0A%20%20%20%20%20%20%20%20%0A%20%20%20%20%0A%20%20%20%20%20%20%20%20%20%20%20%20circle_marker_2a52e7a6305542c69f244c4dace392e0.bindTooltip%28%0A%20%20%20%20%20%20%20%20%20%20%20%20%20%20%20%20%60%3Cdiv%3E%0A%20%20%20%20%20%20%20%20%20%20%20%20%20%20%20%20%20%20%20%20%20wm6j8ns%202021-11-04%2009%3A26%0A%20%20%20%20%20%20%20%20%20%20%20%20%20%20%20%20%20%3C/div%3E%60%2C%0A%20%20%20%20%20%20%20%20%20%20%20%20%20%20%20%20%7B%22sticky%22%3A%20true%7D%0A%20%20%20%20%20%20%20%20%20%20%20%20%29%3B%0A%20%20%20%20%20%20%20%20%0A%20%20%20%20%0A%20%20%20%20%20%20%20%20%20%20%20%20var%20circle_marker_ddefbba36ac44fcd89308ce05e46fb72%20%3D%20L.circleMarker%28%0A%20%20%20%20%20%20%20%20%20%20%20%20%20%20%20%20%5B30.534439086914062%2C%20104.06867980957031%5D%2C%0A%20%20%20%20%20%20%20%20%20%20%20%20%20%20%20%20%7B%22bubblingMouseEvents%22%3A%20true%2C%20%22color%22%3A%20%22black%22%2C%20%22dashArray%22%3A%20null%2C%20%22dashOffset%22%3A%20null%2C%20%22fill%22%3A%20true%2C%20%22fillColor%22%3A%20%22black%22%2C%20%22fillOpacity%22%3A%200.8%2C%20%22fillRule%22%3A%20%22evenodd%22%2C%20%22lineCap%22%3A%20%22round%22%2C%20%22lineJoin%22%3A%20%22round%22%2C%20%22opacity%22%3A%201.0%2C%20%22radius%22%3A%204%2C%20%22stroke%22%3A%20true%2C%20%22weight%22%3A%203%7D%0A%20%20%20%20%20%20%20%20%20%20%20%20%29.addTo%28feature_group_2c457c5ad18c4e7db6e3cfb5c7bc78a8%29%3B%0A%20%20%20%20%20%20%20%20%0A%20%20%20%20%0A%20%20%20%20%20%20%20%20%20%20%20%20circle_marker_ddefbba36ac44fcd89308ce05e46fb72.bindTooltip%28%0A%20%20%20%20%20%20%20%20%20%20%20%20%20%20%20%20%60%3Cdiv%3E%0A%20%20%20%20%20%20%20%20%20%20%20%20%20%20%20%20%20%20%20%20%20wm6j8ns%202021-11-05%2009%3A38%0A%20%20%20%20%20%20%20%20%20%20%20%20%20%20%20%20%20%3C/div%3E%60%2C%0A%20%20%20%20%20%20%20%20%20%20%20%20%20%20%20%20%7B%22sticky%22%3A%20true%7D%0A%20%20%20%20%20%20%20%20%20%20%20%20%29%3B%0A%20%20%20%20%20%20%20%20%0A%20%20%20%20%0A%20%20%20%20%20%20%20%20%20%20%20%20var%20circle_marker_598a3c36b0454695bbefc56eee31fc6d%20%3D%20L.circleMarker%28%0A%20%20%20%20%20%20%20%20%20%20%20%20%20%20%20%20%5B30.534439086914062%2C%20104.06867980957031%5D%2C%0A%20%20%20%20%20%20%20%20%20%20%20%20%20%20%20%20%7B%22bubblingMouseEvents%22%3A%20true%2C%20%22color%22%3A%20%22black%22%2C%20%22dashArray%22%3A%20null%2C%20%22dashOffset%22%3A%20null%2C%20%22fill%22%3A%20true%2C%20%22fillColor%22%3A%20%22black%22%2C%20%22fillOpacity%22%3A%200.8%2C%20%22fillRule%22%3A%20%22evenodd%22%2C%20%22lineCap%22%3A%20%22round%22%2C%20%22lineJoin%22%3A%20%22round%22%2C%20%22opacity%22%3A%201.0%2C%20%22radius%22%3A%204%2C%20%22stroke%22%3A%20true%2C%20%22weight%22%3A%203%7D%0A%20%20%20%20%20%20%20%20%20%20%20%20%29.addTo%28feature_group_2c457c5ad18c4e7db6e3cfb5c7bc78a8%29%3B%0A%20%20%20%20%20%20%20%20%0A%20%20%20%20%0A%20%20%20%20%20%20%20%20%20%20%20%20circle_marker_598a3c36b0454695bbefc56eee31fc6d.bindTooltip%28%0A%20%20%20%20%20%20%20%20%20%20%20%20%20%20%20%20%60%3Cdiv%3E%0A%20%20%20%20%20%20%20%20%20%20%20%20%20%20%20%20%20%20%20%20%20wm6j8ns%202021-11-05%2013%3A14%0A%20%20%20%20%20%20%20%20%20%20%20%20%20%20%20%20%20%3C/div%3E%60%2C%0A%20%20%20%20%20%20%20%20%20%20%20%20%20%20%20%20%7B%22sticky%22%3A%20true%7D%0A%20%20%20%20%20%20%20%20%20%20%20%20%29%3B%0A%20%20%20%20%20%20%20%20%0A%20%20%20%20%0A%20%20%20%20%20%20%20%20%20%20%20%20var%20circle_marker_295737a46f364678bb6a72e6eff8e57f%20%3D%20L.circleMarker%28%0A%20%20%20%20%20%20%20%20%20%20%20%20%20%20%20%20%5B30.630569458007812%2C%20104.03572082519531%5D%2C%0A%20%20%20%20%20%20%20%20%20%20%20%20%20%20%20%20%7B%22bubblingMouseEvents%22%3A%20true%2C%20%22color%22%3A%20%22black%22%2C%20%22dashArray%22%3A%20null%2C%20%22dashOffset%22%3A%20null%2C%20%22fill%22%3A%20true%2C%20%22fillColor%22%3A%20%22black%22%2C%20%22fillOpacity%22%3A%200.8%2C%20%22fillRule%22%3A%20%22evenodd%22%2C%20%22lineCap%22%3A%20%22round%22%2C%20%22lineJoin%22%3A%20%22round%22%2C%20%22opacity%22%3A%201.0%2C%20%22radius%22%3A%204%2C%20%22stroke%22%3A%20true%2C%20%22weight%22%3A%203%7D%0A%20%20%20%20%20%20%20%20%20%20%20%20%29.addTo%28feature_group_2c457c5ad18c4e7db6e3cfb5c7bc78a8%29%3B%0A%20%20%20%20%20%20%20%20%0A%20%20%20%20%0A%20%20%20%20%20%20%20%20%20%20%20%20circle_marker_295737a46f364678bb6a72e6eff8e57f.bindTooltip%28%0A%20%20%20%20%20%20%20%20%20%20%20%20%20%20%20%20%60%3Cdiv%3E%0A%20%20%20%20%20%20%20%20%20%20%20%20%20%20%20%20%20%20%20%20%20wm3yr2h%202021-11-05%2018%3A30%0A%20%20%20%20%20%20%20%20%20%20%20%20%20%20%20%20%20%3C/div%3E%60%2C%0A%20%20%20%20%20%20%20%20%20%20%20%20%20%20%20%20%7B%22sticky%22%3A%20true%7D%0A%20%20%20%20%20%20%20%20%20%20%20%20%29%3B%0A%20%20%20%20%20%20%20%20%0A%20%20%20%20%0A%20%20%20%20%20%20%20%20%20%20%20%20var%20circle_marker_be0353d0a0a846da97bfc065236ee850%20%3D%20L.circleMarker%28%0A%20%20%20%20%20%20%20%20%20%20%20%20%20%20%20%20%5B30.534439086914062%2C%20104.06867980957031%5D%2C%0A%20%20%20%20%20%20%20%20%20%20%20%20%20%20%20%20%7B%22bubblingMouseEvents%22%3A%20true%2C%20%22color%22%3A%20%22black%22%2C%20%22dashArray%22%3A%20null%2C%20%22dashOffset%22%3A%20null%2C%20%22fill%22%3A%20true%2C%20%22fillColor%22%3A%20%22black%22%2C%20%22fillOpacity%22%3A%200.8%2C%20%22fillRule%22%3A%20%22evenodd%22%2C%20%22lineCap%22%3A%20%22round%22%2C%20%22lineJoin%22%3A%20%22round%22%2C%20%22opacity%22%3A%201.0%2C%20%22radius%22%3A%204%2C%20%22stroke%22%3A%20true%2C%20%22weight%22%3A%203%7D%0A%20%20%20%20%20%20%20%20%20%20%20%20%29.addTo%28feature_group_2c457c5ad18c4e7db6e3cfb5c7bc78a8%29%3B%0A%20%20%20%20%20%20%20%20%0A%20%20%20%20%0A%20%20%20%20%20%20%20%20%20%20%20%20circle_marker_be0353d0a0a846da97bfc065236ee850.bindTooltip%28%0A%20%20%20%20%20%20%20%20%20%20%20%20%20%20%20%20%60%3Cdiv%3E%0A%20%20%20%20%20%20%20%20%20%20%20%20%20%20%20%20%20%20%20%20%20wm6j8ns%202021-11-08%2009%3A26%0A%20%20%20%20%20%20%20%20%20%20%20%20%20%20%20%20%20%3C/div%3E%60%2C%0A%20%20%20%20%20%20%20%20%20%20%20%20%20%20%20%20%7B%22sticky%22%3A%20true%7D%0A%20%20%20%20%20%20%20%20%20%20%20%20%29%3B%0A%20%20%20%20%20%20%20%20%0A%20%20%20%20%0A%20%20%20%20%20%20%20%20%20%20%20%20var%20circle_marker_b9804e4513674b4595007c0e8fc653c0%20%3D%20L.circleMarker%28%0A%20%20%20%20%20%20%20%20%20%20%20%20%20%20%20%20%5B30.534439086914062%2C%20104.06867980957031%5D%2C%0A%20%20%20%20%20%20%20%20%20%20%20%20%20%20%20%20%7B%22bubblingMouseEvents%22%3A%20true%2C%20%22color%22%3A%20%22black%22%2C%20%22dashArray%22%3A%20null%2C%20%22dashOffset%22%3A%20null%2C%20%22fill%22%3A%20true%2C%20%22fillColor%22%3A%20%22black%22%2C%20%22fillOpacity%22%3A%200.8%2C%20%22fillRule%22%3A%20%22evenodd%22%2C%20%22lineCap%22%3A%20%22round%22%2C%20%22lineJoin%22%3A%20%22round%22%2C%20%22opacity%22%3A%201.0%2C%20%22radius%22%3A%204%2C%20%22stroke%22%3A%20true%2C%20%22weight%22%3A%203%7D%0A%20%20%20%20%20%20%20%20%20%20%20%20%29.addTo%28feature_group_2c457c5ad18c4e7db6e3cfb5c7bc78a8%29%3B%0A%20%20%20%20%20%20%20%20%0A%20%20%20%20%0A%20%20%20%20%20%20%20%20%20%20%20%20circle_marker_b9804e4513674b4595007c0e8fc653c0.bindTooltip%28%0A%20%20%20%20%20%20%20%20%20%20%20%20%20%20%20%20%60%3Cdiv%3E%0A%20%20%20%20%20%20%20%20%20%20%20%20%20%20%20%20%20%20%20%20%20wm6j8ns%202021-11-08%2012%3A25%0A%20%20%20%20%20%20%20%20%20%20%20%20%20%20%20%20%20%3C/div%3E%60%2C%0A%20%20%20%20%20%20%20%20%20%20%20%20%20%20%20%20%7B%22sticky%22%3A%20true%7D%0A%20%20%20%20%20%20%20%20%20%20%20%20%29%3B%0A%20%20%20%20%20%20%20%20%0A%20%20%20%20%0A%20%20%20%20%20%20%20%20%20%20%20%20var%20circle_marker_977d9d16d8ef4f37b9c4303d4e5e9eb2%20%3D%20L.circleMarker%28%0A%20%20%20%20%20%20%20%20%20%20%20%20%20%20%20%20%5B30.684127807617188%2C%20104.03846740722656%5D%2C%0A%20%20%20%20%20%20%20%20%20%20%20%20%20%20%20%20%7B%22bubblingMouseEvents%22%3A%20true%2C%20%22color%22%3A%20%22black%22%2C%20%22dashArray%22%3A%20null%2C%20%22dashOffset%22%3A%20null%2C%20%22fill%22%3A%20true%2C%20%22fillColor%22%3A%20%22black%22%2C%20%22fillOpacity%22%3A%200.8%2C%20%22fillRule%22%3A%20%22evenodd%22%2C%20%22lineCap%22%3A%20%22round%22%2C%20%22lineJoin%22%3A%20%22round%22%2C%20%22opacity%22%3A%201.0%2C%20%22radius%22%3A%204%2C%20%22stroke%22%3A%20true%2C%20%22weight%22%3A%203%7D%0A%20%20%20%20%20%20%20%20%20%20%20%20%29.addTo%28feature_group_2c457c5ad18c4e7db6e3cfb5c7bc78a8%29%3B%0A%20%20%20%20%20%20%20%20%0A%20%20%20%20%0A%20%20%20%20%20%20%20%20%20%20%20%20circle_marker_977d9d16d8ef4f37b9c4303d4e5e9eb2.bindTooltip%28%0A%20%20%20%20%20%20%20%20%20%20%20%20%20%20%20%20%60%3Cdiv%3E%0A%20%20%20%20%20%20%20%20%20%20%20%20%20%20%20%20%20%20%20%20%20wm3yx3y%202021-11-08%2019%3A00%0A%20%20%20%20%20%20%20%20%20%20%20%20%20%20%20%20%20%3C/div%3E%60%2C%0A%20%20%20%20%20%20%20%20%20%20%20%20%20%20%20%20%7B%22sticky%22%3A%20true%7D%0A%20%20%20%20%20%20%20%20%20%20%20%20%29%3B%0A%20%20%20%20%20%20%20%20%0A%20%20%20%20%0A%20%20%20%20%20%20%20%20%20%20%20%20var%20circle_marker_31130e1ed4ae4b97a1d9d0c3f36e6d21%20%3D%20L.circleMarker%28%0A%20%20%20%20%20%20%20%20%20%20%20%20%20%20%20%20%5B30.534439086914062%2C%20104.06867980957031%5D%2C%0A%20%20%20%20%20%20%20%20%20%20%20%20%20%20%20%20%7B%22bubblingMouseEvents%22%3A%20true%2C%20%22color%22%3A%20%22black%22%2C%20%22dashArray%22%3A%20null%2C%20%22dashOffset%22%3A%20null%2C%20%22fill%22%3A%20true%2C%20%22fillColor%22%3A%20%22black%22%2C%20%22fillOpacity%22%3A%200.8%2C%20%22fillRule%22%3A%20%22evenodd%22%2C%20%22lineCap%22%3A%20%22round%22%2C%20%22lineJoin%22%3A%20%22round%22%2C%20%22opacity%22%3A%201.0%2C%20%22radius%22%3A%204%2C%20%22stroke%22%3A%20true%2C%20%22weight%22%3A%203%7D%0A%20%20%20%20%20%20%20%20%20%20%20%20%29.addTo%28feature_group_2c457c5ad18c4e7db6e3cfb5c7bc78a8%29%3B%0A%20%20%20%20%20%20%20%20%0A%20%20%20%20%0A%20%20%20%20%20%20%20%20%20%20%20%20circle_marker_31130e1ed4ae4b97a1d9d0c3f36e6d21.bindTooltip%28%0A%20%20%20%20%20%20%20%20%20%20%20%20%20%20%20%20%60%3Cdiv%3E%0A%20%20%20%20%20%20%20%20%20%20%20%20%20%20%20%20%20%20%20%20%20wm6j8ns%202021-11-09%2009%3A42%0A%20%20%20%20%20%20%20%20%20%20%20%20%20%20%20%20%20%3C/div%3E%60%2C%0A%20%20%20%20%20%20%20%20%20%20%20%20%20%20%20%20%7B%22sticky%22%3A%20true%7D%0A%20%20%20%20%20%20%20%20%20%20%20%20%29%3B%0A%20%20%20%20%20%20%20%20%0A%20%20%20%20%0A%20%20%20%20%20%20%20%20%20%20%20%20var%20circle_marker_8fbf2b29128440fdb0ca88f17b1140aa%20%3D%20L.circleMarker%28%0A%20%20%20%20%20%20%20%20%20%20%20%20%20%20%20%20%5B30.535812377929688%2C%20104.06593322753906%5D%2C%0A%20%20%20%20%20%20%20%20%20%20%20%20%20%20%20%20%7B%22bubblingMouseEvents%22%3A%20true%2C%20%22color%22%3A%20%22black%22%2C%20%22dashArray%22%3A%20null%2C%20%22dashOffset%22%3A%20null%2C%20%22fill%22%3A%20true%2C%20%22fillColor%22%3A%20%22black%22%2C%20%22fillOpacity%22%3A%200.8%2C%20%22fillRule%22%3A%20%22evenodd%22%2C%20%22lineCap%22%3A%20%22round%22%2C%20%22lineJoin%22%3A%20%22round%22%2C%20%22opacity%22%3A%201.0%2C%20%22radius%22%3A%204%2C%20%22stroke%22%3A%20true%2C%20%22weight%22%3A%203%7D%0A%20%20%20%20%20%20%20%20%20%20%20%20%29.addTo%28feature_group_2c457c5ad18c4e7db6e3cfb5c7bc78a8%29%3B%0A%20%20%20%20%20%20%20%20%0A%20%20%20%20%0A%20%20%20%20%20%20%20%20%20%20%20%20circle_marker_8fbf2b29128440fdb0ca88f17b1140aa.bindTooltip%28%0A%20%20%20%20%20%20%20%20%20%20%20%20%20%20%20%20%60%3Cdiv%3E%0A%20%20%20%20%20%20%20%20%20%20%20%20%20%20%20%20%20%20%20%20%20wm6j8nf%202021-11-09%2012%3A20%0A%20%20%20%20%20%20%20%20%20%20%20%20%20%20%20%20%20%3C/div%3E%60%2C%0A%20%20%20%20%20%20%20%20%20%20%20%20%20%20%20%20%7B%22sticky%22%3A%20true%7D%0A%20%20%20%20%20%20%20%20%20%20%20%20%29%3B%0A%20%20%20%20%20%20%20%20%0A%20%20%20%20%0A%20%20%20%20%20%20%20%20%20%20%20%20var%20circle_marker_066c4211d8364d8e81c92fa1d43fdb9c%20%3D%20L.circleMarker%28%0A%20%20%20%20%20%20%20%20%20%20%20%20%20%20%20%20%5B30.534439086914062%2C%20104.06867980957031%5D%2C%0A%20%20%20%20%20%20%20%20%20%20%20%20%20%20%20%20%7B%22bubblingMouseEvents%22%3A%20true%2C%20%22color%22%3A%20%22black%22%2C%20%22dashArray%22%3A%20null%2C%20%22dashOffset%22%3A%20null%2C%20%22fill%22%3A%20true%2C%20%22fillColor%22%3A%20%22black%22%2C%20%22fillOpacity%22%3A%200.8%2C%20%22fillRule%22%3A%20%22evenodd%22%2C%20%22lineCap%22%3A%20%22round%22%2C%20%22lineJoin%22%3A%20%22round%22%2C%20%22opacity%22%3A%201.0%2C%20%22radius%22%3A%204%2C%20%22stroke%22%3A%20true%2C%20%22weight%22%3A%203%7D%0A%20%20%20%20%20%20%20%20%20%20%20%20%29.addTo%28feature_group_2c457c5ad18c4e7db6e3cfb5c7bc78a8%29%3B%0A%20%20%20%20%20%20%20%20%0A%20%20%20%20%0A%20%20%20%20%20%20%20%20%20%20%20%20circle_marker_066c4211d8364d8e81c92fa1d43fdb9c.bindTooltip%28%0A%20%20%20%20%20%20%20%20%20%20%20%20%20%20%20%20%60%3Cdiv%3E%0A%20%20%20%20%20%20%20%20%20%20%20%20%20%20%20%20%20%20%20%20%20wm6j8ns%202021-11-09%2012%3A52%0A%20%20%20%20%20%20%20%20%20%20%20%20%20%20%20%20%20%3C/div%3E%60%2C%0A%20%20%20%20%20%20%20%20%20%20%20%20%20%20%20%20%7B%22sticky%22%3A%20true%7D%0A%20%20%20%20%20%20%20%20%20%20%20%20%29%3B%0A%20%20%20%20%20%20%20%20%0A%20%20%20%20%0A%20%20%20%20%20%20%20%20%20%20%20%20var%20circle_marker_5e6d6e05c23f42ef98c13e0cfb1d24c4%20%3D%20L.circleMarker%28%0A%20%20%20%20%20%20%20%20%20%20%20%20%20%20%20%20%5B30.534439086914062%2C%20104.06867980957031%5D%2C%0A%20%20%20%20%20%20%20%20%20%20%20%20%20%20%20%20%7B%22bubblingMouseEvents%22%3A%20true%2C%20%22color%22%3A%20%22black%22%2C%20%22dashArray%22%3A%20null%2C%20%22dashOffset%22%3A%20null%2C%20%22fill%22%3A%20true%2C%20%22fillColor%22%3A%20%22black%22%2C%20%22fillOpacity%22%3A%200.8%2C%20%22fillRule%22%3A%20%22evenodd%22%2C%20%22lineCap%22%3A%20%22round%22%2C%20%22lineJoin%22%3A%20%22round%22%2C%20%22opacity%22%3A%201.0%2C%20%22radius%22%3A%204%2C%20%22stroke%22%3A%20true%2C%20%22weight%22%3A%203%7D%0A%20%20%20%20%20%20%20%20%20%20%20%20%29.addTo%28feature_group_2c457c5ad18c4e7db6e3cfb5c7bc78a8%29%3B%0A%20%20%20%20%20%20%20%20%0A%20%20%20%20%0A%20%20%20%20%20%20%20%20%20%20%20%20circle_marker_5e6d6e05c23f42ef98c13e0cfb1d24c4.bindTooltip%28%0A%20%20%20%20%20%20%20%20%20%20%20%20%20%20%20%20%60%3Cdiv%3E%0A%20%20%20%20%20%20%20%20%20%20%20%20%20%20%20%20%20%20%20%20%20wm6j8ns%202021-11-10%2009%3A34%0A%20%20%20%20%20%20%20%20%20%20%20%20%20%20%20%20%20%3C/div%3E%60%2C%0A%20%20%20%20%20%20%20%20%20%20%20%20%20%20%20%20%7B%22sticky%22%3A%20true%7D%0A%20%20%20%20%20%20%20%20%20%20%20%20%29%3B%0A%20%20%20%20%20%20%20%20%0A%20%20%20%20%0A%20%20%20%20%20%20%20%20%20%20%20%20var%20circle_marker_e60fabdfdccf4c5b9c3583b743544e40%20%3D%20L.circleMarker%28%0A%20%20%20%20%20%20%20%20%20%20%20%20%20%20%20%20%5B30.534439086914062%2C%20104.06867980957031%5D%2C%0A%20%20%20%20%20%20%20%20%20%20%20%20%20%20%20%20%7B%22bubblingMouseEvents%22%3A%20true%2C%20%22color%22%3A%20%22black%22%2C%20%22dashArray%22%3A%20null%2C%20%22dashOffset%22%3A%20null%2C%20%22fill%22%3A%20true%2C%20%22fillColor%22%3A%20%22black%22%2C%20%22fillOpacity%22%3A%200.8%2C%20%22fillRule%22%3A%20%22evenodd%22%2C%20%22lineCap%22%3A%20%22round%22%2C%20%22lineJoin%22%3A%20%22round%22%2C%20%22opacity%22%3A%201.0%2C%20%22radius%22%3A%204%2C%20%22stroke%22%3A%20true%2C%20%22weight%22%3A%203%7D%0A%20%20%20%20%20%20%20%20%20%20%20%20%29.addTo%28feature_group_2c457c5ad18c4e7db6e3cfb5c7bc78a8%29%3B%0A%20%20%20%20%20%20%20%20%0A%20%20%20%20%0A%20%20%20%20%20%20%20%20%20%20%20%20circle_marker_e60fabdfdccf4c5b9c3583b743544e40.bindTooltip%28%0A%20%20%20%20%20%20%20%20%20%20%20%20%20%20%20%20%60%3Cdiv%3E%0A%20%20%20%20%20%20%20%20%20%20%20%20%20%20%20%20%20%20%20%20%20wm6j8ns%202021-11-10%2012%3A43%0A%20%20%20%20%20%20%20%20%20%20%20%20%20%20%20%20%20%3C/div%3E%60%2C%0A%20%20%20%20%20%20%20%20%20%20%20%20%20%20%20%20%7B%22sticky%22%3A%20true%7D%0A%20%20%20%20%20%20%20%20%20%20%20%20%29%3B%0A%20%20%20%20%20%20%20%20%0A%20%20%20%20%0A%20%20%20%20%20%20%20%20%20%20%20%20var%20circle_marker_e3f1044238374798b08b568145ec6b43%20%3D%20L.circleMarker%28%0A%20%20%20%20%20%20%20%20%20%20%20%20%20%20%20%20%5B30.652542114257812%2C%20104.02473449707031%5D%2C%0A%20%20%20%20%20%20%20%20%20%20%20%20%20%20%20%20%7B%22bubblingMouseEvents%22%3A%20true%2C%20%22color%22%3A%20%22black%22%2C%20%22dashArray%22%3A%20null%2C%20%22dashOffset%22%3A%20null%2C%20%22fill%22%3A%20true%2C%20%22fillColor%22%3A%20%22black%22%2C%20%22fillOpacity%22%3A%200.8%2C%20%22fillRule%22%3A%20%22evenodd%22%2C%20%22lineCap%22%3A%20%22round%22%2C%20%22lineJoin%22%3A%20%22round%22%2C%20%22opacity%22%3A%201.0%2C%20%22radius%22%3A%204%2C%20%22stroke%22%3A%20true%2C%20%22weight%22%3A%203%7D%0A%20%20%20%20%20%20%20%20%20%20%20%20%29.addTo%28feature_group_2c457c5ad18c4e7db6e3cfb5c7bc78a8%29%3B%0A%20%20%20%20%20%20%20%20%0A%20%20%20%20%0A%20%20%20%20%20%20%20%20%20%20%20%20circle_marker_e3f1044238374798b08b568145ec6b43.bindTooltip%28%0A%20%20%20%20%20%20%20%20%20%20%20%20%20%20%20%20%60%3Cdiv%3E%0A%20%20%20%20%20%20%20%20%20%20%20%20%20%20%20%20%20%20%20%20%20wm3yrhh%202021-11-10%2015%3A35%0A%20%20%20%20%20%20%20%20%20%20%20%20%20%20%20%20%20%3C/div%3E%60%2C%0A%20%20%20%20%20%20%20%20%20%20%20%20%20%20%20%20%7B%22sticky%22%3A%20true%7D%0A%20%20%20%20%20%20%20%20%20%20%20%20%29%3B%0A%20%20%20%20%20%20%20%20%0A%20%20%20%20%0A%20%20%20%20%20%20%20%20%20%20%20%20var%20circle_marker_7097b4257e8e45ee8f4bb3d38fbdc2a6%20%3D%20L.circleMarker%28%0A%20%20%20%20%20%20%20%20%20%20%20%20%20%20%20%20%5B30.648422241210938%2C%20104.02198791503906%5D%2C%0A%20%20%20%20%20%20%20%20%20%20%20%20%20%20%20%20%7B%22bubblingMouseEvents%22%3A%20true%2C%20%22color%22%3A%20%22black%22%2C%20%22dashArray%22%3A%20null%2C%20%22dashOffset%22%3A%20null%2C%20%22fill%22%3A%20true%2C%20%22fillColor%22%3A%20%22black%22%2C%20%22fillOpacity%22%3A%200.8%2C%20%22fillRule%22%3A%20%22evenodd%22%2C%20%22lineCap%22%3A%20%22round%22%2C%20%22lineJoin%22%3A%20%22round%22%2C%20%22opacity%22%3A%201.0%2C%20%22radius%22%3A%204%2C%20%22stroke%22%3A%20true%2C%20%22weight%22%3A%203%7D%0A%20%20%20%20%20%20%20%20%20%20%20%20%29.addTo%28feature_group_2c457c5ad18c4e7db6e3cfb5c7bc78a8%29%3B%0A%20%20%20%20%20%20%20%20%0A%20%20%20%20%0A%20%20%20%20%20%20%20%20%20%20%20%20circle_marker_7097b4257e8e45ee8f4bb3d38fbdc2a6.bindTooltip%28%0A%20%20%20%20%20%20%20%20%20%20%20%20%20%20%20%20%60%3Cdiv%3E%0A%20%20%20%20%20%20%20%20%20%20%20%20%20%20%20%20%20%20%20%20%20wm3yr56%202021-11-10%2018%3A19%0A%20%20%20%20%20%20%20%20%20%20%20%20%20%20%20%20%20%3C/div%3E%60%2C%0A%20%20%20%20%20%20%20%20%20%20%20%20%20%20%20%20%7B%22sticky%22%3A%20true%7D%0A%20%20%20%20%20%20%20%20%20%20%20%20%29%3B%0A%20%20%20%20%20%20%20%20%0A%20%20%20%20%0A%20%20%20%20%20%20%20%20%20%20%20%20var%20circle_marker_ca5bb05650bd4f02868847ac50540b29%20%3D%20L.circleMarker%28%0A%20%20%20%20%20%20%20%20%20%20%20%20%20%20%20%20%5B30.684127807617188%2C%20104.03846740722656%5D%2C%0A%20%20%20%20%20%20%20%20%20%20%20%20%20%20%20%20%7B%22bubblingMouseEvents%22%3A%20true%2C%20%22color%22%3A%20%22black%22%2C%20%22dashArray%22%3A%20null%2C%20%22dashOffset%22%3A%20null%2C%20%22fill%22%3A%20true%2C%20%22fillColor%22%3A%20%22black%22%2C%20%22fillOpacity%22%3A%200.8%2C%20%22fillRule%22%3A%20%22evenodd%22%2C%20%22lineCap%22%3A%20%22round%22%2C%20%22lineJoin%22%3A%20%22round%22%2C%20%22opacity%22%3A%201.0%2C%20%22radius%22%3A%204%2C%20%22stroke%22%3A%20true%2C%20%22weight%22%3A%203%7D%0A%20%20%20%20%20%20%20%20%20%20%20%20%29.addTo%28feature_group_2c457c5ad18c4e7db6e3cfb5c7bc78a8%29%3B%0A%20%20%20%20%20%20%20%20%0A%20%20%20%20%0A%20%20%20%20%20%20%20%20%20%20%20%20circle_marker_ca5bb05650bd4f02868847ac50540b29.bindTooltip%28%0A%20%20%20%20%20%20%20%20%20%20%20%20%20%20%20%20%60%3Cdiv%3E%0A%20%20%20%20%20%20%20%20%20%20%20%20%20%20%20%20%20%20%20%20%20wm3yx3y%202021-11-10%2018%3A38%0A%20%20%20%20%20%20%20%20%20%20%20%20%20%20%20%20%20%3C/div%3E%60%2C%0A%20%20%20%20%20%20%20%20%20%20%20%20%20%20%20%20%7B%22sticky%22%3A%20true%7D%0A%20%20%20%20%20%20%20%20%20%20%20%20%29%3B%0A%20%20%20%20%20%20%20%20%0A%20%20%20%20%0A%20%20%20%20%20%20%20%20%20%20%20%20var%20circle_marker_984582ba54204007bd5f8bb53f76249c%20%3D%20L.circleMarker%28%0A%20%20%20%20%20%20%20%20%20%20%20%20%20%20%20%20%5B30.685501098632812%2C%20104.03434753417969%5D%2C%0A%20%20%20%20%20%20%20%20%20%20%20%20%20%20%20%20%7B%22bubblingMouseEvents%22%3A%20true%2C%20%22color%22%3A%20%22black%22%2C%20%22dashArray%22%3A%20null%2C%20%22dashOffset%22%3A%20null%2C%20%22fill%22%3A%20true%2C%20%22fillColor%22%3A%20%22black%22%2C%20%22fillOpacity%22%3A%200.8%2C%20%22fillRule%22%3A%20%22evenodd%22%2C%20%22lineCap%22%3A%20%22round%22%2C%20%22lineJoin%22%3A%20%22round%22%2C%20%22opacity%22%3A%201.0%2C%20%22radius%22%3A%204%2C%20%22stroke%22%3A%20true%2C%20%22weight%22%3A%203%7D%0A%20%20%20%20%20%20%20%20%20%20%20%20%29.addTo%28feature_group_2c457c5ad18c4e7db6e3cfb5c7bc78a8%29%3B%0A%20%20%20%20%20%20%20%20%0A%20%20%20%20%0A%20%20%20%20%20%20%20%20%20%20%20%20circle_marker_984582ba54204007bd5f8bb53f76249c.bindTooltip%28%0A%20%20%20%20%20%20%20%20%20%20%20%20%20%20%20%20%60%3Cdiv%3E%0A%20%20%20%20%20%20%20%20%20%20%20%20%20%20%20%20%20%20%20%20%20wm3yx65%202021-11-11%2008%3A10%0A%20%20%20%20%20%20%20%20%20%20%20%20%20%20%20%20%20%3C/div%3E%60%2C%0A%20%20%20%20%20%20%20%20%20%20%20%20%20%20%20%20%7B%22sticky%22%3A%20true%7D%0A%20%20%20%20%20%20%20%20%20%20%20%20%29%3B%0A%20%20%20%20%20%20%20%20%0A%20%20%20%20%0A%20%20%20%20%20%20%20%20%20%20%20%20var%20circle_marker_e89dfb2d73ec49bbb5ad667fe3ae9e76%20%3D%20L.circleMarker%28%0A%20%20%20%20%20%20%20%20%20%20%20%20%20%20%20%20%5B30.534439086914062%2C%20104.06867980957031%5D%2C%0A%20%20%20%20%20%20%20%20%20%20%20%20%20%20%20%20%7B%22bubblingMouseEvents%22%3A%20true%2C%20%22color%22%3A%20%22black%22%2C%20%22dashArray%22%3A%20null%2C%20%22dashOffset%22%3A%20null%2C%20%22fill%22%3A%20true%2C%20%22fillColor%22%3A%20%22black%22%2C%20%22fillOpacity%22%3A%200.8%2C%20%22fillRule%22%3A%20%22evenodd%22%2C%20%22lineCap%22%3A%20%22round%22%2C%20%22lineJoin%22%3A%20%22round%22%2C%20%22opacity%22%3A%201.0%2C%20%22radius%22%3A%204%2C%20%22stroke%22%3A%20true%2C%20%22weight%22%3A%203%7D%0A%20%20%20%20%20%20%20%20%20%20%20%20%29.addTo%28feature_group_2c457c5ad18c4e7db6e3cfb5c7bc78a8%29%3B%0A%20%20%20%20%20%20%20%20%0A%20%20%20%20%0A%20%20%20%20%20%20%20%20%20%20%20%20circle_marker_e89dfb2d73ec49bbb5ad667fe3ae9e76.bindTooltip%28%0A%20%20%20%20%20%20%20%20%20%20%20%20%20%20%20%20%60%3Cdiv%3E%0A%20%20%20%20%20%20%20%20%20%20%20%20%20%20%20%20%20%20%20%20%20wm6j8ns%202021-11-11%2009%3A30%0A%20%20%20%20%20%20%20%20%20%20%20%20%20%20%20%20%20%3C/div%3E%60%2C%0A%20%20%20%20%20%20%20%20%20%20%20%20%20%20%20%20%7B%22sticky%22%3A%20true%7D%0A%20%20%20%20%20%20%20%20%20%20%20%20%29%3B%0A%20%20%20%20%20%20%20%20%0A%20%20%20%20%0A%20%20%20%20%20%20%20%20%20%20%20%20var%20circle_marker_1a0ca906d8ec4e298ff36ece27685b14%20%3D%20L.circleMarker%28%0A%20%20%20%20%20%20%20%20%20%20%20%20%20%20%20%20%5B30.535812377929688%2C%20104.06593322753906%5D%2C%0A%20%20%20%20%20%20%20%20%20%20%20%20%20%20%20%20%7B%22bubblingMouseEvents%22%3A%20true%2C%20%22color%22%3A%20%22black%22%2C%20%22dashArray%22%3A%20null%2C%20%22dashOffset%22%3A%20null%2C%20%22fill%22%3A%20true%2C%20%22fillColor%22%3A%20%22black%22%2C%20%22fillOpacity%22%3A%200.8%2C%20%22fillRule%22%3A%20%22evenodd%22%2C%20%22lineCap%22%3A%20%22round%22%2C%20%22lineJoin%22%3A%20%22round%22%2C%20%22opacity%22%3A%201.0%2C%20%22radius%22%3A%204%2C%20%22stroke%22%3A%20true%2C%20%22weight%22%3A%203%7D%0A%20%20%20%20%20%20%20%20%20%20%20%20%29.addTo%28feature_group_2c457c5ad18c4e7db6e3cfb5c7bc78a8%29%3B%0A%20%20%20%20%20%20%20%20%0A%20%20%20%20%0A%20%20%20%20%20%20%20%20%20%20%20%20circle_marker_1a0ca906d8ec4e298ff36ece27685b14.bindTooltip%28%0A%20%20%20%20%20%20%20%20%20%20%20%20%20%20%20%20%60%3Cdiv%3E%0A%20%20%20%20%20%20%20%20%20%20%20%20%20%20%20%20%20%20%20%20%20wm6j8nf%202021-11-11%2013%3A04%0A%20%20%20%20%20%20%20%20%20%20%20%20%20%20%20%20%20%3C/div%3E%60%2C%0A%20%20%20%20%20%20%20%20%20%20%20%20%20%20%20%20%7B%22sticky%22%3A%20true%7D%0A%20%20%20%20%20%20%20%20%20%20%20%20%29%3B%0A%20%20%20%20%20%20%20%20%0A%20%20%20%20%0A%20%20%20%20%20%20%20%20%20%20%20%20var%20circle_marker_ad847f3d390c4b23b9c9fcb76824071a%20%3D%20L.circleMarker%28%0A%20%20%20%20%20%20%20%20%20%20%20%20%20%20%20%20%5B30.534439086914062%2C%20104.06867980957031%5D%2C%0A%20%20%20%20%20%20%20%20%20%20%20%20%20%20%20%20%7B%22bubblingMouseEvents%22%3A%20true%2C%20%22color%22%3A%20%22black%22%2C%20%22dashArray%22%3A%20null%2C%20%22dashOffset%22%3A%20null%2C%20%22fill%22%3A%20true%2C%20%22fillColor%22%3A%20%22black%22%2C%20%22fillOpacity%22%3A%200.8%2C%20%22fillRule%22%3A%20%22evenodd%22%2C%20%22lineCap%22%3A%20%22round%22%2C%20%22lineJoin%22%3A%20%22round%22%2C%20%22opacity%22%3A%201.0%2C%20%22radius%22%3A%204%2C%20%22stroke%22%3A%20true%2C%20%22weight%22%3A%203%7D%0A%20%20%20%20%20%20%20%20%20%20%20%20%29.addTo%28feature_group_2c457c5ad18c4e7db6e3cfb5c7bc78a8%29%3B%0A%20%20%20%20%20%20%20%20%0A%20%20%20%20%0A%20%20%20%20%20%20%20%20%20%20%20%20circle_marker_ad847f3d390c4b23b9c9fcb76824071a.bindTooltip%28%0A%20%20%20%20%20%20%20%20%20%20%20%20%20%20%20%20%60%3Cdiv%3E%0A%20%20%20%20%20%20%20%20%20%20%20%20%20%20%20%20%20%20%20%20%20wm6j8ns%202021-11-11%2013%3A38%0A%20%20%20%20%20%20%20%20%20%20%20%20%20%20%20%20%20%3C/div%3E%60%2C%0A%20%20%20%20%20%20%20%20%20%20%20%20%20%20%20%20%7B%22sticky%22%3A%20true%7D%0A%20%20%20%20%20%20%20%20%20%20%20%20%29%3B%0A%20%20%20%20%20%20%20%20%0A%20%20%20%20%0A%20%20%20%20%20%20%20%20%20%20%20%20var%20circle_marker_d8338f3773ba4b8a915c71892879da48%20%3D%20L.circleMarker%28%0A%20%20%20%20%20%20%20%20%20%20%20%20%20%20%20%20%5B30.684127807617188%2C%20104.03846740722656%5D%2C%0A%20%20%20%20%20%20%20%20%20%20%20%20%20%20%20%20%7B%22bubblingMouseEvents%22%3A%20true%2C%20%22color%22%3A%20%22black%22%2C%20%22dashArray%22%3A%20null%2C%20%22dashOffset%22%3A%20null%2C%20%22fill%22%3A%20true%2C%20%22fillColor%22%3A%20%22black%22%2C%20%22fillOpacity%22%3A%200.8%2C%20%22fillRule%22%3A%20%22evenodd%22%2C%20%22lineCap%22%3A%20%22round%22%2C%20%22lineJoin%22%3A%20%22round%22%2C%20%22opacity%22%3A%201.0%2C%20%22radius%22%3A%204%2C%20%22stroke%22%3A%20true%2C%20%22weight%22%3A%203%7D%0A%20%20%20%20%20%20%20%20%20%20%20%20%29.addTo%28feature_group_2c457c5ad18c4e7db6e3cfb5c7bc78a8%29%3B%0A%20%20%20%20%20%20%20%20%0A%20%20%20%20%0A%20%20%20%20%20%20%20%20%20%20%20%20circle_marker_d8338f3773ba4b8a915c71892879da48.bindTooltip%28%0A%20%20%20%20%20%20%20%20%20%20%20%20%20%20%20%20%60%3Cdiv%3E%0A%20%20%20%20%20%20%20%20%20%20%20%20%20%20%20%20%20%20%20%20%20wm3yx3y%202021-11-11%2019%3A15%0A%20%20%20%20%20%20%20%20%20%20%20%20%20%20%20%20%20%3C/div%3E%60%2C%0A%20%20%20%20%20%20%20%20%20%20%20%20%20%20%20%20%7B%22sticky%22%3A%20true%7D%0A%20%20%20%20%20%20%20%20%20%20%20%20%29%3B%0A%20%20%20%20%20%20%20%20%0A%20%20%20%20%0A%20%20%20%20%20%20%20%20%20%20%20%20var%20circle_marker_c597bf05defb4b568f5759b0960ba2f0%20%3D%20L.circleMarker%28%0A%20%20%20%20%20%20%20%20%20%20%20%20%20%20%20%20%5B30.685501098632812%2C%20104.03434753417969%5D%2C%0A%20%20%20%20%20%20%20%20%20%20%20%20%20%20%20%20%7B%22bubblingMouseEvents%22%3A%20true%2C%20%22color%22%3A%20%22black%22%2C%20%22dashArray%22%3A%20null%2C%20%22dashOffset%22%3A%20null%2C%20%22fill%22%3A%20true%2C%20%22fillColor%22%3A%20%22black%22%2C%20%22fillOpacity%22%3A%200.8%2C%20%22fillRule%22%3A%20%22evenodd%22%2C%20%22lineCap%22%3A%20%22round%22%2C%20%22lineJoin%22%3A%20%22round%22%2C%20%22opacity%22%3A%201.0%2C%20%22radius%22%3A%204%2C%20%22stroke%22%3A%20true%2C%20%22weight%22%3A%203%7D%0A%20%20%20%20%20%20%20%20%20%20%20%20%29.addTo%28feature_group_2c457c5ad18c4e7db6e3cfb5c7bc78a8%29%3B%0A%20%20%20%20%20%20%20%20%0A%20%20%20%20%0A%20%20%20%20%20%20%20%20%20%20%20%20circle_marker_c597bf05defb4b568f5759b0960ba2f0.bindTooltip%28%0A%20%20%20%20%20%20%20%20%20%20%20%20%20%20%20%20%60%3Cdiv%3E%0A%20%20%20%20%20%20%20%20%20%20%20%20%20%20%20%20%20%20%20%20%20wm3yx65%202021-11-12%2008%3A10%0A%20%20%20%20%20%20%20%20%20%20%20%20%20%20%20%20%20%3C/div%3E%60%2C%0A%20%20%20%20%20%20%20%20%20%20%20%20%20%20%20%20%7B%22sticky%22%3A%20true%7D%0A%20%20%20%20%20%20%20%20%20%20%20%20%29%3B%0A%20%20%20%20%20%20%20%20%0A%20%20%20%20%0A%20%20%20%20%20%20%20%20%20%20%20%20var%20circle_marker_dc4ccbd88b4048a29628b5538bc898b7%20%3D%20L.circleMarker%28%0A%20%20%20%20%20%20%20%20%20%20%20%20%20%20%20%20%5B30.534439086914062%2C%20104.06867980957031%5D%2C%0A%20%20%20%20%20%20%20%20%20%20%20%20%20%20%20%20%7B%22bubblingMouseEvents%22%3A%20true%2C%20%22color%22%3A%20%22black%22%2C%20%22dashArray%22%3A%20null%2C%20%22dashOffset%22%3A%20null%2C%20%22fill%22%3A%20true%2C%20%22fillColor%22%3A%20%22black%22%2C%20%22fillOpacity%22%3A%200.8%2C%20%22fillRule%22%3A%20%22evenodd%22%2C%20%22lineCap%22%3A%20%22round%22%2C%20%22lineJoin%22%3A%20%22round%22%2C%20%22opacity%22%3A%201.0%2C%20%22radius%22%3A%204%2C%20%22stroke%22%3A%20true%2C%20%22weight%22%3A%203%7D%0A%20%20%20%20%20%20%20%20%20%20%20%20%29.addTo%28feature_group_2c457c5ad18c4e7db6e3cfb5c7bc78a8%29%3B%0A%20%20%20%20%20%20%20%20%0A%20%20%20%20%0A%20%20%20%20%20%20%20%20%20%20%20%20circle_marker_dc4ccbd88b4048a29628b5538bc898b7.bindTooltip%28%0A%20%20%20%20%20%20%20%20%20%20%20%20%20%20%20%20%60%3Cdiv%3E%0A%20%20%20%20%20%20%20%20%20%20%20%20%20%20%20%20%20%20%20%20%20wm6j8ns%202021-11-12%2009%3A27%0A%20%20%20%20%20%20%20%20%20%20%20%20%20%20%20%20%20%3C/div%3E%60%2C%0A%20%20%20%20%20%20%20%20%20%20%20%20%20%20%20%20%7B%22sticky%22%3A%20true%7D%0A%20%20%20%20%20%20%20%20%20%20%20%20%29%3B%0A%20%20%20%20%20%20%20%20%0A%20%20%20%20%0A%20%20%20%20%20%20%20%20%20%20%20%20var%20circle_marker_a87c5c7de94b4e0d88137880dfaac0fd%20%3D%20L.circleMarker%28%0A%20%20%20%20%20%20%20%20%20%20%20%20%20%20%20%20%5B30.534439086914062%2C%20104.06867980957031%5D%2C%0A%20%20%20%20%20%20%20%20%20%20%20%20%20%20%20%20%7B%22bubblingMouseEvents%22%3A%20true%2C%20%22color%22%3A%20%22black%22%2C%20%22dashArray%22%3A%20null%2C%20%22dashOffset%22%3A%20null%2C%20%22fill%22%3A%20true%2C%20%22fillColor%22%3A%20%22black%22%2C%20%22fillOpacity%22%3A%200.8%2C%20%22fillRule%22%3A%20%22evenodd%22%2C%20%22lineCap%22%3A%20%22round%22%2C%20%22lineJoin%22%3A%20%22round%22%2C%20%22opacity%22%3A%201.0%2C%20%22radius%22%3A%204%2C%20%22stroke%22%3A%20true%2C%20%22weight%22%3A%203%7D%0A%20%20%20%20%20%20%20%20%20%20%20%20%29.addTo%28feature_group_2c457c5ad18c4e7db6e3cfb5c7bc78a8%29%3B%0A%20%20%20%20%20%20%20%20%0A%20%20%20%20%0A%20%20%20%20%20%20%20%20%20%20%20%20circle_marker_a87c5c7de94b4e0d88137880dfaac0fd.bindTooltip%28%0A%20%20%20%20%20%20%20%20%20%20%20%20%20%20%20%20%60%3Cdiv%3E%0A%20%20%20%20%20%20%20%20%20%20%20%20%20%20%20%20%20%20%20%20%20wm6j8ns%202021-11-12%2012%3A54%0A%20%20%20%20%20%20%20%20%20%20%20%20%20%20%20%20%20%3C/div%3E%60%2C%0A%20%20%20%20%20%20%20%20%20%20%20%20%20%20%20%20%7B%22sticky%22%3A%20true%7D%0A%20%20%20%20%20%20%20%20%20%20%20%20%29%3B%0A%20%20%20%20%20%20%20%20%0A%20%20%20%20%0A%20%20%20%20%20%20%20%20%20%20%20%20var%20circle_marker_6b8b2b44a62749dd8daeeae50ee4b263%20%3D%20L.circleMarker%28%0A%20%20%20%20%20%20%20%20%20%20%20%20%20%20%20%20%5B30.652542114257812%2C%20104.02473449707031%5D%2C%0A%20%20%20%20%20%20%20%20%20%20%20%20%20%20%20%20%7B%22bubblingMouseEvents%22%3A%20true%2C%20%22color%22%3A%20%22black%22%2C%20%22dashArray%22%3A%20null%2C%20%22dashOffset%22%3A%20null%2C%20%22fill%22%3A%20true%2C%20%22fillColor%22%3A%20%22black%22%2C%20%22fillOpacity%22%3A%200.8%2C%20%22fillRule%22%3A%20%22evenodd%22%2C%20%22lineCap%22%3A%20%22round%22%2C%20%22lineJoin%22%3A%20%22round%22%2C%20%22opacity%22%3A%201.0%2C%20%22radius%22%3A%204%2C%20%22stroke%22%3A%20true%2C%20%22weight%22%3A%203%7D%0A%20%20%20%20%20%20%20%20%20%20%20%20%29.addTo%28feature_group_2c457c5ad18c4e7db6e3cfb5c7bc78a8%29%3B%0A%20%20%20%20%20%20%20%20%0A%20%20%20%20%0A%20%20%20%20%20%20%20%20%20%20%20%20circle_marker_6b8b2b44a62749dd8daeeae50ee4b263.bindTooltip%28%0A%20%20%20%20%20%20%20%20%20%20%20%20%20%20%20%20%60%3Cdiv%3E%0A%20%20%20%20%20%20%20%20%20%20%20%20%20%20%20%20%20%20%20%20%20wm3yrhh%202021-11-12%2014%3A23%0A%20%20%20%20%20%20%20%20%20%20%20%20%20%20%20%20%20%3C/div%3E%60%2C%0A%20%20%20%20%20%20%20%20%20%20%20%20%20%20%20%20%7B%22sticky%22%3A%20true%7D%0A%20%20%20%20%20%20%20%20%20%20%20%20%29%3B%0A%20%20%20%20%20%20%20%20%0A%20%20%20%20%0A%20%20%20%20%20%20%20%20%20%20%20%20var%20circle_marker_82824912953f41cba200d8258746516d%20%3D%20L.circleMarker%28%0A%20%20%20%20%20%20%20%20%20%20%20%20%20%20%20%20%5B30.648422241210938%2C%20104.02198791503906%5D%2C%0A%20%20%20%20%20%20%20%20%20%20%20%20%20%20%20%20%7B%22bubblingMouseEvents%22%3A%20true%2C%20%22color%22%3A%20%22black%22%2C%20%22dashArray%22%3A%20null%2C%20%22dashOffset%22%3A%20null%2C%20%22fill%22%3A%20true%2C%20%22fillColor%22%3A%20%22black%22%2C%20%22fillOpacity%22%3A%200.8%2C%20%22fillRule%22%3A%20%22evenodd%22%2C%20%22lineCap%22%3A%20%22round%22%2C%20%22lineJoin%22%3A%20%22round%22%2C%20%22opacity%22%3A%201.0%2C%20%22radius%22%3A%204%2C%20%22stroke%22%3A%20true%2C%20%22weight%22%3A%203%7D%0A%20%20%20%20%20%20%20%20%20%20%20%20%29.addTo%28feature_group_2c457c5ad18c4e7db6e3cfb5c7bc78a8%29%3B%0A%20%20%20%20%20%20%20%20%0A%20%20%20%20%0A%20%20%20%20%20%20%20%20%20%20%20%20circle_marker_82824912953f41cba200d8258746516d.bindTooltip%28%0A%20%20%20%20%20%20%20%20%20%20%20%20%20%20%20%20%60%3Cdiv%3E%0A%20%20%20%20%20%20%20%20%20%20%20%20%20%20%20%20%20%20%20%20%20wm3yr56%202021-11-12%2019%3A16%0A%20%20%20%20%20%20%20%20%20%20%20%20%20%20%20%20%20%3C/div%3E%60%2C%0A%20%20%20%20%20%20%20%20%20%20%20%20%20%20%20%20%7B%22sticky%22%3A%20true%7D%0A%20%20%20%20%20%20%20%20%20%20%20%20%29%3B%0A%20%20%20%20%20%20%20%20%0A%20%20%20%20%0A%20%20%20%20%20%20%20%20%20%20%20%20var%20circle_marker_dcad56c38ec44df0a607d662e30aca5f%20%3D%20L.circleMarker%28%0A%20%20%20%20%20%20%20%20%20%20%20%20%20%20%20%20%5B30.648422241210938%2C%20104.02198791503906%5D%2C%0A%20%20%20%20%20%20%20%20%20%20%20%20%20%20%20%20%7B%22bubblingMouseEvents%22%3A%20true%2C%20%22color%22%3A%20%22black%22%2C%20%22dashArray%22%3A%20null%2C%20%22dashOffset%22%3A%20null%2C%20%22fill%22%3A%20true%2C%20%22fillColor%22%3A%20%22black%22%2C%20%22fillOpacity%22%3A%200.8%2C%20%22fillRule%22%3A%20%22evenodd%22%2C%20%22lineCap%22%3A%20%22round%22%2C%20%22lineJoin%22%3A%20%22round%22%2C%20%22opacity%22%3A%201.0%2C%20%22radius%22%3A%204%2C%20%22stroke%22%3A%20true%2C%20%22weight%22%3A%203%7D%0A%20%20%20%20%20%20%20%20%20%20%20%20%29.addTo%28feature_group_2c457c5ad18c4e7db6e3cfb5c7bc78a8%29%3B%0A%20%20%20%20%20%20%20%20%0A%20%20%20%20%0A%20%20%20%20%20%20%20%20%20%20%20%20circle_marker_dcad56c38ec44df0a607d662e30aca5f.bindTooltip%28%0A%20%20%20%20%20%20%20%20%20%20%20%20%20%20%20%20%60%3Cdiv%3E%0A%20%20%20%20%20%20%20%20%20%20%20%20%20%20%20%20%20%20%20%20%20wm3yr56%202021-11-12%2019%3A18%0A%20%20%20%20%20%20%20%20%20%20%20%20%20%20%20%20%20%3C/div%3E%60%2C%0A%20%20%20%20%20%20%20%20%20%20%20%20%20%20%20%20%7B%22sticky%22%3A%20true%7D%0A%20%20%20%20%20%20%20%20%20%20%20%20%29%3B%0A%20%20%20%20%20%20%20%20%0A%20%20%20%20%0A%20%20%20%20%20%20%20%20%20%20%20%20var%20circle_marker_12f17e7cba73411a8779bd1f0e1e0a3b%20%3D%20L.circleMarker%28%0A%20%20%20%20%20%20%20%20%20%20%20%20%20%20%20%20%5B30.684127807617188%2C%20104.03846740722656%5D%2C%0A%20%20%20%20%20%20%20%20%20%20%20%20%20%20%20%20%7B%22bubblingMouseEvents%22%3A%20true%2C%20%22color%22%3A%20%22black%22%2C%20%22dashArray%22%3A%20null%2C%20%22dashOffset%22%3A%20null%2C%20%22fill%22%3A%20true%2C%20%22fillColor%22%3A%20%22black%22%2C%20%22fillOpacity%22%3A%200.8%2C%20%22fillRule%22%3A%20%22evenodd%22%2C%20%22lineCap%22%3A%20%22round%22%2C%20%22lineJoin%22%3A%20%22round%22%2C%20%22opacity%22%3A%201.0%2C%20%22radius%22%3A%204%2C%20%22stroke%22%3A%20true%2C%20%22weight%22%3A%203%7D%0A%20%20%20%20%20%20%20%20%20%20%20%20%29.addTo%28feature_group_2c457c5ad18c4e7db6e3cfb5c7bc78a8%29%3B%0A%20%20%20%20%20%20%20%20%0A%20%20%20%20%0A%20%20%20%20%20%20%20%20%20%20%20%20circle_marker_12f17e7cba73411a8779bd1f0e1e0a3b.bindTooltip%28%0A%20%20%20%20%20%20%20%20%20%20%20%20%20%20%20%20%60%3Cdiv%3E%0A%20%20%20%20%20%20%20%20%20%20%20%20%20%20%20%20%20%20%20%20%20wm3yx3y%202021-11-12%2019%3A41%0A%20%20%20%20%20%20%20%20%20%20%20%20%20%20%20%20%20%3C/div%3E%60%2C%0A%20%20%20%20%20%20%20%20%20%20%20%20%20%20%20%20%7B%22sticky%22%3A%20true%7D%0A%20%20%20%20%20%20%20%20%20%20%20%20%29%3B%0A%20%20%20%20%20%20%20%20%0A%20%20%20%20%0A%20%20%20%20%20%20%20%20%20%20%20%20var%20circle_marker_de990b525f1b4bbf97498f913d170b80%20%3D%20L.circleMarker%28%0A%20%20%20%20%20%20%20%20%20%20%20%20%20%20%20%20%5B30.681381225585938%2C%20104.05769348144531%5D%2C%0A%20%20%20%20%20%20%20%20%20%20%20%20%20%20%20%20%7B%22bubblingMouseEvents%22%3A%20true%2C%20%22color%22%3A%20%22black%22%2C%20%22dashArray%22%3A%20null%2C%20%22dashOffset%22%3A%20null%2C%20%22fill%22%3A%20true%2C%20%22fillColor%22%3A%20%22black%22%2C%20%22fillOpacity%22%3A%200.8%2C%20%22fillRule%22%3A%20%22evenodd%22%2C%20%22lineCap%22%3A%20%22round%22%2C%20%22lineJoin%22%3A%20%22round%22%2C%20%22opacity%22%3A%201.0%2C%20%22radius%22%3A%204%2C%20%22stroke%22%3A%20true%2C%20%22weight%22%3A%203%7D%0A%20%20%20%20%20%20%20%20%20%20%20%20%29.addTo%28feature_group_2c457c5ad18c4e7db6e3cfb5c7bc78a8%29%3B%0A%20%20%20%20%20%20%20%20%0A%20%20%20%20%0A%20%20%20%20%20%20%20%20%20%20%20%20circle_marker_de990b525f1b4bbf97498f913d170b80.bindTooltip%28%0A%20%20%20%20%20%20%20%20%20%20%20%20%20%20%20%20%60%3Cdiv%3E%0A%20%20%20%20%20%20%20%20%20%20%20%20%20%20%20%20%20%20%20%20%20wm3yxck%202021-11-13%2014%3A51%0A%20%20%20%20%20%20%20%20%20%20%20%20%20%20%20%20%20%3C/div%3E%60%2C%0A%20%20%20%20%20%20%20%20%20%20%20%20%20%20%20%20%7B%22sticky%22%3A%20true%7D%0A%20%20%20%20%20%20%20%20%20%20%20%20%29%3B%0A%20%20%20%20%20%20%20%20%0A%20%20%20%20%0A%20%20%20%20%20%20%20%20%20%20%20%20var%20circle_marker_c0497af4fcd3450d9431e592c7ada9c1%20%3D%20L.circleMarker%28%0A%20%20%20%20%20%20%20%20%20%20%20%20%20%20%20%20%5B30.684127807617188%2C%20104.03846740722656%5D%2C%0A%20%20%20%20%20%20%20%20%20%20%20%20%20%20%20%20%7B%22bubblingMouseEvents%22%3A%20true%2C%20%22color%22%3A%20%22black%22%2C%20%22dashArray%22%3A%20null%2C%20%22dashOffset%22%3A%20null%2C%20%22fill%22%3A%20true%2C%20%22fillColor%22%3A%20%22black%22%2C%20%22fillOpacity%22%3A%200.8%2C%20%22fillRule%22%3A%20%22evenodd%22%2C%20%22lineCap%22%3A%20%22round%22%2C%20%22lineJoin%22%3A%20%22round%22%2C%20%22opacity%22%3A%201.0%2C%20%22radius%22%3A%204%2C%20%22stroke%22%3A%20true%2C%20%22weight%22%3A%203%7D%0A%20%20%20%20%20%20%20%20%20%20%20%20%29.addTo%28feature_group_2c457c5ad18c4e7db6e3cfb5c7bc78a8%29%3B%0A%20%20%20%20%20%20%20%20%0A%20%20%20%20%0A%20%20%20%20%20%20%20%20%20%20%20%20circle_marker_c0497af4fcd3450d9431e592c7ada9c1.bindTooltip%28%0A%20%20%20%20%20%20%20%20%20%20%20%20%20%20%20%20%60%3Cdiv%3E%0A%20%20%20%20%20%20%20%20%20%20%20%20%20%20%20%20%20%20%20%20%20wm3yx3y%202021-11-13%2016%3A29%0A%20%20%20%20%20%20%20%20%20%20%20%20%20%20%20%20%20%3C/div%3E%60%2C%0A%20%20%20%20%20%20%20%20%20%20%20%20%20%20%20%20%7B%22sticky%22%3A%20true%7D%0A%20%20%20%20%20%20%20%20%20%20%20%20%29%3B%0A%20%20%20%20%20%20%20%20%0A%20%20%20%20%0A%20%20%20%20%20%20%20%20%20%20%20%20var%20circle_marker_7c155e35753d48d19e597fddc4d57e1a%20%3D%20L.circleMarker%28%0A%20%20%20%20%20%20%20%20%20%20%20%20%20%20%20%20%5B30.681381225585938%2C%20104.05769348144531%5D%2C%0A%20%20%20%20%20%20%20%20%20%20%20%20%20%20%20%20%7B%22bubblingMouseEvents%22%3A%20true%2C%20%22color%22%3A%20%22black%22%2C%20%22dashArray%22%3A%20null%2C%20%22dashOffset%22%3A%20null%2C%20%22fill%22%3A%20true%2C%20%22fillColor%22%3A%20%22black%22%2C%20%22fillOpacity%22%3A%200.8%2C%20%22fillRule%22%3A%20%22evenodd%22%2C%20%22lineCap%22%3A%20%22round%22%2C%20%22lineJoin%22%3A%20%22round%22%2C%20%22opacity%22%3A%201.0%2C%20%22radius%22%3A%204%2C%20%22stroke%22%3A%20true%2C%20%22weight%22%3A%203%7D%0A%20%20%20%20%20%20%20%20%20%20%20%20%29.addTo%28feature_group_2c457c5ad18c4e7db6e3cfb5c7bc78a8%29%3B%0A%20%20%20%20%20%20%20%20%0A%20%20%20%20%0A%20%20%20%20%20%20%20%20%20%20%20%20circle_marker_7c155e35753d48d19e597fddc4d57e1a.bindTooltip%28%0A%20%20%20%20%20%20%20%20%20%20%20%20%20%20%20%20%60%3Cdiv%3E%0A%20%20%20%20%20%20%20%20%20%20%20%20%20%20%20%20%20%20%20%20%20wm3yxck%202021-11-14%2014%3A53%0A%20%20%20%20%20%20%20%20%20%20%20%20%20%20%20%20%20%3C/div%3E%60%2C%0A%20%20%20%20%20%20%20%20%20%20%20%20%20%20%20%20%7B%22sticky%22%3A%20true%7D%0A%20%20%20%20%20%20%20%20%20%20%20%20%29%3B%0A%20%20%20%20%20%20%20%20%0A%20%20%20%20%0A%20%20%20%20%20%20%20%20%20%20%20%20var%20circle_marker_83813042d403447584662250fc202ecc%20%3D%20L.circleMarker%28%0A%20%20%20%20%20%20%20%20%20%20%20%20%20%20%20%20%5B30.684127807617188%2C%20104.03846740722656%5D%2C%0A%20%20%20%20%20%20%20%20%20%20%20%20%20%20%20%20%7B%22bubblingMouseEvents%22%3A%20true%2C%20%22color%22%3A%20%22black%22%2C%20%22dashArray%22%3A%20null%2C%20%22dashOffset%22%3A%20null%2C%20%22fill%22%3A%20true%2C%20%22fillColor%22%3A%20%22black%22%2C%20%22fillOpacity%22%3A%200.8%2C%20%22fillRule%22%3A%20%22evenodd%22%2C%20%22lineCap%22%3A%20%22round%22%2C%20%22lineJoin%22%3A%20%22round%22%2C%20%22opacity%22%3A%201.0%2C%20%22radius%22%3A%204%2C%20%22stroke%22%3A%20true%2C%20%22weight%22%3A%203%7D%0A%20%20%20%20%20%20%20%20%20%20%20%20%29.addTo%28feature_group_2c457c5ad18c4e7db6e3cfb5c7bc78a8%29%3B%0A%20%20%20%20%20%20%20%20%0A%20%20%20%20%0A%20%20%20%20%20%20%20%20%20%20%20%20circle_marker_83813042d403447584662250fc202ecc.bindTooltip%28%0A%20%20%20%20%20%20%20%20%20%20%20%20%20%20%20%20%60%3Cdiv%3E%0A%20%20%20%20%20%20%20%20%20%20%20%20%20%20%20%20%20%20%20%20%20wm3yx3y%202021-11-14%2016%3A45%0A%20%20%20%20%20%20%20%20%20%20%20%20%20%20%20%20%20%3C/div%3E%60%2C%0A%20%20%20%20%20%20%20%20%20%20%20%20%20%20%20%20%7B%22sticky%22%3A%20true%7D%0A%20%20%20%20%20%20%20%20%20%20%20%20%29%3B%0A%20%20%20%20%20%20%20%20%0A%20%20%20%20%0A%20%20%20%20%20%20%20%20%20%20%20%20var%20circle_marker_9778e10cee03416c91d23aa69f6bd379%20%3D%20L.circleMarker%28%0A%20%20%20%20%20%20%20%20%20%20%20%20%20%20%20%20%5B30.685501098632812%2C%20104.03434753417969%5D%2C%0A%20%20%20%20%20%20%20%20%20%20%20%20%20%20%20%20%7B%22bubblingMouseEvents%22%3A%20true%2C%20%22color%22%3A%20%22black%22%2C%20%22dashArray%22%3A%20null%2C%20%22dashOffset%22%3A%20null%2C%20%22fill%22%3A%20true%2C%20%22fillColor%22%3A%20%22black%22%2C%20%22fillOpacity%22%3A%200.8%2C%20%22fillRule%22%3A%20%22evenodd%22%2C%20%22lineCap%22%3A%20%22round%22%2C%20%22lineJoin%22%3A%20%22round%22%2C%20%22opacity%22%3A%201.0%2C%20%22radius%22%3A%204%2C%20%22stroke%22%3A%20true%2C%20%22weight%22%3A%203%7D%0A%20%20%20%20%20%20%20%20%20%20%20%20%29.addTo%28feature_group_2c457c5ad18c4e7db6e3cfb5c7bc78a8%29%3B%0A%20%20%20%20%20%20%20%20%0A%20%20%20%20%0A%20%20%20%20%20%20%20%20%20%20%20%20circle_marker_9778e10cee03416c91d23aa69f6bd379.bindTooltip%28%0A%20%20%20%20%20%20%20%20%20%20%20%20%20%20%20%20%60%3Cdiv%3E%0A%20%20%20%20%20%20%20%20%20%20%20%20%20%20%20%20%20%20%20%20%20wm3yx65%202021-11-15%2008%3A11%0A%20%20%20%20%20%20%20%20%20%20%20%20%20%20%20%20%20%3C/div%3E%60%2C%0A%20%20%20%20%20%20%20%20%20%20%20%20%20%20%20%20%7B%22sticky%22%3A%20true%7D%0A%20%20%20%20%20%20%20%20%20%20%20%20%29%3B%0A%20%20%20%20%20%20%20%20%0A%20%20%20%20%0A%20%20%20%20%20%20%20%20%20%20%20%20var%20circle_marker_fb38da111155488f9a1b5408e78e9c83%20%3D%20L.circleMarker%28%0A%20%20%20%20%20%20%20%20%20%20%20%20%20%20%20%20%5B30.534439086914062%2C%20104.06867980957031%5D%2C%0A%20%20%20%20%20%20%20%20%20%20%20%20%20%20%20%20%7B%22bubblingMouseEvents%22%3A%20true%2C%20%22color%22%3A%20%22black%22%2C%20%22dashArray%22%3A%20null%2C%20%22dashOffset%22%3A%20null%2C%20%22fill%22%3A%20true%2C%20%22fillColor%22%3A%20%22black%22%2C%20%22fillOpacity%22%3A%200.8%2C%20%22fillRule%22%3A%20%22evenodd%22%2C%20%22lineCap%22%3A%20%22round%22%2C%20%22lineJoin%22%3A%20%22round%22%2C%20%22opacity%22%3A%201.0%2C%20%22radius%22%3A%204%2C%20%22stroke%22%3A%20true%2C%20%22weight%22%3A%203%7D%0A%20%20%20%20%20%20%20%20%20%20%20%20%29.addTo%28feature_group_2c457c5ad18c4e7db6e3cfb5c7bc78a8%29%3B%0A%20%20%20%20%20%20%20%20%0A%20%20%20%20%0A%20%20%20%20%20%20%20%20%20%20%20%20circle_marker_fb38da111155488f9a1b5408e78e9c83.bindTooltip%28%0A%20%20%20%20%20%20%20%20%20%20%20%20%20%20%20%20%60%3Cdiv%3E%0A%20%20%20%20%20%20%20%20%20%20%20%20%20%20%20%20%20%20%20%20%20wm6j8ns%202021-11-15%2009%3A34%0A%20%20%20%20%20%20%20%20%20%20%20%20%20%20%20%20%20%3C/div%3E%60%2C%0A%20%20%20%20%20%20%20%20%20%20%20%20%20%20%20%20%7B%22sticky%22%3A%20true%7D%0A%20%20%20%20%20%20%20%20%20%20%20%20%29%3B%0A%20%20%20%20%20%20%20%20%0A%20%20%20%20%0A%20%20%20%20%20%20%20%20%20%20%20%20var%20circle_marker_7bfc6a4c5cd0425b991c1772eeda549c%20%3D%20L.circleMarker%28%0A%20%20%20%20%20%20%20%20%20%20%20%20%20%20%20%20%5B30.535812377929688%2C%20104.06593322753906%5D%2C%0A%20%20%20%20%20%20%20%20%20%20%20%20%20%20%20%20%7B%22bubblingMouseEvents%22%3A%20true%2C%20%22color%22%3A%20%22black%22%2C%20%22dashArray%22%3A%20null%2C%20%22dashOffset%22%3A%20null%2C%20%22fill%22%3A%20true%2C%20%22fillColor%22%3A%20%22black%22%2C%20%22fillOpacity%22%3A%200.8%2C%20%22fillRule%22%3A%20%22evenodd%22%2C%20%22lineCap%22%3A%20%22round%22%2C%20%22lineJoin%22%3A%20%22round%22%2C%20%22opacity%22%3A%201.0%2C%20%22radius%22%3A%204%2C%20%22stroke%22%3A%20true%2C%20%22weight%22%3A%203%7D%0A%20%20%20%20%20%20%20%20%20%20%20%20%29.addTo%28feature_group_2c457c5ad18c4e7db6e3cfb5c7bc78a8%29%3B%0A%20%20%20%20%20%20%20%20%0A%20%20%20%20%0A%20%20%20%20%20%20%20%20%20%20%20%20circle_marker_7bfc6a4c5cd0425b991c1772eeda549c.bindTooltip%28%0A%20%20%20%20%20%20%20%20%20%20%20%20%20%20%20%20%60%3Cdiv%3E%0A%20%20%20%20%20%20%20%20%20%20%20%20%20%20%20%20%20%20%20%20%20wm6j8nf%202021-11-15%2012%3A25%0A%20%20%20%20%20%20%20%20%20%20%20%20%20%20%20%20%20%3C/div%3E%60%2C%0A%20%20%20%20%20%20%20%20%20%20%20%20%20%20%20%20%7B%22sticky%22%3A%20true%7D%0A%20%20%20%20%20%20%20%20%20%20%20%20%29%3B%0A%20%20%20%20%20%20%20%20%0A%20%20%20%20%0A%20%20%20%20%20%20%20%20%20%20%20%20var%20circle_marker_48aa7e3007df445ba181493dedc9edb0%20%3D%20L.circleMarker%28%0A%20%20%20%20%20%20%20%20%20%20%20%20%20%20%20%20%5B30.534439086914062%2C%20104.06867980957031%5D%2C%0A%20%20%20%20%20%20%20%20%20%20%20%20%20%20%20%20%7B%22bubblingMouseEvents%22%3A%20true%2C%20%22color%22%3A%20%22black%22%2C%20%22dashArray%22%3A%20null%2C%20%22dashOffset%22%3A%20null%2C%20%22fill%22%3A%20true%2C%20%22fillColor%22%3A%20%22black%22%2C%20%22fillOpacity%22%3A%200.8%2C%20%22fillRule%22%3A%20%22evenodd%22%2C%20%22lineCap%22%3A%20%22round%22%2C%20%22lineJoin%22%3A%20%22round%22%2C%20%22opacity%22%3A%201.0%2C%20%22radius%22%3A%204%2C%20%22stroke%22%3A%20true%2C%20%22weight%22%3A%203%7D%0A%20%20%20%20%20%20%20%20%20%20%20%20%29.addTo%28feature_group_2c457c5ad18c4e7db6e3cfb5c7bc78a8%29%3B%0A%20%20%20%20%20%20%20%20%0A%20%20%20%20%0A%20%20%20%20%20%20%20%20%20%20%20%20circle_marker_48aa7e3007df445ba181493dedc9edb0.bindTooltip%28%0A%20%20%20%20%20%20%20%20%20%20%20%20%20%20%20%20%60%3Cdiv%3E%0A%20%20%20%20%20%20%20%20%20%20%20%20%20%20%20%20%20%20%20%20%20wm6j8ns%202021-11-15%2013%3A05%0A%20%20%20%20%20%20%20%20%20%20%20%20%20%20%20%20%20%3C/div%3E%60%2C%0A%20%20%20%20%20%20%20%20%20%20%20%20%20%20%20%20%7B%22sticky%22%3A%20true%7D%0A%20%20%20%20%20%20%20%20%20%20%20%20%29%3B%0A%20%20%20%20%20%20%20%20%0A%20%20%20%20%0A%20%20%20%20%20%20%20%20%20%20%20%20var%20circle_marker_e4e4bb0ac03c43cd8543cbe775071ae7%20%3D%20L.circleMarker%28%0A%20%20%20%20%20%20%20%20%20%20%20%20%20%20%20%20%5B30.685501098632812%2C%20104.03434753417969%5D%2C%0A%20%20%20%20%20%20%20%20%20%20%20%20%20%20%20%20%7B%22bubblingMouseEvents%22%3A%20true%2C%20%22color%22%3A%20%22black%22%2C%20%22dashArray%22%3A%20null%2C%20%22dashOffset%22%3A%20null%2C%20%22fill%22%3A%20true%2C%20%22fillColor%22%3A%20%22black%22%2C%20%22fillOpacity%22%3A%200.8%2C%20%22fillRule%22%3A%20%22evenodd%22%2C%20%22lineCap%22%3A%20%22round%22%2C%20%22lineJoin%22%3A%20%22round%22%2C%20%22opacity%22%3A%201.0%2C%20%22radius%22%3A%204%2C%20%22stroke%22%3A%20true%2C%20%22weight%22%3A%203%7D%0A%20%20%20%20%20%20%20%20%20%20%20%20%29.addTo%28feature_group_2c457c5ad18c4e7db6e3cfb5c7bc78a8%29%3B%0A%20%20%20%20%20%20%20%20%0A%20%20%20%20%0A%20%20%20%20%20%20%20%20%20%20%20%20circle_marker_e4e4bb0ac03c43cd8543cbe775071ae7.bindTooltip%28%0A%20%20%20%20%20%20%20%20%20%20%20%20%20%20%20%20%60%3Cdiv%3E%0A%20%20%20%20%20%20%20%20%20%20%20%20%20%20%20%20%20%20%20%20%20wm3yx65%202021-11-16%2008%3A14%0A%20%20%20%20%20%20%20%20%20%20%20%20%20%20%20%20%20%3C/div%3E%60%2C%0A%20%20%20%20%20%20%20%20%20%20%20%20%20%20%20%20%7B%22sticky%22%3A%20true%7D%0A%20%20%20%20%20%20%20%20%20%20%20%20%29%3B%0A%20%20%20%20%20%20%20%20%0A%20%20%20%20%0A%20%20%20%20%20%20%20%20%20%20%20%20var%20circle_marker_7f8093e986f44964ac158f17db0d5046%20%3D%20L.circleMarker%28%0A%20%20%20%20%20%20%20%20%20%20%20%20%20%20%20%20%5B30.534439086914062%2C%20104.06867980957031%5D%2C%0A%20%20%20%20%20%20%20%20%20%20%20%20%20%20%20%20%7B%22bubblingMouseEvents%22%3A%20true%2C%20%22color%22%3A%20%22black%22%2C%20%22dashArray%22%3A%20null%2C%20%22dashOffset%22%3A%20null%2C%20%22fill%22%3A%20true%2C%20%22fillColor%22%3A%20%22black%22%2C%20%22fillOpacity%22%3A%200.8%2C%20%22fillRule%22%3A%20%22evenodd%22%2C%20%22lineCap%22%3A%20%22round%22%2C%20%22lineJoin%22%3A%20%22round%22%2C%20%22opacity%22%3A%201.0%2C%20%22radius%22%3A%204%2C%20%22stroke%22%3A%20true%2C%20%22weight%22%3A%203%7D%0A%20%20%20%20%20%20%20%20%20%20%20%20%29.addTo%28feature_group_2c457c5ad18c4e7db6e3cfb5c7bc78a8%29%3B%0A%20%20%20%20%20%20%20%20%0A%20%20%20%20%0A%20%20%20%20%20%20%20%20%20%20%20%20circle_marker_7f8093e986f44964ac158f17db0d5046.bindTooltip%28%0A%20%20%20%20%20%20%20%20%20%20%20%20%20%20%20%20%60%3Cdiv%3E%0A%20%20%20%20%20%20%20%20%20%20%20%20%20%20%20%20%20%20%20%20%20wm6j8ns%202021-11-16%2009%3A38%0A%20%20%20%20%20%20%20%20%20%20%20%20%20%20%20%20%20%3C/div%3E%60%2C%0A%20%20%20%20%20%20%20%20%20%20%20%20%20%20%20%20%7B%22sticky%22%3A%20true%7D%0A%20%20%20%20%20%20%20%20%20%20%20%20%29%3B%0A%20%20%20%20%20%20%20%20%0A%20%20%20%20%0A%20%20%20%20%20%20%20%20%20%20%20%20var%20circle_marker_8cdbaa640bf44909a455d7648467b042%20%3D%20L.circleMarker%28%0A%20%20%20%20%20%20%20%20%20%20%20%20%20%20%20%20%5B30.535812377929688%2C%20104.06593322753906%5D%2C%0A%20%20%20%20%20%20%20%20%20%20%20%20%20%20%20%20%7B%22bubblingMouseEvents%22%3A%20true%2C%20%22color%22%3A%20%22black%22%2C%20%22dashArray%22%3A%20null%2C%20%22dashOffset%22%3A%20null%2C%20%22fill%22%3A%20true%2C%20%22fillColor%22%3A%20%22black%22%2C%20%22fillOpacity%22%3A%200.8%2C%20%22fillRule%22%3A%20%22evenodd%22%2C%20%22lineCap%22%3A%20%22round%22%2C%20%22lineJoin%22%3A%20%22round%22%2C%20%22opacity%22%3A%201.0%2C%20%22radius%22%3A%204%2C%20%22stroke%22%3A%20true%2C%20%22weight%22%3A%203%7D%0A%20%20%20%20%20%20%20%20%20%20%20%20%29.addTo%28feature_group_2c457c5ad18c4e7db6e3cfb5c7bc78a8%29%3B%0A%20%20%20%20%20%20%20%20%0A%20%20%20%20%0A%20%20%20%20%20%20%20%20%20%20%20%20circle_marker_8cdbaa640bf44909a455d7648467b042.bindTooltip%28%0A%20%20%20%20%20%20%20%20%20%20%20%20%20%20%20%20%60%3Cdiv%3E%0A%20%20%20%20%20%20%20%20%20%20%20%20%20%20%20%20%20%20%20%20%20wm6j8nf%202021-11-16%2012%3A30%0A%20%20%20%20%20%20%20%20%20%20%20%20%20%20%20%20%20%3C/div%3E%60%2C%0A%20%20%20%20%20%20%20%20%20%20%20%20%20%20%20%20%7B%22sticky%22%3A%20true%7D%0A%20%20%20%20%20%20%20%20%20%20%20%20%29%3B%0A%20%20%20%20%20%20%20%20%0A%20%20%20%20%0A%20%20%20%20%20%20%20%20%20%20%20%20var%20circle_marker_1f20f54a0e904cbd80e44012dd0b2b93%20%3D%20L.circleMarker%28%0A%20%20%20%20%20%20%20%20%20%20%20%20%20%20%20%20%5B30.534439086914062%2C%20104.06867980957031%5D%2C%0A%20%20%20%20%20%20%20%20%20%20%20%20%20%20%20%20%7B%22bubblingMouseEvents%22%3A%20true%2C%20%22color%22%3A%20%22black%22%2C%20%22dashArray%22%3A%20null%2C%20%22dashOffset%22%3A%20null%2C%20%22fill%22%3A%20true%2C%20%22fillColor%22%3A%20%22black%22%2C%20%22fillOpacity%22%3A%200.8%2C%20%22fillRule%22%3A%20%22evenodd%22%2C%20%22lineCap%22%3A%20%22round%22%2C%20%22lineJoin%22%3A%20%22round%22%2C%20%22opacity%22%3A%201.0%2C%20%22radius%22%3A%204%2C%20%22stroke%22%3A%20true%2C%20%22weight%22%3A%203%7D%0A%20%20%20%20%20%20%20%20%20%20%20%20%29.addTo%28feature_group_2c457c5ad18c4e7db6e3cfb5c7bc78a8%29%3B%0A%20%20%20%20%20%20%20%20%0A%20%20%20%20%0A%20%20%20%20%20%20%20%20%20%20%20%20circle_marker_1f20f54a0e904cbd80e44012dd0b2b93.bindTooltip%28%0A%20%20%20%20%20%20%20%20%20%20%20%20%20%20%20%20%60%3Cdiv%3E%0A%20%20%20%20%20%20%20%20%20%20%20%20%20%20%20%20%20%20%20%20%20wm6j8ns%202021-11-16%2012%3A51%0A%20%20%20%20%20%20%20%20%20%20%20%20%20%20%20%20%20%3C/div%3E%60%2C%0A%20%20%20%20%20%20%20%20%20%20%20%20%20%20%20%20%7B%22sticky%22%3A%20true%7D%0A%20%20%20%20%20%20%20%20%20%20%20%20%29%3B%0A%20%20%20%20%20%20%20%20%0A%20%20%20%20%0A%20%20%20%20%20%20%20%20%20%20%20%20var%20circle_marker_b32289d2ff4b472c8d2b2d4714a45a5b%20%3D%20L.circleMarker%28%0A%20%20%20%20%20%20%20%20%20%20%20%20%20%20%20%20%5B30.631942749023438%2C%20104.03572082519531%5D%2C%0A%20%20%20%20%20%20%20%20%20%20%20%20%20%20%20%20%7B%22bubblingMouseEvents%22%3A%20true%2C%20%22color%22%3A%20%22black%22%2C%20%22dashArray%22%3A%20null%2C%20%22dashOffset%22%3A%20null%2C%20%22fill%22%3A%20true%2C%20%22fillColor%22%3A%20%22black%22%2C%20%22fillOpacity%22%3A%200.8%2C%20%22fillRule%22%3A%20%22evenodd%22%2C%20%22lineCap%22%3A%20%22round%22%2C%20%22lineJoin%22%3A%20%22round%22%2C%20%22opacity%22%3A%201.0%2C%20%22radius%22%3A%204%2C%20%22stroke%22%3A%20true%2C%20%22weight%22%3A%203%7D%0A%20%20%20%20%20%20%20%20%20%20%20%20%29.addTo%28feature_group_2c457c5ad18c4e7db6e3cfb5c7bc78a8%29%3B%0A%20%20%20%20%20%20%20%20%0A%20%20%20%20%0A%20%20%20%20%20%20%20%20%20%20%20%20circle_marker_b32289d2ff4b472c8d2b2d4714a45a5b.bindTooltip%28%0A%20%20%20%20%20%20%20%20%20%20%20%20%20%20%20%20%60%3Cdiv%3E%0A%20%20%20%20%20%20%20%20%20%20%20%20%20%20%20%20%20%20%20%20%20wm3yr2k%202021-11-16%2014%3A43%0A%20%20%20%20%20%20%20%20%20%20%20%20%20%20%20%20%20%3C/div%3E%60%2C%0A%20%20%20%20%20%20%20%20%20%20%20%20%20%20%20%20%7B%22sticky%22%3A%20true%7D%0A%20%20%20%20%20%20%20%20%20%20%20%20%29%3B%0A%20%20%20%20%20%20%20%20%0A%20%20%20%20%0A%20%20%20%20%20%20%20%20%20%20%20%20var%20circle_marker_94e0f55b83004873a42f61529f96e6d0%20%3D%20L.circleMarker%28%0A%20%20%20%20%20%20%20%20%20%20%20%20%20%20%20%20%5B30.630569458007812%2C%20104.03572082519531%5D%2C%0A%20%20%20%20%20%20%20%20%20%20%20%20%20%20%20%20%7B%22bubblingMouseEvents%22%3A%20true%2C%20%22color%22%3A%20%22black%22%2C%20%22dashArray%22%3A%20null%2C%20%22dashOffset%22%3A%20null%2C%20%22fill%22%3A%20true%2C%20%22fillColor%22%3A%20%22black%22%2C%20%22fillOpacity%22%3A%200.8%2C%20%22fillRule%22%3A%20%22evenodd%22%2C%20%22lineCap%22%3A%20%22round%22%2C%20%22lineJoin%22%3A%20%22round%22%2C%20%22opacity%22%3A%201.0%2C%20%22radius%22%3A%204%2C%20%22stroke%22%3A%20true%2C%20%22weight%22%3A%203%7D%0A%20%20%20%20%20%20%20%20%20%20%20%20%29.addTo%28feature_group_2c457c5ad18c4e7db6e3cfb5c7bc78a8%29%3B%0A%20%20%20%20%20%20%20%20%0A%20%20%20%20%0A%20%20%20%20%20%20%20%20%20%20%20%20circle_marker_94e0f55b83004873a42f61529f96e6d0.bindTooltip%28%0A%20%20%20%20%20%20%20%20%20%20%20%20%20%20%20%20%60%3Cdiv%3E%0A%20%20%20%20%20%20%20%20%20%20%20%20%20%20%20%20%20%20%20%20%20wm3yr2h%202021-11-16%2018%3A20%0A%20%20%20%20%20%20%20%20%20%20%20%20%20%20%20%20%20%3C/div%3E%60%2C%0A%20%20%20%20%20%20%20%20%20%20%20%20%20%20%20%20%7B%22sticky%22%3A%20true%7D%0A%20%20%20%20%20%20%20%20%20%20%20%20%29%3B%0A%20%20%20%20%20%20%20%20%0A%20%20%20%20%0A%20%20%20%20%20%20%20%20%20%20%20%20var%20circle_marker_ea830d2bf038468abfeb1c6a6afd7708%20%3D%20L.circleMarker%28%0A%20%20%20%20%20%20%20%20%20%20%20%20%20%20%20%20%5B30.684127807617188%2C%20104.03846740722656%5D%2C%0A%20%20%20%20%20%20%20%20%20%20%20%20%20%20%20%20%7B%22bubblingMouseEvents%22%3A%20true%2C%20%22color%22%3A%20%22black%22%2C%20%22dashArray%22%3A%20null%2C%20%22dashOffset%22%3A%20null%2C%20%22fill%22%3A%20true%2C%20%22fillColor%22%3A%20%22black%22%2C%20%22fillOpacity%22%3A%200.8%2C%20%22fillRule%22%3A%20%22evenodd%22%2C%20%22lineCap%22%3A%20%22round%22%2C%20%22lineJoin%22%3A%20%22round%22%2C%20%22opacity%22%3A%201.0%2C%20%22radius%22%3A%204%2C%20%22stroke%22%3A%20true%2C%20%22weight%22%3A%203%7D%0A%20%20%20%20%20%20%20%20%20%20%20%20%29.addTo%28feature_group_2c457c5ad18c4e7db6e3cfb5c7bc78a8%29%3B%0A%20%20%20%20%20%20%20%20%0A%20%20%20%20%0A%20%20%20%20%20%20%20%20%20%20%20%20circle_marker_ea830d2bf038468abfeb1c6a6afd7708.bindTooltip%28%0A%20%20%20%20%20%20%20%20%20%20%20%20%20%20%20%20%60%3Cdiv%3E%0A%20%20%20%20%20%20%20%20%20%20%20%20%20%20%20%20%20%20%20%20%20wm3yx3y%202021-11-16%2018%3A53%0A%20%20%20%20%20%20%20%20%20%20%20%20%20%20%20%20%20%3C/div%3E%60%2C%0A%20%20%20%20%20%20%20%20%20%20%20%20%20%20%20%20%7B%22sticky%22%3A%20true%7D%0A%20%20%20%20%20%20%20%20%20%20%20%20%29%3B%0A%20%20%20%20%20%20%20%20%0A%20%20%20%20%0A%20%20%20%20%20%20%20%20%20%20%20%20var%20circle_marker_1ca3afd05c9c4d8abc0d90c48ee1a437%20%3D%20L.circleMarker%28%0A%20%20%20%20%20%20%20%20%20%20%20%20%20%20%20%20%5B30.685501098632812%2C%20104.03434753417969%5D%2C%0A%20%20%20%20%20%20%20%20%20%20%20%20%20%20%20%20%7B%22bubblingMouseEvents%22%3A%20true%2C%20%22color%22%3A%20%22black%22%2C%20%22dashArray%22%3A%20null%2C%20%22dashOffset%22%3A%20null%2C%20%22fill%22%3A%20true%2C%20%22fillColor%22%3A%20%22black%22%2C%20%22fillOpacity%22%3A%200.8%2C%20%22fillRule%22%3A%20%22evenodd%22%2C%20%22lineCap%22%3A%20%22round%22%2C%20%22lineJoin%22%3A%20%22round%22%2C%20%22opacity%22%3A%201.0%2C%20%22radius%22%3A%204%2C%20%22stroke%22%3A%20true%2C%20%22weight%22%3A%203%7D%0A%20%20%20%20%20%20%20%20%20%20%20%20%29.addTo%28feature_group_2c457c5ad18c4e7db6e3cfb5c7bc78a8%29%3B%0A%20%20%20%20%20%20%20%20%0A%20%20%20%20%0A%20%20%20%20%20%20%20%20%20%20%20%20circle_marker_1ca3afd05c9c4d8abc0d90c48ee1a437.bindTooltip%28%0A%20%20%20%20%20%20%20%20%20%20%20%20%20%20%20%20%60%3Cdiv%3E%0A%20%20%20%20%20%20%20%20%20%20%20%20%20%20%20%20%20%20%20%20%20wm3yx65%202021-11-17%2008%3A11%0A%20%20%20%20%20%20%20%20%20%20%20%20%20%20%20%20%20%3C/div%3E%60%2C%0A%20%20%20%20%20%20%20%20%20%20%20%20%20%20%20%20%7B%22sticky%22%3A%20true%7D%0A%20%20%20%20%20%20%20%20%20%20%20%20%29%3B%0A%20%20%20%20%20%20%20%20%0A%20%20%20%20%0A%20%20%20%20%20%20%20%20%20%20%20%20var%20circle_marker_f0948a9ba493427a98d1cf754dad1ac7%20%3D%20L.circleMarker%28%0A%20%20%20%20%20%20%20%20%20%20%20%20%20%20%20%20%5B30.534439086914062%2C%20104.06867980957031%5D%2C%0A%20%20%20%20%20%20%20%20%20%20%20%20%20%20%20%20%7B%22bubblingMouseEvents%22%3A%20true%2C%20%22color%22%3A%20%22black%22%2C%20%22dashArray%22%3A%20null%2C%20%22dashOffset%22%3A%20null%2C%20%22fill%22%3A%20true%2C%20%22fillColor%22%3A%20%22black%22%2C%20%22fillOpacity%22%3A%200.8%2C%20%22fillRule%22%3A%20%22evenodd%22%2C%20%22lineCap%22%3A%20%22round%22%2C%20%22lineJoin%22%3A%20%22round%22%2C%20%22opacity%22%3A%201.0%2C%20%22radius%22%3A%204%2C%20%22stroke%22%3A%20true%2C%20%22weight%22%3A%203%7D%0A%20%20%20%20%20%20%20%20%20%20%20%20%29.addTo%28feature_group_2c457c5ad18c4e7db6e3cfb5c7bc78a8%29%3B%0A%20%20%20%20%20%20%20%20%0A%20%20%20%20%0A%20%20%20%20%20%20%20%20%20%20%20%20circle_marker_f0948a9ba493427a98d1cf754dad1ac7.bindTooltip%28%0A%20%20%20%20%20%20%20%20%20%20%20%20%20%20%20%20%60%3Cdiv%3E%0A%20%20%20%20%20%20%20%20%20%20%20%20%20%20%20%20%20%20%20%20%20wm6j8ns%202021-11-17%2009%3A34%0A%20%20%20%20%20%20%20%20%20%20%20%20%20%20%20%20%20%3C/div%3E%60%2C%0A%20%20%20%20%20%20%20%20%20%20%20%20%20%20%20%20%7B%22sticky%22%3A%20true%7D%0A%20%20%20%20%20%20%20%20%20%20%20%20%29%3B%0A%20%20%20%20%20%20%20%20%0A%20%20%20%20%0A%20%20%20%20%20%20%20%20%20%20%20%20var%20circle_marker_4d5f0c8638b54d96a05ba238a793f60a%20%3D%20L.circleMarker%28%0A%20%20%20%20%20%20%20%20%20%20%20%20%20%20%20%20%5B30.534439086914062%2C%20104.06867980957031%5D%2C%0A%20%20%20%20%20%20%20%20%20%20%20%20%20%20%20%20%7B%22bubblingMouseEvents%22%3A%20true%2C%20%22color%22%3A%20%22black%22%2C%20%22dashArray%22%3A%20null%2C%20%22dashOffset%22%3A%20null%2C%20%22fill%22%3A%20true%2C%20%22fillColor%22%3A%20%22black%22%2C%20%22fillOpacity%22%3A%200.8%2C%20%22fillRule%22%3A%20%22evenodd%22%2C%20%22lineCap%22%3A%20%22round%22%2C%20%22lineJoin%22%3A%20%22round%22%2C%20%22opacity%22%3A%201.0%2C%20%22radius%22%3A%204%2C%20%22stroke%22%3A%20true%2C%20%22weight%22%3A%203%7D%0A%20%20%20%20%20%20%20%20%20%20%20%20%29.addTo%28feature_group_2c457c5ad18c4e7db6e3cfb5c7bc78a8%29%3B%0A%20%20%20%20%20%20%20%20%0A%20%20%20%20%0A%20%20%20%20%20%20%20%20%20%20%20%20circle_marker_4d5f0c8638b54d96a05ba238a793f60a.bindTooltip%28%0A%20%20%20%20%20%20%20%20%20%20%20%20%20%20%20%20%60%3Cdiv%3E%0A%20%20%20%20%20%20%20%20%20%20%20%20%20%20%20%20%20%20%20%20%20wm6j8ns%202021-11-17%2012%3A57%0A%20%20%20%20%20%20%20%20%20%20%20%20%20%20%20%20%20%3C/div%3E%60%2C%0A%20%20%20%20%20%20%20%20%20%20%20%20%20%20%20%20%7B%22sticky%22%3A%20true%7D%0A%20%20%20%20%20%20%20%20%20%20%20%20%29%3B%0A%20%20%20%20%20%20%20%20%0A%20%20%20%20%0A%20%20%20%20%20%20%20%20%20%20%20%20var%20circle_marker_63b74d24620e4e7399daffea997807e4%20%3D%20L.circleMarker%28%0A%20%20%20%20%20%20%20%20%20%20%20%20%20%20%20%20%5B30.685501098632812%2C%20104.03434753417969%5D%2C%0A%20%20%20%20%20%20%20%20%20%20%20%20%20%20%20%20%7B%22bubblingMouseEvents%22%3A%20true%2C%20%22color%22%3A%20%22black%22%2C%20%22dashArray%22%3A%20null%2C%20%22dashOffset%22%3A%20null%2C%20%22fill%22%3A%20true%2C%20%22fillColor%22%3A%20%22black%22%2C%20%22fillOpacity%22%3A%200.8%2C%20%22fillRule%22%3A%20%22evenodd%22%2C%20%22lineCap%22%3A%20%22round%22%2C%20%22lineJoin%22%3A%20%22round%22%2C%20%22opacity%22%3A%201.0%2C%20%22radius%22%3A%204%2C%20%22stroke%22%3A%20true%2C%20%22weight%22%3A%203%7D%0A%20%20%20%20%20%20%20%20%20%20%20%20%29.addTo%28feature_group_2c457c5ad18c4e7db6e3cfb5c7bc78a8%29%3B%0A%20%20%20%20%20%20%20%20%0A%20%20%20%20%0A%20%20%20%20%20%20%20%20%20%20%20%20circle_marker_63b74d24620e4e7399daffea997807e4.bindTooltip%28%0A%20%20%20%20%20%20%20%20%20%20%20%20%20%20%20%20%60%3Cdiv%3E%0A%20%20%20%20%20%20%20%20%20%20%20%20%20%20%20%20%20%20%20%20%20wm3yx65%202021-11-18%2008%3A16%0A%20%20%20%20%20%20%20%20%20%20%20%20%20%20%20%20%20%3C/div%3E%60%2C%0A%20%20%20%20%20%20%20%20%20%20%20%20%20%20%20%20%7B%22sticky%22%3A%20true%7D%0A%20%20%20%20%20%20%20%20%20%20%20%20%29%3B%0A%20%20%20%20%20%20%20%20%0A%20%20%20%20%0A%20%20%20%20%20%20%20%20%20%20%20%20var%20circle_marker_5d00dc1b154943d38bc6aacbb90917c0%20%3D%20L.circleMarker%28%0A%20%20%20%20%20%20%20%20%20%20%20%20%20%20%20%20%5B30.534439086914062%2C%20104.06867980957031%5D%2C%0A%20%20%20%20%20%20%20%20%20%20%20%20%20%20%20%20%7B%22bubblingMouseEvents%22%3A%20true%2C%20%22color%22%3A%20%22black%22%2C%20%22dashArray%22%3A%20null%2C%20%22dashOffset%22%3A%20null%2C%20%22fill%22%3A%20true%2C%20%22fillColor%22%3A%20%22black%22%2C%20%22fillOpacity%22%3A%200.8%2C%20%22fillRule%22%3A%20%22evenodd%22%2C%20%22lineCap%22%3A%20%22round%22%2C%20%22lineJoin%22%3A%20%22round%22%2C%20%22opacity%22%3A%201.0%2C%20%22radius%22%3A%204%2C%20%22stroke%22%3A%20true%2C%20%22weight%22%3A%203%7D%0A%20%20%20%20%20%20%20%20%20%20%20%20%29.addTo%28feature_group_2c457c5ad18c4e7db6e3cfb5c7bc78a8%29%3B%0A%20%20%20%20%20%20%20%20%0A%20%20%20%20%0A%20%20%20%20%20%20%20%20%20%20%20%20circle_marker_5d00dc1b154943d38bc6aacbb90917c0.bindTooltip%28%0A%20%20%20%20%20%20%20%20%20%20%20%20%20%20%20%20%60%3Cdiv%3E%0A%20%20%20%20%20%20%20%20%20%20%20%20%20%20%20%20%20%20%20%20%20wm6j8ns%202021-11-18%2009%3A30%0A%20%20%20%20%20%20%20%20%20%20%20%20%20%20%20%20%20%3C/div%3E%60%2C%0A%20%20%20%20%20%20%20%20%20%20%20%20%20%20%20%20%7B%22sticky%22%3A%20true%7D%0A%20%20%20%20%20%20%20%20%20%20%20%20%29%3B%0A%20%20%20%20%20%20%20%20%0A%20%20%20%20%0A%20%20%20%20%20%20%20%20%20%20%20%20var%20circle_marker_307654618e73439fa0590ba4769dc056%20%3D%20L.circleMarker%28%0A%20%20%20%20%20%20%20%20%20%20%20%20%20%20%20%20%5B30.535812377929688%2C%20104.06593322753906%5D%2C%0A%20%20%20%20%20%20%20%20%20%20%20%20%20%20%20%20%7B%22bubblingMouseEvents%22%3A%20true%2C%20%22color%22%3A%20%22black%22%2C%20%22dashArray%22%3A%20null%2C%20%22dashOffset%22%3A%20null%2C%20%22fill%22%3A%20true%2C%20%22fillColor%22%3A%20%22black%22%2C%20%22fillOpacity%22%3A%200.8%2C%20%22fillRule%22%3A%20%22evenodd%22%2C%20%22lineCap%22%3A%20%22round%22%2C%20%22lineJoin%22%3A%20%22round%22%2C%20%22opacity%22%3A%201.0%2C%20%22radius%22%3A%204%2C%20%22stroke%22%3A%20true%2C%20%22weight%22%3A%203%7D%0A%20%20%20%20%20%20%20%20%20%20%20%20%29.addTo%28feature_group_2c457c5ad18c4e7db6e3cfb5c7bc78a8%29%3B%0A%20%20%20%20%20%20%20%20%0A%20%20%20%20%0A%20%20%20%20%20%20%20%20%20%20%20%20circle_marker_307654618e73439fa0590ba4769dc056.bindTooltip%28%0A%20%20%20%20%20%20%20%20%20%20%20%20%20%20%20%20%60%3Cdiv%3E%0A%20%20%20%20%20%20%20%20%20%20%20%20%20%20%20%20%20%20%20%20%20wm6j8nf%202021-11-18%2012%3A06%0A%20%20%20%20%20%20%20%20%20%20%20%20%20%20%20%20%20%3C/div%3E%60%2C%0A%20%20%20%20%20%20%20%20%20%20%20%20%20%20%20%20%7B%22sticky%22%3A%20true%7D%0A%20%20%20%20%20%20%20%20%20%20%20%20%29%3B%0A%20%20%20%20%20%20%20%20%0A%20%20%20%20%0A%20%20%20%20%20%20%20%20%20%20%20%20var%20circle_marker_4469f8bf3e77400a9d76d722490d6194%20%3D%20L.circleMarker%28%0A%20%20%20%20%20%20%20%20%20%20%20%20%20%20%20%20%5B30.534439086914062%2C%20104.06867980957031%5D%2C%0A%20%20%20%20%20%20%20%20%20%20%20%20%20%20%20%20%7B%22bubblingMouseEvents%22%3A%20true%2C%20%22color%22%3A%20%22black%22%2C%20%22dashArray%22%3A%20null%2C%20%22dashOffset%22%3A%20null%2C%20%22fill%22%3A%20true%2C%20%22fillColor%22%3A%20%22black%22%2C%20%22fillOpacity%22%3A%200.8%2C%20%22fillRule%22%3A%20%22evenodd%22%2C%20%22lineCap%22%3A%20%22round%22%2C%20%22lineJoin%22%3A%20%22round%22%2C%20%22opacity%22%3A%201.0%2C%20%22radius%22%3A%204%2C%20%22stroke%22%3A%20true%2C%20%22weight%22%3A%203%7D%0A%20%20%20%20%20%20%20%20%20%20%20%20%29.addTo%28feature_group_2c457c5ad18c4e7db6e3cfb5c7bc78a8%29%3B%0A%20%20%20%20%20%20%20%20%0A%20%20%20%20%0A%20%20%20%20%20%20%20%20%20%20%20%20circle_marker_4469f8bf3e77400a9d76d722490d6194.bindTooltip%28%0A%20%20%20%20%20%20%20%20%20%20%20%20%20%20%20%20%60%3Cdiv%3E%0A%20%20%20%20%20%20%20%20%20%20%20%20%20%20%20%20%20%20%20%20%20wm6j8ns%202021-11-18%2012%3A48%0A%20%20%20%20%20%20%20%20%20%20%20%20%20%20%20%20%20%3C/div%3E%60%2C%0A%20%20%20%20%20%20%20%20%20%20%20%20%20%20%20%20%7B%22sticky%22%3A%20true%7D%0A%20%20%20%20%20%20%20%20%20%20%20%20%29%3B%0A%20%20%20%20%20%20%20%20%0A%20%20%20%20%0A%20%20%20%20%20%20%20%20%20%20%20%20var%20circle_marker_feedf50391204626b38d7df58cd836a9%20%3D%20L.circleMarker%28%0A%20%20%20%20%20%20%20%20%20%20%20%20%20%20%20%20%5B30.534439086914062%2C%20104.06867980957031%5D%2C%0A%20%20%20%20%20%20%20%20%20%20%20%20%20%20%20%20%7B%22bubblingMouseEvents%22%3A%20true%2C%20%22color%22%3A%20%22black%22%2C%20%22dashArray%22%3A%20null%2C%20%22dashOffset%22%3A%20null%2C%20%22fill%22%3A%20true%2C%20%22fillColor%22%3A%20%22black%22%2C%20%22fillOpacity%22%3A%200.8%2C%20%22fillRule%22%3A%20%22evenodd%22%2C%20%22lineCap%22%3A%20%22round%22%2C%20%22lineJoin%22%3A%20%22round%22%2C%20%22opacity%22%3A%201.0%2C%20%22radius%22%3A%204%2C%20%22stroke%22%3A%20true%2C%20%22weight%22%3A%203%7D%0A%20%20%20%20%20%20%20%20%20%20%20%20%29.addTo%28feature_group_2c457c5ad18c4e7db6e3cfb5c7bc78a8%29%3B%0A%20%20%20%20%20%20%20%20%0A%20%20%20%20%0A%20%20%20%20%20%20%20%20%20%20%20%20circle_marker_feedf50391204626b38d7df58cd836a9.bindTooltip%28%0A%20%20%20%20%20%20%20%20%20%20%20%20%20%20%20%20%60%3Cdiv%3E%0A%20%20%20%20%20%20%20%20%20%20%20%20%20%20%20%20%20%20%20%20%20wm6j8ns%202021-11-19%2009%3A33%0A%20%20%20%20%20%20%20%20%20%20%20%20%20%20%20%20%20%3C/div%3E%60%2C%0A%20%20%20%20%20%20%20%20%20%20%20%20%20%20%20%20%7B%22sticky%22%3A%20true%7D%0A%20%20%20%20%20%20%20%20%20%20%20%20%29%3B%0A%20%20%20%20%20%20%20%20%0A%20%20%20%20%0A%20%20%20%20%20%20%20%20%20%20%20%20var%20circle_marker_87d1139d455747758feb4fb62c6799a7%20%3D%20L.circleMarker%28%0A%20%20%20%20%20%20%20%20%20%20%20%20%20%20%20%20%5B30.535812377929688%2C%20104.06593322753906%5D%2C%0A%20%20%20%20%20%20%20%20%20%20%20%20%20%20%20%20%7B%22bubblingMouseEvents%22%3A%20true%2C%20%22color%22%3A%20%22black%22%2C%20%22dashArray%22%3A%20null%2C%20%22dashOffset%22%3A%20null%2C%20%22fill%22%3A%20true%2C%20%22fillColor%22%3A%20%22black%22%2C%20%22fillOpacity%22%3A%200.8%2C%20%22fillRule%22%3A%20%22evenodd%22%2C%20%22lineCap%22%3A%20%22round%22%2C%20%22lineJoin%22%3A%20%22round%22%2C%20%22opacity%22%3A%201.0%2C%20%22radius%22%3A%204%2C%20%22stroke%22%3A%20true%2C%20%22weight%22%3A%203%7D%0A%20%20%20%20%20%20%20%20%20%20%20%20%29.addTo%28feature_group_2c457c5ad18c4e7db6e3cfb5c7bc78a8%29%3B%0A%20%20%20%20%20%20%20%20%0A%20%20%20%20%0A%20%20%20%20%20%20%20%20%20%20%20%20circle_marker_87d1139d455747758feb4fb62c6799a7.bindTooltip%28%0A%20%20%20%20%20%20%20%20%20%20%20%20%20%20%20%20%60%3Cdiv%3E%0A%20%20%20%20%20%20%20%20%20%20%20%20%20%20%20%20%20%20%20%20%20wm6j8nf%202021-11-19%2012%3A07%0A%20%20%20%20%20%20%20%20%20%20%20%20%20%20%20%20%20%3C/div%3E%60%2C%0A%20%20%20%20%20%20%20%20%20%20%20%20%20%20%20%20%7B%22sticky%22%3A%20true%7D%0A%20%20%20%20%20%20%20%20%20%20%20%20%29%3B%0A%20%20%20%20%20%20%20%20%0A%20%20%20%20%0A%20%20%20%20%20%20%20%20%20%20%20%20var%20circle_marker_15f6d05800034ada96d80e845d9c9bfe%20%3D%20L.circleMarker%28%0A%20%20%20%20%20%20%20%20%20%20%20%20%20%20%20%20%5B30.534439086914062%2C%20104.06867980957031%5D%2C%0A%20%20%20%20%20%20%20%20%20%20%20%20%20%20%20%20%7B%22bubblingMouseEvents%22%3A%20true%2C%20%22color%22%3A%20%22black%22%2C%20%22dashArray%22%3A%20null%2C%20%22dashOffset%22%3A%20null%2C%20%22fill%22%3A%20true%2C%20%22fillColor%22%3A%20%22black%22%2C%20%22fillOpacity%22%3A%200.8%2C%20%22fillRule%22%3A%20%22evenodd%22%2C%20%22lineCap%22%3A%20%22round%22%2C%20%22lineJoin%22%3A%20%22round%22%2C%20%22opacity%22%3A%201.0%2C%20%22radius%22%3A%204%2C%20%22stroke%22%3A%20true%2C%20%22weight%22%3A%203%7D%0A%20%20%20%20%20%20%20%20%20%20%20%20%29.addTo%28feature_group_2c457c5ad18c4e7db6e3cfb5c7bc78a8%29%3B%0A%20%20%20%20%20%20%20%20%0A%20%20%20%20%0A%20%20%20%20%20%20%20%20%20%20%20%20circle_marker_15f6d05800034ada96d80e845d9c9bfe.bindTooltip%28%0A%20%20%20%20%20%20%20%20%20%20%20%20%20%20%20%20%60%3Cdiv%3E%0A%20%20%20%20%20%20%20%20%20%20%20%20%20%20%20%20%20%20%20%20%20wm6j8ns%202021-11-19%2012%3A28%0A%20%20%20%20%20%20%20%20%20%20%20%20%20%20%20%20%20%3C/div%3E%60%2C%0A%20%20%20%20%20%20%20%20%20%20%20%20%20%20%20%20%7B%22sticky%22%3A%20true%7D%0A%20%20%20%20%20%20%20%20%20%20%20%20%29%3B%0A%20%20%20%20%20%20%20%20%0A%20%20%20%20%0A%20%20%20%20%20%20%20%20%20%20%20%20var%20circle_marker_82b5112e090248688251fe5ce804337b%20%3D%20L.circleMarker%28%0A%20%20%20%20%20%20%20%20%20%20%20%20%20%20%20%20%5B30.631942749023438%2C%20104.03572082519531%5D%2C%0A%20%20%20%20%20%20%20%20%20%20%20%20%20%20%20%20%7B%22bubblingMouseEvents%22%3A%20true%2C%20%22color%22%3A%20%22black%22%2C%20%22dashArray%22%3A%20null%2C%20%22dashOffset%22%3A%20null%2C%20%22fill%22%3A%20true%2C%20%22fillColor%22%3A%20%22black%22%2C%20%22fillOpacity%22%3A%200.8%2C%20%22fillRule%22%3A%20%22evenodd%22%2C%20%22lineCap%22%3A%20%22round%22%2C%20%22lineJoin%22%3A%20%22round%22%2C%20%22opacity%22%3A%201.0%2C%20%22radius%22%3A%204%2C%20%22stroke%22%3A%20true%2C%20%22weight%22%3A%203%7D%0A%20%20%20%20%20%20%20%20%20%20%20%20%29.addTo%28feature_group_2c457c5ad18c4e7db6e3cfb5c7bc78a8%29%3B%0A%20%20%20%20%20%20%20%20%0A%20%20%20%20%0A%20%20%20%20%20%20%20%20%20%20%20%20circle_marker_82b5112e090248688251fe5ce804337b.bindTooltip%28%0A%20%20%20%20%20%20%20%20%20%20%20%20%20%20%20%20%60%3Cdiv%3E%0A%20%20%20%20%20%20%20%20%20%20%20%20%20%20%20%20%20%20%20%20%20wm3yr2k%202021-11-19%2014%3A02%0A%20%20%20%20%20%20%20%20%20%20%20%20%20%20%20%20%20%3C/div%3E%60%2C%0A%20%20%20%20%20%20%20%20%20%20%20%20%20%20%20%20%7B%22sticky%22%3A%20true%7D%0A%20%20%20%20%20%20%20%20%20%20%20%20%29%3B%0A%20%20%20%20%20%20%20%20%0A%20%20%20%20%0A%20%20%20%20%20%20%20%20%20%20%20%20var%20circle_marker_a6ac557cba55426b83f46f27f17411be%20%3D%20L.circleMarker%28%0A%20%20%20%20%20%20%20%20%20%20%20%20%20%20%20%20%5B30.630569458007812%2C%20104.03572082519531%5D%2C%0A%20%20%20%20%20%20%20%20%20%20%20%20%20%20%20%20%7B%22bubblingMouseEvents%22%3A%20true%2C%20%22color%22%3A%20%22black%22%2C%20%22dashArray%22%3A%20null%2C%20%22dashOffset%22%3A%20null%2C%20%22fill%22%3A%20true%2C%20%22fillColor%22%3A%20%22black%22%2C%20%22fillOpacity%22%3A%200.8%2C%20%22fillRule%22%3A%20%22evenodd%22%2C%20%22lineCap%22%3A%20%22round%22%2C%20%22lineJoin%22%3A%20%22round%22%2C%20%22opacity%22%3A%201.0%2C%20%22radius%22%3A%204%2C%20%22stroke%22%3A%20true%2C%20%22weight%22%3A%203%7D%0A%20%20%20%20%20%20%20%20%20%20%20%20%29.addTo%28feature_group_2c457c5ad18c4e7db6e3cfb5c7bc78a8%29%3B%0A%20%20%20%20%20%20%20%20%0A%20%20%20%20%0A%20%20%20%20%20%20%20%20%20%20%20%20circle_marker_a6ac557cba55426b83f46f27f17411be.bindTooltip%28%0A%20%20%20%20%20%20%20%20%20%20%20%20%20%20%20%20%60%3Cdiv%3E%0A%20%20%20%20%20%20%20%20%20%20%20%20%20%20%20%20%20%20%20%20%20wm3yr2h%202021-11-19%2019%3A09%0A%20%20%20%20%20%20%20%20%20%20%20%20%20%20%20%20%20%3C/div%3E%60%2C%0A%20%20%20%20%20%20%20%20%20%20%20%20%20%20%20%20%7B%22sticky%22%3A%20true%7D%0A%20%20%20%20%20%20%20%20%20%20%20%20%29%3B%0A%20%20%20%20%20%20%20%20%0A%20%20%20%20%0A%20%20%20%20%20%20%20%20%20%20%20%20var%20circle_marker_432c212579c54ba9b06f62b123cbc826%20%3D%20L.circleMarker%28%0A%20%20%20%20%20%20%20%20%20%20%20%20%20%20%20%20%5B30.681381225585938%2C%20104.05769348144531%5D%2C%0A%20%20%20%20%20%20%20%20%20%20%20%20%20%20%20%20%7B%22bubblingMouseEvents%22%3A%20true%2C%20%22color%22%3A%20%22black%22%2C%20%22dashArray%22%3A%20null%2C%20%22dashOffset%22%3A%20null%2C%20%22fill%22%3A%20true%2C%20%22fillColor%22%3A%20%22black%22%2C%20%22fillOpacity%22%3A%200.8%2C%20%22fillRule%22%3A%20%22evenodd%22%2C%20%22lineCap%22%3A%20%22round%22%2C%20%22lineJoin%22%3A%20%22round%22%2C%20%22opacity%22%3A%201.0%2C%20%22radius%22%3A%204%2C%20%22stroke%22%3A%20true%2C%20%22weight%22%3A%203%7D%0A%20%20%20%20%20%20%20%20%20%20%20%20%29.addTo%28feature_group_2c457c5ad18c4e7db6e3cfb5c7bc78a8%29%3B%0A%20%20%20%20%20%20%20%20%0A%20%20%20%20%0A%20%20%20%20%20%20%20%20%20%20%20%20circle_marker_432c212579c54ba9b06f62b123cbc826.bindTooltip%28%0A%20%20%20%20%20%20%20%20%20%20%20%20%20%20%20%20%60%3Cdiv%3E%0A%20%20%20%20%20%20%20%20%20%20%20%20%20%20%20%20%20%20%20%20%20wm3yxck%202021-11-21%2013%3A53%0A%20%20%20%20%20%20%20%20%20%20%20%20%20%20%20%20%20%3C/div%3E%60%2C%0A%20%20%20%20%20%20%20%20%20%20%20%20%20%20%20%20%7B%22sticky%22%3A%20true%7D%0A%20%20%20%20%20%20%20%20%20%20%20%20%29%3B%0A%20%20%20%20%20%20%20%20%0A%20%20%20%20%0A%20%20%20%20%20%20%20%20%20%20%20%20var%20circle_marker_09f1df16a4e743d3a2517618716bb7df%20%3D%20L.circleMarker%28%0A%20%20%20%20%20%20%20%20%20%20%20%20%20%20%20%20%5B30.684127807617188%2C%20104.03846740722656%5D%2C%0A%20%20%20%20%20%20%20%20%20%20%20%20%20%20%20%20%7B%22bubblingMouseEvents%22%3A%20true%2C%20%22color%22%3A%20%22black%22%2C%20%22dashArray%22%3A%20null%2C%20%22dashOffset%22%3A%20null%2C%20%22fill%22%3A%20true%2C%20%22fillColor%22%3A%20%22black%22%2C%20%22fillOpacity%22%3A%200.8%2C%20%22fillRule%22%3A%20%22evenodd%22%2C%20%22lineCap%22%3A%20%22round%22%2C%20%22lineJoin%22%3A%20%22round%22%2C%20%22opacity%22%3A%201.0%2C%20%22radius%22%3A%204%2C%20%22stroke%22%3A%20true%2C%20%22weight%22%3A%203%7D%0A%20%20%20%20%20%20%20%20%20%20%20%20%29.addTo%28feature_group_2c457c5ad18c4e7db6e3cfb5c7bc78a8%29%3B%0A%20%20%20%20%20%20%20%20%0A%20%20%20%20%0A%20%20%20%20%20%20%20%20%20%20%20%20circle_marker_09f1df16a4e743d3a2517618716bb7df.bindTooltip%28%0A%20%20%20%20%20%20%20%20%20%20%20%20%20%20%20%20%60%3Cdiv%3E%0A%20%20%20%20%20%20%20%20%20%20%20%20%20%20%20%20%20%20%20%20%20wm3yx3y%202021-11-21%2015%3A28%0A%20%20%20%20%20%20%20%20%20%20%20%20%20%20%20%20%20%3C/div%3E%60%2C%0A%20%20%20%20%20%20%20%20%20%20%20%20%20%20%20%20%7B%22sticky%22%3A%20true%7D%0A%20%20%20%20%20%20%20%20%20%20%20%20%29%3B%0A%20%20%20%20%20%20%20%20%0A%20%20%20%20%0A%20%20%20%20%20%20%20%20%20%20%20%20var%20circle_marker_e02b155f8513405c969bd4663387f0b4%20%3D%20L.circleMarker%28%0A%20%20%20%20%20%20%20%20%20%20%20%20%20%20%20%20%5B30.685501098632812%2C%20104.03434753417969%5D%2C%0A%20%20%20%20%20%20%20%20%20%20%20%20%20%20%20%20%7B%22bubblingMouseEvents%22%3A%20true%2C%20%22color%22%3A%20%22black%22%2C%20%22dashArray%22%3A%20null%2C%20%22dashOffset%22%3A%20null%2C%20%22fill%22%3A%20true%2C%20%22fillColor%22%3A%20%22black%22%2C%20%22fillOpacity%22%3A%200.8%2C%20%22fillRule%22%3A%20%22evenodd%22%2C%20%22lineCap%22%3A%20%22round%22%2C%20%22lineJoin%22%3A%20%22round%22%2C%20%22opacity%22%3A%201.0%2C%20%22radius%22%3A%204%2C%20%22stroke%22%3A%20true%2C%20%22weight%22%3A%203%7D%0A%20%20%20%20%20%20%20%20%20%20%20%20%29.addTo%28feature_group_2c457c5ad18c4e7db6e3cfb5c7bc78a8%29%3B%0A%20%20%20%20%20%20%20%20%0A%20%20%20%20%0A%20%20%20%20%20%20%20%20%20%20%20%20circle_marker_e02b155f8513405c969bd4663387f0b4.bindTooltip%28%0A%20%20%20%20%20%20%20%20%20%20%20%20%20%20%20%20%60%3Cdiv%3E%0A%20%20%20%20%20%20%20%20%20%20%20%20%20%20%20%20%20%20%20%20%20wm3yx65%202021-11-22%2008%3A04%0A%20%20%20%20%20%20%20%20%20%20%20%20%20%20%20%20%20%3C/div%3E%60%2C%0A%20%20%20%20%20%20%20%20%20%20%20%20%20%20%20%20%7B%22sticky%22%3A%20true%7D%0A%20%20%20%20%20%20%20%20%20%20%20%20%29%3B%0A%20%20%20%20%20%20%20%20%0A%20%20%20%20%0A%20%20%20%20%20%20%20%20%20%20%20%20var%20circle_marker_b7e0d17817f646c0a6b814878d8f4083%20%3D%20L.circleMarker%28%0A%20%20%20%20%20%20%20%20%20%20%20%20%20%20%20%20%5B30.534439086914062%2C%20104.06867980957031%5D%2C%0A%20%20%20%20%20%20%20%20%20%20%20%20%20%20%20%20%7B%22bubblingMouseEvents%22%3A%20true%2C%20%22color%22%3A%20%22black%22%2C%20%22dashArray%22%3A%20null%2C%20%22dashOffset%22%3A%20null%2C%20%22fill%22%3A%20true%2C%20%22fillColor%22%3A%20%22black%22%2C%20%22fillOpacity%22%3A%200.8%2C%20%22fillRule%22%3A%20%22evenodd%22%2C%20%22lineCap%22%3A%20%22round%22%2C%20%22lineJoin%22%3A%20%22round%22%2C%20%22opacity%22%3A%201.0%2C%20%22radius%22%3A%204%2C%20%22stroke%22%3A%20true%2C%20%22weight%22%3A%203%7D%0A%20%20%20%20%20%20%20%20%20%20%20%20%29.addTo%28feature_group_2c457c5ad18c4e7db6e3cfb5c7bc78a8%29%3B%0A%20%20%20%20%20%20%20%20%0A%20%20%20%20%0A%20%20%20%20%20%20%20%20%20%20%20%20circle_marker_b7e0d17817f646c0a6b814878d8f4083.bindTooltip%28%0A%20%20%20%20%20%20%20%20%20%20%20%20%20%20%20%20%60%3Cdiv%3E%0A%20%20%20%20%20%20%20%20%20%20%20%20%20%20%20%20%20%20%20%20%20wm6j8ns%202021-11-22%2009%3A38%0A%20%20%20%20%20%20%20%20%20%20%20%20%20%20%20%20%20%3C/div%3E%60%2C%0A%20%20%20%20%20%20%20%20%20%20%20%20%20%20%20%20%7B%22sticky%22%3A%20true%7D%0A%20%20%20%20%20%20%20%20%20%20%20%20%29%3B%0A%20%20%20%20%20%20%20%20%0A%20%20%20%20%0A%20%20%20%20%20%20%20%20%20%20%20%20var%20circle_marker_c5803c9ff1b34a36870662575b68d3ff%20%3D%20L.circleMarker%28%0A%20%20%20%20%20%20%20%20%20%20%20%20%20%20%20%20%5B30.534439086914062%2C%20104.06867980957031%5D%2C%0A%20%20%20%20%20%20%20%20%20%20%20%20%20%20%20%20%7B%22bubblingMouseEvents%22%3A%20true%2C%20%22color%22%3A%20%22black%22%2C%20%22dashArray%22%3A%20null%2C%20%22dashOffset%22%3A%20null%2C%20%22fill%22%3A%20true%2C%20%22fillColor%22%3A%20%22black%22%2C%20%22fillOpacity%22%3A%200.8%2C%20%22fillRule%22%3A%20%22evenodd%22%2C%20%22lineCap%22%3A%20%22round%22%2C%20%22lineJoin%22%3A%20%22round%22%2C%20%22opacity%22%3A%201.0%2C%20%22radius%22%3A%204%2C%20%22stroke%22%3A%20true%2C%20%22weight%22%3A%203%7D%0A%20%20%20%20%20%20%20%20%20%20%20%20%29.addTo%28feature_group_2c457c5ad18c4e7db6e3cfb5c7bc78a8%29%3B%0A%20%20%20%20%20%20%20%20%0A%20%20%20%20%0A%20%20%20%20%20%20%20%20%20%20%20%20circle_marker_c5803c9ff1b34a36870662575b68d3ff.bindTooltip%28%0A%20%20%20%20%20%20%20%20%20%20%20%20%20%20%20%20%60%3Cdiv%3E%0A%20%20%20%20%20%20%20%20%20%20%20%20%20%20%20%20%20%20%20%20%20wm6j8ns%202021-11-22%2012%3A21%0A%20%20%20%20%20%20%20%20%20%20%20%20%20%20%20%20%20%3C/div%3E%60%2C%0A%20%20%20%20%20%20%20%20%20%20%20%20%20%20%20%20%7B%22sticky%22%3A%20true%7D%0A%20%20%20%20%20%20%20%20%20%20%20%20%29%3B%0A%20%20%20%20%20%20%20%20%0A%20%20%20%20%0A%20%20%20%20%20%20%20%20%20%20%20%20var%20circle_marker_fd6950331c3e47a9a0e50f7f35974f22%20%3D%20L.circleMarker%28%0A%20%20%20%20%20%20%20%20%20%20%20%20%20%20%20%20%5B30.685501098632812%2C%20104.03434753417969%5D%2C%0A%20%20%20%20%20%20%20%20%20%20%20%20%20%20%20%20%7B%22bubblingMouseEvents%22%3A%20true%2C%20%22color%22%3A%20%22black%22%2C%20%22dashArray%22%3A%20null%2C%20%22dashOffset%22%3A%20null%2C%20%22fill%22%3A%20true%2C%20%22fillColor%22%3A%20%22black%22%2C%20%22fillOpacity%22%3A%200.8%2C%20%22fillRule%22%3A%20%22evenodd%22%2C%20%22lineCap%22%3A%20%22round%22%2C%20%22lineJoin%22%3A%20%22round%22%2C%20%22opacity%22%3A%201.0%2C%20%22radius%22%3A%204%2C%20%22stroke%22%3A%20true%2C%20%22weight%22%3A%203%7D%0A%20%20%20%20%20%20%20%20%20%20%20%20%29.addTo%28feature_group_2c457c5ad18c4e7db6e3cfb5c7bc78a8%29%3B%0A%20%20%20%20%20%20%20%20%0A%20%20%20%20%0A%20%20%20%20%20%20%20%20%20%20%20%20circle_marker_fd6950331c3e47a9a0e50f7f35974f22.bindTooltip%28%0A%20%20%20%20%20%20%20%20%20%20%20%20%20%20%20%20%60%3Cdiv%3E%0A%20%20%20%20%20%20%20%20%20%20%20%20%20%20%20%20%20%20%20%20%20wm3yx65%202021-11-23%2007%3A59%0A%20%20%20%20%20%20%20%20%20%20%20%20%20%20%20%20%20%3C/div%3E%60%2C%0A%20%20%20%20%20%20%20%20%20%20%20%20%20%20%20%20%7B%22sticky%22%3A%20true%7D%0A%20%20%20%20%20%20%20%20%20%20%20%20%29%3B%0A%20%20%20%20%20%20%20%20%0A%20%20%20%20%0A%20%20%20%20%20%20%20%20%20%20%20%20var%20circle_marker_ed70dec8d4d14899a6965afa0e20b533%20%3D%20L.circleMarker%28%0A%20%20%20%20%20%20%20%20%20%20%20%20%20%20%20%20%5B30.534439086914062%2C%20104.06867980957031%5D%2C%0A%20%20%20%20%20%20%20%20%20%20%20%20%20%20%20%20%7B%22bubblingMouseEvents%22%3A%20true%2C%20%22color%22%3A%20%22black%22%2C%20%22dashArray%22%3A%20null%2C%20%22dashOffset%22%3A%20null%2C%20%22fill%22%3A%20true%2C%20%22fillColor%22%3A%20%22black%22%2C%20%22fillOpacity%22%3A%200.8%2C%20%22fillRule%22%3A%20%22evenodd%22%2C%20%22lineCap%22%3A%20%22round%22%2C%20%22lineJoin%22%3A%20%22round%22%2C%20%22opacity%22%3A%201.0%2C%20%22radius%22%3A%204%2C%20%22stroke%22%3A%20true%2C%20%22weight%22%3A%203%7D%0A%20%20%20%20%20%20%20%20%20%20%20%20%29.addTo%28feature_group_2c457c5ad18c4e7db6e3cfb5c7bc78a8%29%3B%0A%20%20%20%20%20%20%20%20%0A%20%20%20%20%0A%20%20%20%20%20%20%20%20%20%20%20%20circle_marker_ed70dec8d4d14899a6965afa0e20b533.bindTooltip%28%0A%20%20%20%20%20%20%20%20%20%20%20%20%20%20%20%20%60%3Cdiv%3E%0A%20%20%20%20%20%20%20%20%20%20%20%20%20%20%20%20%20%20%20%20%20wm6j8ns%202021-11-23%2009%3A22%0A%20%20%20%20%20%20%20%20%20%20%20%20%20%20%20%20%20%3C/div%3E%60%2C%0A%20%20%20%20%20%20%20%20%20%20%20%20%20%20%20%20%7B%22sticky%22%3A%20true%7D%0A%20%20%20%20%20%20%20%20%20%20%20%20%29%3B%0A%20%20%20%20%20%20%20%20%0A%20%20%20%20%0A%20%20%20%20%20%20%20%20%20%20%20%20var%20circle_marker_8baf2e2cabc54bb4a893979523c1ccb4%20%3D%20L.circleMarker%28%0A%20%20%20%20%20%20%20%20%20%20%20%20%20%20%20%20%5B30.534439086914062%2C%20104.06867980957031%5D%2C%0A%20%20%20%20%20%20%20%20%20%20%20%20%20%20%20%20%7B%22bubblingMouseEvents%22%3A%20true%2C%20%22color%22%3A%20%22black%22%2C%20%22dashArray%22%3A%20null%2C%20%22dashOffset%22%3A%20null%2C%20%22fill%22%3A%20true%2C%20%22fillColor%22%3A%20%22black%22%2C%20%22fillOpacity%22%3A%200.8%2C%20%22fillRule%22%3A%20%22evenodd%22%2C%20%22lineCap%22%3A%20%22round%22%2C%20%22lineJoin%22%3A%20%22round%22%2C%20%22opacity%22%3A%201.0%2C%20%22radius%22%3A%204%2C%20%22stroke%22%3A%20true%2C%20%22weight%22%3A%203%7D%0A%20%20%20%20%20%20%20%20%20%20%20%20%29.addTo%28feature_group_2c457c5ad18c4e7db6e3cfb5c7bc78a8%29%3B%0A%20%20%20%20%20%20%20%20%0A%20%20%20%20%0A%20%20%20%20%20%20%20%20%20%20%20%20circle_marker_8baf2e2cabc54bb4a893979523c1ccb4.bindTooltip%28%0A%20%20%20%20%20%20%20%20%20%20%20%20%20%20%20%20%60%3Cdiv%3E%0A%20%20%20%20%20%20%20%20%20%20%20%20%20%20%20%20%20%20%20%20%20wm6j8ns%202021-11-23%2012%3A09%0A%20%20%20%20%20%20%20%20%20%20%20%20%20%20%20%20%20%3C/div%3E%60%2C%0A%20%20%20%20%20%20%20%20%20%20%20%20%20%20%20%20%7B%22sticky%22%3A%20true%7D%0A%20%20%20%20%20%20%20%20%20%20%20%20%29%3B%0A%20%20%20%20%20%20%20%20%0A%20%20%20%20%0A%20%20%20%20%20%20%20%20%20%20%20%20var%20circle_marker_a76c4fe1991647ccbf2ac03a31cb44c7%20%3D%20L.circleMarker%28%0A%20%20%20%20%20%20%20%20%20%20%20%20%20%20%20%20%5B30.534439086914062%2C%20104.06867980957031%5D%2C%0A%20%20%20%20%20%20%20%20%20%20%20%20%20%20%20%20%7B%22bubblingMouseEvents%22%3A%20true%2C%20%22color%22%3A%20%22black%22%2C%20%22dashArray%22%3A%20null%2C%20%22dashOffset%22%3A%20null%2C%20%22fill%22%3A%20true%2C%20%22fillColor%22%3A%20%22black%22%2C%20%22fillOpacity%22%3A%200.8%2C%20%22fillRule%22%3A%20%22evenodd%22%2C%20%22lineCap%22%3A%20%22round%22%2C%20%22lineJoin%22%3A%20%22round%22%2C%20%22opacity%22%3A%201.0%2C%20%22radius%22%3A%204%2C%20%22stroke%22%3A%20true%2C%20%22weight%22%3A%203%7D%0A%20%20%20%20%20%20%20%20%20%20%20%20%29.addTo%28feature_group_2c457c5ad18c4e7db6e3cfb5c7bc78a8%29%3B%0A%20%20%20%20%20%20%20%20%0A%20%20%20%20%0A%20%20%20%20%20%20%20%20%20%20%20%20circle_marker_a76c4fe1991647ccbf2ac03a31cb44c7.bindTooltip%28%0A%20%20%20%20%20%20%20%20%20%20%20%20%20%20%20%20%60%3Cdiv%3E%0A%20%20%20%20%20%20%20%20%20%20%20%20%20%20%20%20%20%20%20%20%20wm6j8ns%202021-11-23%2012%3A55%0A%20%20%20%20%20%20%20%20%20%20%20%20%20%20%20%20%20%3C/div%3E%60%2C%0A%20%20%20%20%20%20%20%20%20%20%20%20%20%20%20%20%7B%22sticky%22%3A%20true%7D%0A%20%20%20%20%20%20%20%20%20%20%20%20%29%3B%0A%20%20%20%20%20%20%20%20%0A%20%20%20%20%0A%20%20%20%20%20%20%20%20%20%20%20%20var%20circle_marker_bea71397fbc14e01a321e6d106eb4873%20%3D%20L.circleMarker%28%0A%20%20%20%20%20%20%20%20%20%20%20%20%20%20%20%20%5B30.685501098632812%2C%20104.03434753417969%5D%2C%0A%20%20%20%20%20%20%20%20%20%20%20%20%20%20%20%20%7B%22bubblingMouseEvents%22%3A%20true%2C%20%22color%22%3A%20%22black%22%2C%20%22dashArray%22%3A%20null%2C%20%22dashOffset%22%3A%20null%2C%20%22fill%22%3A%20true%2C%20%22fillColor%22%3A%20%22black%22%2C%20%22fillOpacity%22%3A%200.8%2C%20%22fillRule%22%3A%20%22evenodd%22%2C%20%22lineCap%22%3A%20%22round%22%2C%20%22lineJoin%22%3A%20%22round%22%2C%20%22opacity%22%3A%201.0%2C%20%22radius%22%3A%204%2C%20%22stroke%22%3A%20true%2C%20%22weight%22%3A%203%7D%0A%20%20%20%20%20%20%20%20%20%20%20%20%29.addTo%28feature_group_2c457c5ad18c4e7db6e3cfb5c7bc78a8%29%3B%0A%20%20%20%20%20%20%20%20%0A%20%20%20%20%0A%20%20%20%20%20%20%20%20%20%20%20%20circle_marker_bea71397fbc14e01a321e6d106eb4873.bindTooltip%28%0A%20%20%20%20%20%20%20%20%20%20%20%20%20%20%20%20%60%3Cdiv%3E%0A%20%20%20%20%20%20%20%20%20%20%20%20%20%20%20%20%20%20%20%20%20wm3yx65%202021-11-24%2008%3A07%0A%20%20%20%20%20%20%20%20%20%20%20%20%20%20%20%20%20%3C/div%3E%60%2C%0A%20%20%20%20%20%20%20%20%20%20%20%20%20%20%20%20%7B%22sticky%22%3A%20true%7D%0A%20%20%20%20%20%20%20%20%20%20%20%20%29%3B%0A%20%20%20%20%20%20%20%20%0A%20%20%20%20%0A%20%20%20%20%20%20%20%20%20%20%20%20var%20circle_marker_70a1f7d1dc09478c8ce0da0f91ffae82%20%3D%20L.circleMarker%28%0A%20%20%20%20%20%20%20%20%20%20%20%20%20%20%20%20%5B30.534439086914062%2C%20104.06867980957031%5D%2C%0A%20%20%20%20%20%20%20%20%20%20%20%20%20%20%20%20%7B%22bubblingMouseEvents%22%3A%20true%2C%20%22color%22%3A%20%22black%22%2C%20%22dashArray%22%3A%20null%2C%20%22dashOffset%22%3A%20null%2C%20%22fill%22%3A%20true%2C%20%22fillColor%22%3A%20%22black%22%2C%20%22fillOpacity%22%3A%200.8%2C%20%22fillRule%22%3A%20%22evenodd%22%2C%20%22lineCap%22%3A%20%22round%22%2C%20%22lineJoin%22%3A%20%22round%22%2C%20%22opacity%22%3A%201.0%2C%20%22radius%22%3A%204%2C%20%22stroke%22%3A%20true%2C%20%22weight%22%3A%203%7D%0A%20%20%20%20%20%20%20%20%20%20%20%20%29.addTo%28feature_group_2c457c5ad18c4e7db6e3cfb5c7bc78a8%29%3B%0A%20%20%20%20%20%20%20%20%0A%20%20%20%20%0A%20%20%20%20%20%20%20%20%20%20%20%20circle_marker_70a1f7d1dc09478c8ce0da0f91ffae82.bindTooltip%28%0A%20%20%20%20%20%20%20%20%20%20%20%20%20%20%20%20%60%3Cdiv%3E%0A%20%20%20%20%20%20%20%20%20%20%20%20%20%20%20%20%20%20%20%20%20wm6j8ns%202021-11-24%2009%3A23%0A%20%20%20%20%20%20%20%20%20%20%20%20%20%20%20%20%20%3C/div%3E%60%2C%0A%20%20%20%20%20%20%20%20%20%20%20%20%20%20%20%20%7B%22sticky%22%3A%20true%7D%0A%20%20%20%20%20%20%20%20%20%20%20%20%29%3B%0A%20%20%20%20%20%20%20%20%0A%20%20%20%20%0A%20%20%20%20%20%20%20%20%20%20%20%20var%20circle_marker_cef2828b6b5c44e3b9329ce5b986d7d1%20%3D%20L.circleMarker%28%0A%20%20%20%20%20%20%20%20%20%20%20%20%20%20%20%20%5B30.535812377929688%2C%20104.06593322753906%5D%2C%0A%20%20%20%20%20%20%20%20%20%20%20%20%20%20%20%20%7B%22bubblingMouseEvents%22%3A%20true%2C%20%22color%22%3A%20%22black%22%2C%20%22dashArray%22%3A%20null%2C%20%22dashOffset%22%3A%20null%2C%20%22fill%22%3A%20true%2C%20%22fillColor%22%3A%20%22black%22%2C%20%22fillOpacity%22%3A%200.8%2C%20%22fillRule%22%3A%20%22evenodd%22%2C%20%22lineCap%22%3A%20%22round%22%2C%20%22lineJoin%22%3A%20%22round%22%2C%20%22opacity%22%3A%201.0%2C%20%22radius%22%3A%204%2C%20%22stroke%22%3A%20true%2C%20%22weight%22%3A%203%7D%0A%20%20%20%20%20%20%20%20%20%20%20%20%29.addTo%28feature_group_2c457c5ad18c4e7db6e3cfb5c7bc78a8%29%3B%0A%20%20%20%20%20%20%20%20%0A%20%20%20%20%0A%20%20%20%20%20%20%20%20%20%20%20%20circle_marker_cef2828b6b5c44e3b9329ce5b986d7d1.bindTooltip%28%0A%20%20%20%20%20%20%20%20%20%20%20%20%20%20%20%20%60%3Cdiv%3E%0A%20%20%20%20%20%20%20%20%20%20%20%20%20%20%20%20%20%20%20%20%20wm6j8nf%202021-11-24%2012%3A26%0A%20%20%20%20%20%20%20%20%20%20%20%20%20%20%20%20%20%3C/div%3E%60%2C%0A%20%20%20%20%20%20%20%20%20%20%20%20%20%20%20%20%7B%22sticky%22%3A%20true%7D%0A%20%20%20%20%20%20%20%20%20%20%20%20%29%3B%0A%20%20%20%20%20%20%20%20%0A%20%20%20%20%0A%20%20%20%20%20%20%20%20%20%20%20%20var%20circle_marker_38e1c18652b54c9e916040ed7730cede%20%3D%20L.circleMarker%28%0A%20%20%20%20%20%20%20%20%20%20%20%20%20%20%20%20%5B30.534439086914062%2C%20104.06867980957031%5D%2C%0A%20%20%20%20%20%20%20%20%20%20%20%20%20%20%20%20%7B%22bubblingMouseEvents%22%3A%20true%2C%20%22color%22%3A%20%22black%22%2C%20%22dashArray%22%3A%20null%2C%20%22dashOffset%22%3A%20null%2C%20%22fill%22%3A%20true%2C%20%22fillColor%22%3A%20%22black%22%2C%20%22fillOpacity%22%3A%200.8%2C%20%22fillRule%22%3A%20%22evenodd%22%2C%20%22lineCap%22%3A%20%22round%22%2C%20%22lineJoin%22%3A%20%22round%22%2C%20%22opacity%22%3A%201.0%2C%20%22radius%22%3A%204%2C%20%22stroke%22%3A%20true%2C%20%22weight%22%3A%203%7D%0A%20%20%20%20%20%20%20%20%20%20%20%20%29.addTo%28feature_group_2c457c5ad18c4e7db6e3cfb5c7bc78a8%29%3B%0A%20%20%20%20%20%20%20%20%0A%20%20%20%20%0A%20%20%20%20%20%20%20%20%20%20%20%20circle_marker_38e1c18652b54c9e916040ed7730cede.bindTooltip%28%0A%20%20%20%20%20%20%20%20%20%20%20%20%20%20%20%20%60%3Cdiv%3E%0A%20%20%20%20%20%20%20%20%20%20%20%20%20%20%20%20%20%20%20%20%20wm6j8ns%202021-11-24%2013%3A21%0A%20%20%20%20%20%20%20%20%20%20%20%20%20%20%20%20%20%3C/div%3E%60%2C%0A%20%20%20%20%20%20%20%20%20%20%20%20%20%20%20%20%7B%22sticky%22%3A%20true%7D%0A%20%20%20%20%20%20%20%20%20%20%20%20%29%3B%0A%20%20%20%20%20%20%20%20%0A%20%20%20%20%0A%20%20%20%20%20%20%20%20%20%20%20%20var%20circle_marker_b30e8284c64949e7947b204cd28dc000%20%3D%20L.circleMarker%28%0A%20%20%20%20%20%20%20%20%20%20%20%20%20%20%20%20%5B30.685501098632812%2C%20104.03434753417969%5D%2C%0A%20%20%20%20%20%20%20%20%20%20%20%20%20%20%20%20%7B%22bubblingMouseEvents%22%3A%20true%2C%20%22color%22%3A%20%22black%22%2C%20%22dashArray%22%3A%20null%2C%20%22dashOffset%22%3A%20null%2C%20%22fill%22%3A%20true%2C%20%22fillColor%22%3A%20%22black%22%2C%20%22fillOpacity%22%3A%200.8%2C%20%22fillRule%22%3A%20%22evenodd%22%2C%20%22lineCap%22%3A%20%22round%22%2C%20%22lineJoin%22%3A%20%22round%22%2C%20%22opacity%22%3A%201.0%2C%20%22radius%22%3A%204%2C%20%22stroke%22%3A%20true%2C%20%22weight%22%3A%203%7D%0A%20%20%20%20%20%20%20%20%20%20%20%20%29.addTo%28feature_group_2c457c5ad18c4e7db6e3cfb5c7bc78a8%29%3B%0A%20%20%20%20%20%20%20%20%0A%20%20%20%20%0A%20%20%20%20%20%20%20%20%20%20%20%20circle_marker_b30e8284c64949e7947b204cd28dc000.bindTooltip%28%0A%20%20%20%20%20%20%20%20%20%20%20%20%20%20%20%20%60%3Cdiv%3E%0A%20%20%20%20%20%20%20%20%20%20%20%20%20%20%20%20%20%20%20%20%20wm3yx65%202021-11-25%2008%3A08%0A%20%20%20%20%20%20%20%20%20%20%20%20%20%20%20%20%20%3C/div%3E%60%2C%0A%20%20%20%20%20%20%20%20%20%20%20%20%20%20%20%20%7B%22sticky%22%3A%20true%7D%0A%20%20%20%20%20%20%20%20%20%20%20%20%29%3B%0A%20%20%20%20%20%20%20%20%0A%20%20%20%20%0A%20%20%20%20%20%20%20%20%20%20%20%20var%20circle_marker_4371c125717f4c3dac28f48ea371b93a%20%3D%20L.circleMarker%28%0A%20%20%20%20%20%20%20%20%20%20%20%20%20%20%20%20%5B30.535812377929688%2C%20104.06593322753906%5D%2C%0A%20%20%20%20%20%20%20%20%20%20%20%20%20%20%20%20%7B%22bubblingMouseEvents%22%3A%20true%2C%20%22color%22%3A%20%22black%22%2C%20%22dashArray%22%3A%20null%2C%20%22dashOffset%22%3A%20null%2C%20%22fill%22%3A%20true%2C%20%22fillColor%22%3A%20%22black%22%2C%20%22fillOpacity%22%3A%200.8%2C%20%22fillRule%22%3A%20%22evenodd%22%2C%20%22lineCap%22%3A%20%22round%22%2C%20%22lineJoin%22%3A%20%22round%22%2C%20%22opacity%22%3A%201.0%2C%20%22radius%22%3A%204%2C%20%22stroke%22%3A%20true%2C%20%22weight%22%3A%203%7D%0A%20%20%20%20%20%20%20%20%20%20%20%20%29.addTo%28feature_group_2c457c5ad18c4e7db6e3cfb5c7bc78a8%29%3B%0A%20%20%20%20%20%20%20%20%0A%20%20%20%20%0A%20%20%20%20%20%20%20%20%20%20%20%20circle_marker_4371c125717f4c3dac28f48ea371b93a.bindTooltip%28%0A%20%20%20%20%20%20%20%20%20%20%20%20%20%20%20%20%60%3Cdiv%3E%0A%20%20%20%20%20%20%20%20%20%20%20%20%20%20%20%20%20%20%20%20%20wm6j8nf%202021-11-25%2012%3A37%0A%20%20%20%20%20%20%20%20%20%20%20%20%20%20%20%20%20%3C/div%3E%60%2C%0A%20%20%20%20%20%20%20%20%20%20%20%20%20%20%20%20%7B%22sticky%22%3A%20true%7D%0A%20%20%20%20%20%20%20%20%20%20%20%20%29%3B%0A%20%20%20%20%20%20%20%20%0A%20%20%20%20%0A%20%20%20%20%20%20%20%20%20%20%20%20var%20circle_marker_f17e087ed4d8497290e5a5f1475f4df3%20%3D%20L.circleMarker%28%0A%20%20%20%20%20%20%20%20%20%20%20%20%20%20%20%20%5B30.680007934570312%2C%20104.03846740722656%5D%2C%0A%20%20%20%20%20%20%20%20%20%20%20%20%20%20%20%20%7B%22bubblingMouseEvents%22%3A%20true%2C%20%22color%22%3A%20%22black%22%2C%20%22dashArray%22%3A%20null%2C%20%22dashOffset%22%3A%20null%2C%20%22fill%22%3A%20true%2C%20%22fillColor%22%3A%20%22black%22%2C%20%22fillOpacity%22%3A%200.8%2C%20%22fillRule%22%3A%20%22evenodd%22%2C%20%22lineCap%22%3A%20%22round%22%2C%20%22lineJoin%22%3A%20%22round%22%2C%20%22opacity%22%3A%201.0%2C%20%22radius%22%3A%204%2C%20%22stroke%22%3A%20true%2C%20%22weight%22%3A%203%7D%0A%20%20%20%20%20%20%20%20%20%20%20%20%29.addTo%28feature_group_2c457c5ad18c4e7db6e3cfb5c7bc78a8%29%3B%0A%20%20%20%20%20%20%20%20%0A%20%20%20%20%0A%20%20%20%20%20%20%20%20%20%20%20%20circle_marker_f17e087ed4d8497290e5a5f1475f4df3.bindTooltip%28%0A%20%20%20%20%20%20%20%20%20%20%20%20%20%20%20%20%60%3Cdiv%3E%0A%20%20%20%20%20%20%20%20%20%20%20%20%20%20%20%20%20%20%20%20%20wm3yx3n%202021-11-25%2018%3A38%0A%20%20%20%20%20%20%20%20%20%20%20%20%20%20%20%20%20%3C/div%3E%60%2C%0A%20%20%20%20%20%20%20%20%20%20%20%20%20%20%20%20%7B%22sticky%22%3A%20true%7D%0A%20%20%20%20%20%20%20%20%20%20%20%20%29%3B%0A%20%20%20%20%20%20%20%20%0A%20%20%20%20%0A%20%20%20%20%20%20%20%20%20%20%20%20var%20circle_marker_185d4ce1c2104750ba36f8a407840f48%20%3D%20L.circleMarker%28%0A%20%20%20%20%20%20%20%20%20%20%20%20%20%20%20%20%5B30.688247680664062%2C%20104.05357360839844%5D%2C%0A%20%20%20%20%20%20%20%20%20%20%20%20%20%20%20%20%7B%22bubblingMouseEvents%22%3A%20true%2C%20%22color%22%3A%20%22black%22%2C%20%22dashArray%22%3A%20null%2C%20%22dashOffset%22%3A%20null%2C%20%22fill%22%3A%20true%2C%20%22fillColor%22%3A%20%22black%22%2C%20%22fillOpacity%22%3A%200.8%2C%20%22fillRule%22%3A%20%22evenodd%22%2C%20%22lineCap%22%3A%20%22round%22%2C%20%22lineJoin%22%3A%20%22round%22%2C%20%22opacity%22%3A%201.0%2C%20%22radius%22%3A%204%2C%20%22stroke%22%3A%20true%2C%20%22weight%22%3A%203%7D%0A%20%20%20%20%20%20%20%20%20%20%20%20%29.addTo%28feature_group_2c457c5ad18c4e7db6e3cfb5c7bc78a8%29%3B%0A%20%20%20%20%20%20%20%20%0A%20%20%20%20%0A%20%20%20%20%20%20%20%20%20%20%20%20circle_marker_185d4ce1c2104750ba36f8a407840f48.bindTooltip%28%0A%20%20%20%20%20%20%20%20%20%20%20%20%20%20%20%20%60%3Cdiv%3E%0A%20%20%20%20%20%20%20%20%20%20%20%20%20%20%20%20%20%20%20%20%20wm3yxf9%202021-11-26%2011%3A12%0A%20%20%20%20%20%20%20%20%20%20%20%20%20%20%20%20%20%3C/div%3E%60%2C%0A%20%20%20%20%20%20%20%20%20%20%20%20%20%20%20%20%7B%22sticky%22%3A%20true%7D%0A%20%20%20%20%20%20%20%20%20%20%20%20%29%3B%0A%20%20%20%20%20%20%20%20%0A%20%20%20%20%0A%20%20%20%20%20%20%20%20%20%20%20%20var%20circle_marker_55e761c6653e48bd9d23ad90e2ed3154%20%3D%20L.circleMarker%28%0A%20%20%20%20%20%20%20%20%20%20%20%20%20%20%20%20%5B30.685501098632812%2C%20104.03434753417969%5D%2C%0A%20%20%20%20%20%20%20%20%20%20%20%20%20%20%20%20%7B%22bubblingMouseEvents%22%3A%20true%2C%20%22color%22%3A%20%22black%22%2C%20%22dashArray%22%3A%20null%2C%20%22dashOffset%22%3A%20null%2C%20%22fill%22%3A%20true%2C%20%22fillColor%22%3A%20%22black%22%2C%20%22fillOpacity%22%3A%200.8%2C%20%22fillRule%22%3A%20%22evenodd%22%2C%20%22lineCap%22%3A%20%22round%22%2C%20%22lineJoin%22%3A%20%22round%22%2C%20%22opacity%22%3A%201.0%2C%20%22radius%22%3A%204%2C%20%22stroke%22%3A%20true%2C%20%22weight%22%3A%203%7D%0A%20%20%20%20%20%20%20%20%20%20%20%20%29.addTo%28feature_group_2c457c5ad18c4e7db6e3cfb5c7bc78a8%29%3B%0A%20%20%20%20%20%20%20%20%0A%20%20%20%20%0A%20%20%20%20%20%20%20%20%20%20%20%20circle_marker_55e761c6653e48bd9d23ad90e2ed3154.bindTooltip%28%0A%20%20%20%20%20%20%20%20%20%20%20%20%20%20%20%20%60%3Cdiv%3E%0A%20%20%20%20%20%20%20%20%20%20%20%20%20%20%20%20%20%20%20%20%20wm3yx65%202021-11-26%2014%3A12%0A%20%20%20%20%20%20%20%20%20%20%20%20%20%20%20%20%20%3C/div%3E%60%2C%0A%20%20%20%20%20%20%20%20%20%20%20%20%20%20%20%20%7B%22sticky%22%3A%20true%7D%0A%20%20%20%20%20%20%20%20%20%20%20%20%29%3B%0A%20%20%20%20%20%20%20%20%0A%20%20%20%20%0A%20%20%20%20%20%20%20%20%20%20%20%20var%20circle_marker_0394cd58de0d4974ba148cb867aacaee%20%3D%20L.circleMarker%28%0A%20%20%20%20%20%20%20%20%20%20%20%20%20%20%20%20%5B30.534439086914062%2C%20104.06867980957031%5D%2C%0A%20%20%20%20%20%20%20%20%20%20%20%20%20%20%20%20%7B%22bubblingMouseEvents%22%3A%20true%2C%20%22color%22%3A%20%22blue%22%2C%20%22dashArray%22%3A%20null%2C%20%22dashOffset%22%3A%20null%2C%20%22fill%22%3A%20true%2C%20%22fillColor%22%3A%20%22blue%22%2C%20%22fillOpacity%22%3A%200.8%2C%20%22fillRule%22%3A%20%22evenodd%22%2C%20%22lineCap%22%3A%20%22round%22%2C%20%22lineJoin%22%3A%20%22round%22%2C%20%22opacity%22%3A%201.0%2C%20%22radius%22%3A%204%2C%20%22stroke%22%3A%20true%2C%20%22weight%22%3A%203%7D%0A%20%20%20%20%20%20%20%20%20%20%20%20%29.addTo%28feature_group_2c457c5ad18c4e7db6e3cfb5c7bc78a8%29%3B%0A%20%20%20%20%20%20%20%20%0A%20%20%20%20%0A%20%20%20%20%20%20%20%20%20%20%20%20circle_marker_0394cd58de0d4974ba148cb867aacaee.bindTooltip%28%0A%20%20%20%20%20%20%20%20%20%20%20%20%20%20%20%20%60%3Cdiv%3E%0A%20%20%20%20%20%20%20%20%20%20%20%20%20%20%20%20%20%20%20%20%20most_geo%3Awm6j8ns%0A%20%20%20%20%20%20%20%20%20%20%20%20%20%20%20%20%20%3C/div%3E%60%2C%0A%20%20%20%20%20%20%20%20%20%20%20%20%20%20%20%20%7B%22sticky%22%3A%20true%7D%0A%20%20%20%20%20%20%20%20%20%20%20%20%29%3B%0A%20%20%20%20%20%20%20%20%0A%20%20%20%20%0A%20%20%20%20%20%20%20%20%20%20%20%20var%20circle_marker_433b6dfc63c74f0391ea9626f8a28257%20%3D%20L.circleMarker%28%0A%20%20%20%20%20%20%20%20%20%20%20%20%20%20%20%20%5B30.684127807617188%2C%20104.03846740722656%5D%2C%0A%20%20%20%20%20%20%20%20%20%20%20%20%20%20%20%20%7B%22bubblingMouseEvents%22%3A%20true%2C%20%22color%22%3A%20%22green%22%2C%20%22dashArray%22%3A%20null%2C%20%22dashOffset%22%3A%20null%2C%20%22fill%22%3A%20true%2C%20%22fillColor%22%3A%20%22green%22%2C%20%22fillOpacity%22%3A%200.8%2C%20%22fillRule%22%3A%20%22evenodd%22%2C%20%22lineCap%22%3A%20%22round%22%2C%20%22lineJoin%22%3A%20%22round%22%2C%20%22opacity%22%3A%201.0%2C%20%22radius%22%3A%204%2C%20%22stroke%22%3A%20true%2C%20%22weight%22%3A%203%7D%0A%20%20%20%20%20%20%20%20%20%20%20%20%29.addTo%28feature_group_2c457c5ad18c4e7db6e3cfb5c7bc78a8%29%3B%0A%20%20%20%20%20%20%20%20%0A%20%20%20%20%0A%20%20%20%20%20%20%20%20%20%20%20%20circle_marker_433b6dfc63c74f0391ea9626f8a28257.bindTooltip%28%0A%20%20%20%20%20%20%20%20%20%20%20%20%20%20%20%20%60%3Cdiv%3E%0A%20%20%20%20%20%20%20%20%20%20%20%20%20%20%20%20%20%20%20%20%20nearest_geo%3Awm3yx3y%0A%20%20%20%20%20%20%20%20%20%20%20%20%20%20%20%20%20%3C/div%3E%60%2C%0A%20%20%20%20%20%20%20%20%20%20%20%20%20%20%20%20%7B%22sticky%22%3A%20true%7D%0A%20%20%20%20%20%20%20%20%20%20%20%20%29%3B%0A%20%20%20%20%20%20%20%20%0A%20%20%20%20%0A%20%20%20%20%20%20%20%20%20%20%20%20var%20circle_marker_1cf36facc6ca42418e3a184f558a796c%20%3D%20L.circleMarker%28%0A%20%20%20%20%20%20%20%20%20%20%20%20%20%20%20%20%5B30.535812377929688%2C%20104.06593322753906%5D%2C%0A%20%20%20%20%20%20%20%20%20%20%20%20%20%20%20%20%7B%22bubblingMouseEvents%22%3A%20true%2C%20%22color%22%3A%20%22yellow%22%2C%20%22dashArray%22%3A%20null%2C%20%22dashOffset%22%3A%20null%2C%20%22fill%22%3A%20true%2C%20%22fillColor%22%3A%20%22yellow%22%2C%20%22fillOpacity%22%3A%200.8%2C%20%22fillRule%22%3A%20%22evenodd%22%2C%20%22lineCap%22%3A%20%22round%22%2C%20%22lineJoin%22%3A%20%22round%22%2C%20%22opacity%22%3A%201.0%2C%20%22radius%22%3A%204%2C%20%22stroke%22%3A%20true%2C%20%22weight%22%3A%203%7D%0A%20%20%20%20%20%20%20%20%20%20%20%20%29.addTo%28feature_group_2c457c5ad18c4e7db6e3cfb5c7bc78a8%29%3B%0A%20%20%20%20%20%20%20%20%0A%20%20%20%20%0A%20%20%20%20%20%20%20%20%20%20%20%20circle_marker_1cf36facc6ca42418e3a184f558a796c.bindTooltip%28%0A%20%20%20%20%20%20%20%20%20%20%20%20%20%20%20%20%60%3Cdiv%3E%0A%20%20%20%20%20%20%20%20%20%20%20%20%20%20%20%20%20%20%20%20%20next_neartime_geo%3Awm6j8nf%0A%20%20%20%20%20%20%20%20%20%20%20%20%20%20%20%20%20%3C/div%3E%60%2C%0A%20%20%20%20%20%20%20%20%20%20%20%20%20%20%20%20%7B%22sticky%22%3A%20true%7D%0A%20%20%20%20%20%20%20%20%20%20%20%20%29%3B%0A%20%20%20%20%20%20%20%20%0A%20%20%20%20%0A%20%20%20%20%20%20%20%20%20%20%20%20var%20poly_line_c95e83d0e91e4482b99839595d9357ef%20%3D%20L.polyline%28%0A%20%20%20%20%20%20%20%20%20%20%20%20%20%20%20%20%5B%5B30.685501098632812%2C%20104.03434753417969%5D%2C%20%5B30.535812377929688%2C%20104.06593322753906%5D%5D%2C%0A%20%20%20%20%20%20%20%20%20%20%20%20%20%20%20%20%7B%22bubblingMouseEvents%22%3A%20true%2C%20%22color%22%3A%20%22black%22%2C%20%22dashArray%22%3A%20null%2C%20%22dashOffset%22%3A%20null%2C%20%22fill%22%3A%20false%2C%20%22fillColor%22%3A%20%22black%22%2C%20%22fillOpacity%22%3A%200.2%2C%20%22fillRule%22%3A%20%22evenodd%22%2C%20%22lineCap%22%3A%20%22round%22%2C%20%22lineJoin%22%3A%20%22round%22%2C%20%22noClip%22%3A%20false%2C%20%22opacity%22%3A%201.0%2C%20%22smoothFactor%22%3A%201.0%2C%20%22stroke%22%3A%20true%2C%20%22weight%22%3A%203%7D%0A%20%20%20%20%20%20%20%20%20%20%20%20%29.addTo%28map_598bbf8a4ce54904a787adfd3a4c1f5b%29%3B%0A%20%20%20%20%20%20%20%20%0A%20%20%20%20%0A%20%20%20%20%20%20%20%20%20%20%20%20var%20poly_line_34201dbfc6ae4bcf9110599b889cdf69%20%3D%20L.polyline%28%0A%20%20%20%20%20%20%20%20%20%20%20%20%20%20%20%20%5B%5B30.535812377929688%2C%20104.06593322753906%5D%2C%20%5B30.680007934570312%2C%20104.03846740722656%5D%5D%2C%0A%20%20%20%20%20%20%20%20%20%20%20%20%20%20%20%20%7B%22bubblingMouseEvents%22%3A%20true%2C%20%22color%22%3A%20%22black%22%2C%20%22dashArray%22%3A%20null%2C%20%22dashOffset%22%3A%20null%2C%20%22fill%22%3A%20false%2C%20%22fillColor%22%3A%20%22black%22%2C%20%22fillOpacity%22%3A%200.2%2C%20%22fillRule%22%3A%20%22evenodd%22%2C%20%22lineCap%22%3A%20%22round%22%2C%20%22lineJoin%22%3A%20%22round%22%2C%20%22noClip%22%3A%20false%2C%20%22opacity%22%3A%201.0%2C%20%22smoothFactor%22%3A%201.0%2C%20%22stroke%22%3A%20true%2C%20%22weight%22%3A%203%7D%0A%20%20%20%20%20%20%20%20%20%20%20%20%29.addTo%28map_598bbf8a4ce54904a787adfd3a4c1f5b%29%3B%0A%20%20%20%20%20%20%20%20%0A%20%20%20%20%0A%20%20%20%20%20%20%20%20%20%20%20%20var%20poly_line_0850543f5e644f09bd182a181e827522%20%3D%20L.polyline%28%0A%20%20%20%20%20%20%20%20%20%20%20%20%20%20%20%20%5B%5B30.680007934570312%2C%20104.03846740722656%5D%2C%20%5B30.688247680664062%2C%20104.05357360839844%5D%5D%2C%0A%20%20%20%20%20%20%20%20%20%20%20%20%20%20%20%20%7B%22bubblingMouseEvents%22%3A%20true%2C%20%22color%22%3A%20%22black%22%2C%20%22dashArray%22%3A%20null%2C%20%22dashOffset%22%3A%20null%2C%20%22fill%22%3A%20false%2C%20%22fillColor%22%3A%20%22black%22%2C%20%22fillOpacity%22%3A%200.2%2C%20%22fillRule%22%3A%20%22evenodd%22%2C%20%22lineCap%22%3A%20%22round%22%2C%20%22lineJoin%22%3A%20%22round%22%2C%20%22noClip%22%3A%20false%2C%20%22opacity%22%3A%201.0%2C%20%22smoothFactor%22%3A%201.0%2C%20%22stroke%22%3A%20true%2C%20%22weight%22%3A%203%7D%0A%20%20%20%20%20%20%20%20%20%20%20%20%29.addTo%28map_598bbf8a4ce54904a787adfd3a4c1f5b%29%3B%0A%20%20%20%20%20%20%20%20%0A%20%20%20%20%0A%20%20%20%20%20%20%20%20%20%20%20%20var%20poly_line_fb941657312c4a1e99e77559d43fb9eb%20%3D%20L.polyline%28%0A%20%20%20%20%20%20%20%20%20%20%20%20%20%20%20%20%5B%5B30.688247680664062%2C%20104.05357360839844%5D%2C%20%5B30.685501098632812%2C%20104.03434753417969%5D%5D%2C%0A%20%20%20%20%20%20%20%20%20%20%20%20%20%20%20%20%7B%22bubblingMouseEvents%22%3A%20true%2C%20%22color%22%3A%20%22black%22%2C%20%22dashArray%22%3A%20null%2C%20%22dashOffset%22%3A%20null%2C%20%22fill%22%3A%20false%2C%20%22fillColor%22%3A%20%22black%22%2C%20%22fillOpacity%22%3A%200.2%2C%20%22fillRule%22%3A%20%22evenodd%22%2C%20%22lineCap%22%3A%20%22round%22%2C%20%22lineJoin%22%3A%20%22round%22%2C%20%22noClip%22%3A%20false%2C%20%22opacity%22%3A%201.0%2C%20%22smoothFactor%22%3A%201.0%2C%20%22stroke%22%3A%20true%2C%20%22weight%22%3A%203%7D%0A%20%20%20%20%20%20%20%20%20%20%20%20%29.addTo%28map_598bbf8a4ce54904a787adfd3a4c1f5b%29%3B%0A%20%20%20%20%20%20%20%20%0A%20%20%20%20%0A%20%20%20%20%20%20%20%20%20%20%20%20var%20poly_line_32bea5eab0bb404bb2e88501c08b8d55%20%3D%20L.polyline%28%0A%20%20%20%20%20%20%20%20%20%20%20%20%20%20%20%20%5B%5B30.630569458007812%2C%20104.03572082519531%5D%2C%20%5B30.534439086914062%2C%20104.06867980957031%5D%5D%2C%0A%20%20%20%20%20%20%20%20%20%20%20%20%20%20%20%20%7B%22bubblingMouseEvents%22%3A%20true%2C%20%22color%22%3A%20%22blue%22%2C%20%22dashArray%22%3A%20null%2C%20%22dashOffset%22%3A%20null%2C%20%22fill%22%3A%20false%2C%20%22fillColor%22%3A%20%22blue%22%2C%20%22fillOpacity%22%3A%200.2%2C%20%22fillRule%22%3A%20%22evenodd%22%2C%20%22lineCap%22%3A%20%22round%22%2C%20%22lineJoin%22%3A%20%22round%22%2C%20%22noClip%22%3A%20false%2C%20%22opacity%22%3A%201.0%2C%20%22smoothFactor%22%3A%201.0%2C%20%22stroke%22%3A%20true%2C%20%22weight%22%3A%203%7D%0A%20%20%20%20%20%20%20%20%20%20%20%20%29.addTo%28map_598bbf8a4ce54904a787adfd3a4c1f5b%29%3B%0A%20%20%20%20%20%20%20%20%0A%20%20%20%20%0A%20%20%20%20%20%20%20%20%20%20%20%20poly_line_32bea5eab0bb404bb2e88501c08b8d55.bindTooltip%28%0A%20%20%20%20%20%20%20%20%20%20%20%20%20%20%20%20%60%3Cdiv%3E%0A%20%20%20%20%20%20%20%20%20%20%20%20%20%20%20%20%20%20%20%20%20most_geo%0A%20%20%20%20%20%20%20%20%20%20%20%20%20%20%20%20%20%3C/div%3E%60%2C%0A%20%20%20%20%20%20%20%20%20%20%20%20%20%20%20%20%7B%22sticky%22%3A%20true%7D%0A%20%20%20%20%20%20%20%20%20%20%20%20%29%3B%0A%20%20%20%20%20%20%20%20%0A%20%20%20%20%0A%20%20%20%20%20%20%20%20%20%20%20%20var%20poly_line_d99cec97d3da4d7baf9cb186dc3bb3d9%20%3D%20L.polyline%28%0A%20%20%20%20%20%20%20%20%20%20%20%20%20%20%20%20%5B%5B30.630569458007812%2C%20104.03572082519531%5D%2C%20%5B30.684127807617188%2C%20104.03846740722656%5D%5D%2C%0A%20%20%20%20%20%20%20%20%20%20%20%20%20%20%20%20%7B%22bubblingMouseEvents%22%3A%20true%2C%20%22color%22%3A%20%22green%22%2C%20%22dashArray%22%3A%20null%2C%20%22dashOffset%22%3A%20null%2C%20%22fill%22%3A%20false%2C%20%22fillColor%22%3A%20%22green%22%2C%20%22fillOpacity%22%3A%200.2%2C%20%22fillRule%22%3A%20%22evenodd%22%2C%20%22lineCap%22%3A%20%22round%22%2C%20%22lineJoin%22%3A%20%22round%22%2C%20%22noClip%22%3A%20false%2C%20%22opacity%22%3A%201.0%2C%20%22smoothFactor%22%3A%201.0%2C%20%22stroke%22%3A%20true%2C%20%22weight%22%3A%203%7D%0A%20%20%20%20%20%20%20%20%20%20%20%20%29.addTo%28map_598bbf8a4ce54904a787adfd3a4c1f5b%29%3B%0A%20%20%20%20%20%20%20%20%0A%20%20%20%20%0A%20%20%20%20%20%20%20%20%20%20%20%20poly_line_d99cec97d3da4d7baf9cb186dc3bb3d9.bindTooltip%28%0A%20%20%20%20%20%20%20%20%20%20%20%20%20%20%20%20%60%3Cdiv%3E%0A%20%20%20%20%20%20%20%20%20%20%20%20%20%20%20%20%20%20%20%20%20nearest_geo%0A%20%20%20%20%20%20%20%20%20%20%20%20%20%20%20%20%20%3C/div%3E%60%2C%0A%20%20%20%20%20%20%20%20%20%20%20%20%20%20%20%20%7B%22sticky%22%3A%20true%7D%0A%20%20%20%20%20%20%20%20%20%20%20%20%29%3B%0A%20%20%20%20%20%20%20%20%0A%20%20%20%20%0A%20%20%20%20%20%20%20%20%20%20%20%20var%20poly_line_575a9461d0f941dda80ad422361d4073%20%3D%20L.polyline%28%0A%20%20%20%20%20%20%20%20%20%20%20%20%20%20%20%20%5B%5B30.630569458007812%2C%20104.03572082519531%5D%2C%20%5B30.535812377929688%2C%20104.06593322753906%5D%5D%2C%0A%20%20%20%20%20%20%20%20%20%20%20%20%20%20%20%20%7B%22bubblingMouseEvents%22%3A%20true%2C%20%22color%22%3A%20%22yellow%22%2C%20%22dashArray%22%3A%20null%2C%20%22dashOffset%22%3A%20null%2C%20%22fill%22%3A%20false%2C%20%22fillColor%22%3A%20%22yellow%22%2C%20%22fillOpacity%22%3A%200.2%2C%20%22fillRule%22%3A%20%22evenodd%22%2C%20%22lineCap%22%3A%20%22round%22%2C%20%22lineJoin%22%3A%20%22round%22%2C%20%22noClip%22%3A%20false%2C%20%22opacity%22%3A%201.0%2C%20%22smoothFactor%22%3A%201.0%2C%20%22stroke%22%3A%20true%2C%20%22weight%22%3A%203%7D%0A%20%20%20%20%20%20%20%20%20%20%20%20%29.addTo%28map_598bbf8a4ce54904a787adfd3a4c1f5b%29%3B%0A%20%20%20%20%20%20%20%20%0A%20%20%20%20%0A%20%20%20%20%20%20%20%20%20%20%20%20poly_line_575a9461d0f941dda80ad422361d4073.bindTooltip%28%0A%20%20%20%20%20%20%20%20%20%20%20%20%20%20%20%20%60%3Cdiv%3E%0A%20%20%20%20%20%20%20%20%20%20%20%20%20%20%20%20%20%20%20%20%20next_neartime_geo%0A%20%20%20%20%20%20%20%20%20%20%20%20%20%20%20%20%20%3C/div%3E%60%2C%0A%20%20%20%20%20%20%20%20%20%20%20%20%20%20%20%20%7B%22sticky%22%3A%20true%7D%0A%20%20%20%20%20%20%20%20%20%20%20%20%29%3B%0A%20%20%20%20%20%20%20%20%0A%3C/script%3E onload=\"this.contentDocument.open();this.contentDocument.write(    decodeURIComponent(this.getAttribute('data-html')));this.contentDocument.close();\" allowfullscreen webkitallowfullscreen mozallowfullscreen></iframe></div></div>"
      ],
      "text/plain": [
       "<folium.folium.Map at 0x24f2a1cccf8>"
      ]
     },
     "execution_count": 125,
     "metadata": {},
     "output_type": "execute_result"
    }
   ],
   "source": [
    "val_sample = val_merge_set.loc[val_merge_set['id'] == bad_case_id.sample(1).values[0] ,['id','geohash','seconds','most_geo','nearest_geo','next_neartime_geo']].to_dict('records')[0]\n",
    "val_sample = val_merge_set.loc[val_merge_set['id'] == 56917 ,['id','geohash','seconds','most_geo','nearest_geo','next_neartime_geo']].to_dict('records')[0]\n",
    "train_sample = train_set.loc[train_set['id'] == val_sample['id']]\n",
    "train_sample['lat'], train_sample['lng'] = list(zip(*train_sample['geohash'].map(geohash.decode)))\n",
    "\n",
    "incidents = folium.map.FeatureGroup()\n",
    "san_map = folium.Map(location=geohash.decode(val_sample['geohash']), zoom_start=13.5, \n",
    "                     tiles='http://webrd02.is.autonavi.com/appmaptile?lang=zh_cn&size=1&scale=1&style=7&x={x}&y={y}&z={z}',\n",
    "                     attr='default')\n",
    "def utf2asc(s):\n",
    "    return str(str(s).encode('ascii', 'xmlcharrefreplace'))[2:-1]\n",
    "\n",
    "# 历史poi坐标点\n",
    "def point_in1(p):   \n",
    "    incidents.add_child(\n",
    "        folium.CircleMarker(\n",
    "            [p.lat, p.lng],\n",
    "            radius=4,  \n",
    "            color='black',  # color_list[color_map[p.waybill_code]],  # color_list.get(p.dbsc, 'white'),  \n",
    "            fill=True,\n",
    "            fill_opacity=0.8,\n",
    "            tooltip=utf2asc(p.geohash + ' ' + p.visit_time),\n",
    "        )\n",
    "    )\n",
    "\n",
    "    \n",
    "incidents.add_child(folium.CircleMarker(geohash.decode(val_sample['geohash']), color='red', tooltip=utf2asc('True'), radius=4, fill=True, fill_opacity=0.8,))\n",
    "\n",
    "train_sample[['id','visit_time','geohash','lat','lng']].apply(point_in1, axis = 1)\n",
    "\n",
    "incidents.add_child(folium.CircleMarker(geohash.decode(val_sample['most_geo']), color='blue', tooltip=utf2asc('most_geo:'+val_sample['most_geo']), radius=4, fill=True, fill_opacity=0.8,))\n",
    "incidents.add_child(folium.CircleMarker(geohash.decode(val_sample['nearest_geo']), color='green', tooltip=utf2asc('nearest_geo:'+val_sample['nearest_geo']), radius=4, fill=True, fill_opacity=0.8,))\n",
    "incidents.add_child(folium.CircleMarker(geohash.decode(val_sample['next_neartime_geo']), color='yellow', tooltip=utf2asc('next_neartime_geo:'+val_sample['next_neartime_geo']), radius=4, fill=True, fill_opacity=0.8,))\n",
    "\n",
    "san_map.add_child(incidents)\n",
    "\n",
    "\n",
    "# 连接线 \n",
    "train_sample_v = train_sample.values\n",
    "for i in range(len(train_sample_v)-1):\n",
    "    if i >= len(train_sample_v) - 5:\n",
    "        folium.PolyLine([[train_sample_v[i][5], train_sample_v[i][6]], \n",
    "                         [train_sample_v[i+1][5], train_sample_v[i+1][6]]] ,color='black' ).add_to(san_map)\n",
    "    \n",
    "folium.PolyLine([geohash.decode(val_sample['geohash']), geohash.decode(val_sample['most_geo'])] ,color='blue', tooltip='most_geo').add_to(san_map)\n",
    "folium.PolyLine([geohash.decode(val_sample['geohash']), geohash.decode(val_sample['nearest_geo'])] ,color='green', tooltip='nearest_geo').add_to(san_map)\n",
    "folium.PolyLine([geohash.decode(val_sample['geohash']), geohash.decode(val_sample['next_neartime_geo'])] ,color='yellow', tooltip='next_neartime_geo').add_to(san_map)\n",
    "    \n",
    "# folium.vector_layers.PolyLine([geohash.decode(val_sample['geohash']), geohash.decode(val_sample['next_neartime_geo'])] ,color='black', tooltip='next_neartime_geo').add_to(san_map)    \n",
    "    \n",
    "san_map"
   ]
  },
  {
   "cell_type": "code",
   "execution_count": 126,
   "id": "0723a987",
   "metadata": {
    "ExecuteTime": {
     "end_time": "2022-08-19T13:05:53.206305Z",
     "start_time": "2022-08-19T13:05:53.192260Z"
    }
   },
   "outputs": [
    {
     "data": {
      "text/plain": [
       "{'id': 56917,\n",
       " 'geohash': 'wm3yr2h',\n",
       " 'seconds': 71400,\n",
       " 'most_geo': 'wm6j8ns',\n",
       " 'nearest_geo': 'wm3yx3y',\n",
       " 'next_neartime_geo': 'wm6j8nf'}"
      ]
     },
     "execution_count": 126,
     "metadata": {},
     "output_type": "execute_result"
    }
   ],
   "source": [
    "val_sample"
   ]
  },
  {
   "cell_type": "code",
   "execution_count": null,
   "id": "e991512c",
   "metadata": {
    "ExecuteTime": {
     "end_time": "2022-08-19T13:05:53.554128Z",
     "start_time": "2022-08-19T13:05:53.528126Z"
    }
   },
   "outputs": [],
   "source": [
    "pd.concat([train_sample.tail(30), val_set.loc[val_set['id'] == val_sample['id']]])"
   ]
  },
  {
   "cell_type": "code",
   "execution_count": null,
   "id": "3ad0559f",
   "metadata": {
    "ExecuteTime": {
     "end_time": "2022-08-19T13:05:54.579209Z",
     "start_time": "2022-08-19T13:05:54.498171Z"
    }
   },
   "outputs": [],
   "source": [
    "train_sample.groupby('geohash')['seconds','weekday'].describe()"
   ]
  },
  {
   "cell_type": "code",
   "execution_count": null,
   "id": "eb1f5336",
   "metadata": {},
   "outputs": [],
   "source": []
  },
  {
   "cell_type": "code",
   "execution_count": 78,
   "id": "ebf812c2",
   "metadata": {
    "ExecuteTime": {
     "end_time": "2022-08-19T12:24:57.452674Z",
     "start_time": "2022-08-19T12:24:39.273860Z"
    }
   },
   "outputs": [],
   "source": [
    "coll = dict()\n",
    "flag = 0\n",
    "for r in train_set.values:\n",
    "    if r[2] == 'wm6jueq':\n",
    "        flag = 1\n",
    "        i = r[1][:10]\n",
    "        j = r[4]\n",
    "        continue\n",
    "    if flag == 1:\n",
    "        flag = 0\n",
    "        if i == r[1][:10]:\n",
    "            coll[r[2]] = coll.get(r[2], []) + [r[4] - j]"
   ]
  },
  {
   "cell_type": "code",
   "execution_count": 83,
   "id": "7719eb6b",
   "metadata": {
    "ExecuteTime": {
     "end_time": "2022-08-19T12:27:20.501390Z",
     "start_time": "2022-08-19T12:27:20.441390Z"
    }
   },
   "outputs": [],
   "source": [
    "coll = [(i[0], len(i[1]), np.mean(i[1]), np.median(i[1])) for i in coll.items()]"
   ]
  },
  {
   "cell_type": "code",
   "execution_count": 86,
   "id": "aeb112ce",
   "metadata": {
    "ExecuteTime": {
     "end_time": "2022-08-19T12:28:59.024037Z",
     "start_time": "2022-08-19T12:28:58.977034Z"
    }
   },
   "outputs": [],
   "source": [
    "pd.DataFrame(coll, columns=['geo','cnt','mean','median']).to_csv('D:Desktop/tmp.csv')"
   ]
  },
  {
   "cell_type": "code",
   "execution_count": null,
   "id": "167a4901",
   "metadata": {},
   "outputs": [],
   "source": []
  },
  {
   "cell_type": "code",
   "execution_count": null,
   "id": "7d618f90",
   "metadata": {
    "ExecuteTime": {
     "end_time": "2022-08-18T15:10:59.581271Z",
     "start_time": "2022-08-18T15:10:59.458226Z"
    }
   },
   "outputs": [],
   "source": [
    "train_sample.groupby('geohash')[['weekday','seconds']].describe()"
   ]
  },
  {
   "cell_type": "code",
   "execution_count": null,
   "id": "7fd9d8e8",
   "metadata": {},
   "outputs": [],
   "source": []
  },
  {
   "cell_type": "code",
   "execution_count": null,
   "id": "e6a27a16",
   "metadata": {},
   "outputs": [],
   "source": []
  },
  {
   "cell_type": "code",
   "execution_count": null,
   "id": "b3169086",
   "metadata": {},
   "outputs": [],
   "source": []
  },
  {
   "cell_type": "code",
   "execution_count": null,
   "id": "5d3c478e",
   "metadata": {},
   "outputs": [],
   "source": []
  },
  {
   "cell_type": "code",
   "execution_count": null,
   "id": "e6fc2a15",
   "metadata": {},
   "outputs": [],
   "source": []
  },
  {
   "cell_type": "markdown",
   "id": "c78760f4",
   "metadata": {},
   "source": [
    "# 打分过程"
   ]
  },
  {
   "cell_type": "code",
   "execution_count": null,
   "id": "9fd2d184",
   "metadata": {
    "ExecuteTime": {
     "end_time": "2022-08-19T14:56:43.247069Z",
     "start_time": "2022-08-19T14:56:43.039069Z"
    },
    "tags": []
   },
   "outputs": [],
   "source": [
    "# model = xgb.Booster(model_file='D:Desktop/时空预测算法对抗赛/final_model.xgb')\n",
    "# model.predict(val_merge_set[X_train.columns])"
   ]
  },
  {
   "cell_type": "code",
   "execution_count": 130,
   "id": "d3404bcb",
   "metadata": {
    "ExecuteTime": {
     "end_time": "2022-08-20T06:49:51.225953Z",
     "start_time": "2022-08-20T06:37:17.550371Z"
    }
   },
   "outputs": [],
   "source": [
    "train_set = train_dt.copy()\n",
    "\n",
    "id_geo_stat = train_set.groupby(['id', 'geohash']).agg({'seconds':[np.count_nonzero, np.median, np.mean, np.std], \n",
    "                                                        'weekday':[np.median, np.mean, np.std]}).reset_index()\n",
    "\n",
    "id_geo_stat.columns = ['id', 'geohash', 'count', 'sec_median', 'sec_mean', 'sec_std', 'week_median', 'week_mean', 'week_std']\n",
    "\n",
    "pred_most_geo = id_geo_stat.sort_values(['id','count']).groupby('id').tail(1)[['id','geohash','count']]\n",
    "pred_most_geo.columns = ['id','most_geo','most_geo_cnt']\n",
    "\n",
    "id_geo_stat['id_count'] = id_geo_stat.groupby('id')['count'].transform(sum)\n",
    "id_geo_stat['id_geo_rate'] = id_geo_stat['count'] / id_geo_stat['id_count']\n",
    "\n",
    "to_pred_dt['weekday'] = to_pred_dt.visit_time.apply(weekday_calc)\n",
    "to_pred_dt['seconds'] = to_pred_dt.visit_time.apply(time_trans)\n",
    "\n",
    "cost_time_dict = dict()\n",
    "\n",
    "for row in train_set.groupby('id'):\n",
    "    v = row[1].values\n",
    "    records_cnt = len(v)\n",
    "    \n",
    "    for i in range(records_cnt):\n",
    "        if i > 0 and v[i][1][:10] == v[i-1][1][:10]:  # same day\n",
    "            k = tuple(sorted((v[i][2], v[i-1][2])))\n",
    "            cost_time_dict[k] = cost_time_dict.get(k, []) + [v[i][4] - v[i-1][4]]\n",
    "\n",
    "cost_time_dict = dict([(k, [np.quantile(v, 0.1), len(v), np.std(v)]) for k, v in cost_time_dict.items()])\n",
    "\n",
    "\n",
    "\n",
    "# 大循环\n",
    "id_sec_dict = dict(list(zip(*[to_pred_dt.id.values, to_pred_dt.seconds.values])))  # 将要预测记录的时间（秒）\n",
    "last_geo_dict = dict([(r[0], r[2]) for r in train_set.sort_values(['id','visit_time']).groupby('id').tail(1).values])  # 已知最后一条的geo\n",
    "aim_time_dict = dict([(r[0], [r[1], r[-1]])for r in to_pred_dt.values])  # 将要预测记录的时间信息\n",
    "result_collect = []\n",
    "result_collect2 = []\n",
    "\n",
    "for row in train_set.groupby('id'):\n",
    "    v = row[1].values\n",
    "    records_cnt = len(v)\n",
    "    \n",
    "    dup_cnt = 0\n",
    "    val_sec = id_sec_dict[row[0]]\n",
    "    min_sec_geo = [999999, '']\n",
    "    \n",
    "    pair_dict = {}\n",
    "    pair_time_dict = {}\n",
    "    for i in range(records_cnt):\n",
    "        if i > 0 and v[i][2] == v[i-1][2]:\n",
    "            dup_cnt += 1\n",
    "        if abs(val_sec - v[i][4]) < min_sec_geo[0]:\n",
    "            min_sec_geo = [abs(val_sec - v[i][4]), v[i][2]]  # 时间（秒）最近的geo\n",
    "            \n",
    "        if i < records_cnt - 1 and v[i][2] == last_geo_dict[row[0]]:  #  沿途拿着last geo比对\n",
    "            pair_dict[v[i+1][2]] = pair_dict.get(v[i+1][2], 0) + 1\n",
    "            pair_time_dict[v[i+1][2]] = pair_time_dict.get(v[i+1][2], []) + [(datetime.strptime(v[i+1][1], '%Y-%m-%d %H:%M') - datetime.strptime(v[i][1], '%Y-%m-%d %H:%M')).total_seconds()]  # 时间\n",
    "    \n",
    "        if i == records_cnt - 1:  # 最后一条，计算与待预测数据的时间差，是否同一天\n",
    "            last_geo = v[i][2]  # 已知最后一条的geo\n",
    "            aim_last_sec = (datetime.strptime(aim_time_dict[row[0]][0], '%Y-%m-%d %H:%M') - datetime.strptime(v[i][1], '%Y-%m-%d %H:%M')).total_seconds()\n",
    "            same_day = 1 if aim_time_dict[row[0]][0][:10] == v[i][1][:10] else 0\n",
    "            \n",
    "    pair_time_dict = dict([(r[0], np.min(np.abs(np.array(r[1]) - aim_last_sec))) for r in pair_time_dict.items()])  #  取最小者\n",
    "        \n",
    "    result_collect.append([row[0], min_sec_geo[1], last_geo, dup_cnt, records_cnt, round(dup_cnt/records_cnt, 4)])\n",
    "    if len(pair_dict) > 0:\n",
    "        result_collect2.append([row[0], min(pair_time_dict.items(), key=lambda i:i[1])[0], min(pair_time_dict.values()),\n",
    "                               max(pair_dict.items(), key=lambda x:x[1])[0], max(pair_dict.items(), key=lambda x:x[1])[1],\n",
    "                               same_day])\n",
    "    else:\n",
    "        result_collect2.append([row[0], last_geo_dict[row[0]], 0, last_geo_dict[row[0]], 0, same_day])\n",
    "    \n",
    "pred_last_geo = pd.DataFrame(result_collect, columns=['id','nearest_geo','last_geo','dup_cnt','records_cnt','dup_rate'])\n",
    "pred_next_geo = pd.DataFrame(result_collect2, columns=['id','next_neartime_geo','next_neartime_geo_sec','next_geo','next_geo_cnt','same_day'])\n",
    "\n",
    "del(result_collect, result_collect2)\n",
    "\n",
    "## 合并、多分类\n",
    "\n",
    "val_merge_set = pd.merge(to_pred_dt.drop('visit_time',axis=1), pred_most_geo, on='id')\n",
    "val_merge_set = pd.merge(val_merge_set, pred_last_geo, on='id')\n",
    "val_merge_set = pd.merge(val_merge_set, pred_next_geo, on='id')\n",
    "\n",
    "### 做标签、做剩余特征\n",
    "\n",
    "def tmp(x): \n",
    "    return round(x.most_geo_cnt / x.records_cnt, 4), round(x.next_geo_cnt / x.records_cnt, 4)\n",
    "    \n",
    "val_merge_set['most_geo_rate'], val_merge_set['next_geo_rate'] = list(zip(*val_merge_set.apply(tmp, axis=1)))\n",
    "\n",
    "val_merge_set['last_most_min_sec'],val_merge_set['last_most_min_cnt'],val_merge_set['last_most_min_std'] = list(zip(\\\n",
    "    *val_merge_set.apply(lambda x:cost_time_dict.get(tuple(sorted((x.last_geo, x.most_geo))),[0,0,0]),axis=1)))\n",
    "val_merge_set['last_nearest_min_sec'],val_merge_set['last_nearest_min_cnt'],val_merge_set['last_nearest_min_std'] = list(zip(\\\n",
    "    *val_merge_set.apply(lambda x:cost_time_dict.get(tuple(sorted((x.last_geo, x.nearest_geo))),[0,0,0]),axis=1)))\n",
    "val_merge_set['last_neartime_min_sec'],val_merge_set['last_neartime_min_cnt'],val_merge_set['last_neartime_min_std'] = list(zip(\\\n",
    "    *val_merge_set.apply(lambda x:cost_time_dict.get(tuple(sorted((x.last_geo, x.next_neartime_geo))),[0,0,0]),axis=1)))\n",
    "\n",
    "del(cost_time_dict)\n",
    "\n",
    "val_merge_set = pd.merge(val_merge_set, id_geo_stat.rename({**{'geohash':'most_geo'}, **dict([(x, 'most_geo_'+x) for x in id_geo_stat.columns[2:]])},axis=1), on=['id','most_geo'])\n",
    "val_merge_set = pd.merge(val_merge_set, id_geo_stat.rename({**{'geohash':'nearest_geo'}, **dict([(x, 'nearest_geo_'+x) for x in id_geo_stat.columns[2:]])},axis=1), on=['id','nearest_geo'])\n",
    "val_merge_set = pd.merge(val_merge_set, id_geo_stat.rename({**{'geohash':'next_neartime_geo'}, **dict([(x, 'next_neartime_geo_'+x) for x in id_geo_stat.columns[2:]])},axis=1), on=['id','next_neartime_geo'])\n",
    "\n",
    "\n",
    "val_merge_set['most_week_diff_median'] = val_merge_set.apply(lambda x:abs(x.weekday - x.most_geo_week_median), axis=1)\n",
    "val_merge_set['nearest_week_diff_median'] = val_merge_set.apply(lambda x:abs(x.weekday - x.nearest_geo_week_median), axis=1)\n",
    "val_merge_set['neartime_week_diff_median'] = val_merge_set.apply(lambda x:abs(x.weekday - x.next_neartime_geo_week_median), axis=1)\n",
    "\n",
    "val_merge_set['most_sec_diff_median'] = val_merge_set.apply(lambda x:abs(x.seconds - x.most_geo_sec_median), axis=1)\n",
    "val_merge_set['nearest_sec_diff_median'] = val_merge_set.apply(lambda x:abs(x.seconds - x.nearest_geo_sec_median), axis=1)\n",
    "val_merge_set['neartime_sec_diff_median'] = val_merge_set.apply(lambda x:abs(x.seconds - x.next_neartime_geo_sec_median), axis=1)\n",
    "\n",
    "val_merge_set['most_week_diff_mean'] = val_merge_set.apply(lambda x:abs(x.weekday - x.most_geo_week_mean), axis=1)\n",
    "val_merge_set['nearest_week_diff_mean'] = val_merge_set.apply(lambda x:abs(x.weekday - x.nearest_geo_week_mean), axis=1)\n",
    "val_merge_set['neartime_week_diff_mean'] = val_merge_set.apply(lambda x:abs(x.weekday - x.next_neartime_geo_week_mean), axis=1)\n",
    "\n",
    "val_merge_set['most_sec_diff_mean'] = val_merge_set.apply(lambda x:abs(x.seconds - x.most_geo_sec_mean), axis=1)\n",
    "val_merge_set['nearest_sec_diff_mean'] = val_merge_set.apply(lambda x:abs(x.seconds - x.nearest_geo_sec_mean), axis=1)\n",
    "val_merge_set['neartime_sec_diff_mean'] = val_merge_set.apply(lambda x:abs(x.seconds - x.next_neartime_geo_sec_mean), axis=1)\n",
    "\n",
    "def calc_distance(row):\n",
    "    from math import acos, asin, cos, sin, sqrt, pi\n",
    "    import geohash\n",
    "            \n",
    "    ap_latlon, bp_latlon = row\n",
    "    \n",
    "    ap_latlon = geohash.decode(ap_latlon)\n",
    "    bp_latlon = geohash.decode(bp_latlon)\n",
    "        \n",
    "    radLat1 = ap_latlon[0] * pi / 180.0;\n",
    "    radLat2 = bp_latlon[0] * pi / 180.0;\n",
    "    diffLat = radLat1 - radLat2;\n",
    "    \n",
    "    radLng1 = ap_latlon[1] * pi / 180.0;\n",
    "    radLng2 = bp_latlon[1] * pi / 180.0;\n",
    "    diffLng = radLng1 - radLng2;\n",
    "    \n",
    "    dist = 2 * asin(sqrt(pow(sin(diffLat / 2), 2) + cos(radLat1) * cos(radLat2) * pow(sin(diffLng / 2), 2))) * 6371000\n",
    "\n",
    "    return dist\n",
    "\n",
    "val_merge_set['most_geo_dist'] = val_merge_set[['last_geo','most_geo']].apply(calc_distance, axis=1)\n",
    "val_merge_set['nearest_geo_dist'] = val_merge_set[['last_geo','nearest_geo']].apply(calc_distance, axis=1)\n",
    "val_merge_set['next_neartime_geo_dist'] = val_merge_set[['last_geo','next_neartime_geo']].apply(calc_distance, axis=1)\n",
    "\n",
    "val_merge_set['most_geo_speed_median'] = val_merge_set.apply(lambda x:-1 if x.most_sec_diff_median == 0 else x.most_geo_dist / x.most_sec_diff_median,axis=1)\n",
    "val_merge_set['nearest_geo_speed_median'] = val_merge_set.apply(lambda x:-1 if x.nearest_sec_diff_median == 0 else x.nearest_geo_dist / x.nearest_sec_diff_median,axis=1)\n",
    "val_merge_set['next_neartime_geo_speed_median'] = val_merge_set.apply(lambda x:-1 if x.neartime_sec_diff_median == 0 else x.next_neartime_geo_dist / x.neartime_sec_diff_median,axis=1)\n",
    "\n",
    "val_merge_set['most_geo_speed_mean'] = val_merge_set.apply(lambda x:-1 if x.most_sec_diff_mean == 0 else x.most_geo_dist / x.most_sec_diff_mean,axis=1)\n",
    "val_merge_set['nearest_geo_speed_mean'] = val_merge_set.apply(lambda x:-1 if x.nearest_sec_diff_mean == 0 else x.nearest_geo_dist / x.nearest_sec_diff_mean,axis=1)\n",
    "val_merge_set['next_neartime_geo_speed_mean'] = val_merge_set.apply(lambda x:-1 if x.neartime_sec_diff_mean == 0 else x.next_neartime_geo_dist / x.neartime_sec_diff_mean,axis=1)\n",
    "\n",
    "pred_out = np.array([model_class_dict[list(x).index(max(x))] for x in model.predict_proba(val_merge_set[model_cols])])\n",
    "\n",
    "val_merge_set['pred_out'] = pred_out\n",
    "\n",
    "def tmp(x):\n",
    "    if x.pred_out == 1:\n",
    "        return x.most_geo\n",
    "    elif x.pred_out == 2:\n",
    "        return x.nearest_geo\n",
    "    elif x.pred_out == 5:\n",
    "        return x.next_neartime_geo\n",
    "    \n",
    "val_merge_set['geohash'] = val_merge_set.apply(tmp,axis=1)\n",
    "\n",
    "x = pd.merge(to_pred_dt[['id','visit_time']], val_merge_set[['id','geohash']], on='id')\n",
    "x['id'] = x['id'].map(di_dict)\n",
    "x[['id','visit_time','geohash']].to_csv(\"d:Desktop/output_0820_3.csv\", encoding='UTF-8', sep=',', index=False, header=True)"
   ]
  },
  {
   "cell_type": "code",
   "execution_count": null,
   "id": "d124eaa3",
   "metadata": {},
   "outputs": [],
   "source": []
  }
 ],
 "metadata": {
  "kernelspec": {
   "display_name": "Python 3 (ipykernel)",
   "language": "python",
   "name": "python3"
  },
  "language_info": {
   "codemirror_mode": {
    "name": "ipython",
    "version": 3
   },
   "file_extension": ".py",
   "mimetype": "text/x-python",
   "name": "python",
   "nbconvert_exporter": "python",
   "pygments_lexer": "ipython3",
   "version": "3.7.10"
  },
  "toc": {
   "base_numbering": 1,
   "nav_menu": {},
   "number_sections": true,
   "sideBar": true,
   "skip_h1_title": false,
   "title_cell": "Table of Contents",
   "title_sidebar": "Contents",
   "toc_cell": false,
   "toc_position": {
    "height": "47.6px",
    "left": "21px",
    "top": "142.8px",
    "width": "169px"
   },
   "toc_section_display": true,
   "toc_window_display": true
  },
  "varInspector": {
   "cols": {
    "lenName": 16,
    "lenType": 16,
    "lenVar": 40
   },
   "kernels_config": {
    "python": {
     "delete_cmd_postfix": "",
     "delete_cmd_prefix": "del ",
     "library": "var_list.py",
     "varRefreshCmd": "print(var_dic_list())"
    },
    "r": {
     "delete_cmd_postfix": ") ",
     "delete_cmd_prefix": "rm(",
     "library": "var_list.r",
     "varRefreshCmd": "cat(var_dic_list()) "
    }
   },
   "types_to_exclude": [
    "module",
    "function",
    "builtin_function_or_method",
    "instance",
    "_Feature"
   ],
   "window_display": false
  }
 },
 "nbformat": 4,
 "nbformat_minor": 5
}
