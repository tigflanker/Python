{
 "cells": [
  {
   "cell_type": "markdown",
   "metadata": {},
   "source": [
    "# 1. 导包&读入数据"
   ]
  },
  {
   "cell_type": "code",
   "execution_count": 1,
   "metadata": {
    "collapsed": true
   },
   "outputs": [],
   "source": [
    "# -*- coding: utf-8 -*-\n",
    "# Author: tigflanker\n",
    "# Date: 18 Dec 2018\n",
    "\n",
    "# 导MLMF建模包 \n",
    "import sys\n",
    "sys.path.append(r'/home/tigflanker/python') \n",
    "\n",
    "import MLMF as mf\n",
    "\n",
    "y_var = 'y_tag'"
   ]
  },
  {
   "cell_type": "code",
   "execution_count": 2,
   "metadata": {
    "ExecuteTime": {
     "end_time": "2019-01-29T14:52:42.279434Z",
     "start_time": "2019-01-29T14:52:40.364325Z"
    },
    "scrolled": true
   },
   "outputs": [
    {
     "name": "stderr",
     "output_type": "stream",
     "text": [
      "/export/grid/04/home/tigflanker/env3.5/lib/python3.5/site-packages/sklearn/cross_validation.py:44: DeprecationWarning: This module was deprecated in version 0.18 in favor of the model_selection module into which all the refactored classes and functions are moved. Also note that the interface of the new CV iterators are different from that of this module. This module will be removed in 0.20.\n",
      "  \"This module will be removed in 0.20.\", DeprecationWarning)\n",
      "/export/grid/04/home/tigflanker/env3.5/lib/python3.5/site-packages/sklearn/grid_search.py:43: DeprecationWarning: This module was deprecated in version 0.18 in favor of the model_selection module into which all the refactored classes and functions are moved. This module will be removed in 0.20.\n",
      "  DeprecationWarning)\n"
     ]
    }
   ],
   "source": [
    "# 导官方包 \n",
    "import numpy as np\n",
    "import math\n",
    "import pandas as pd \n",
    "pd.set_option('display.max_columns', 500)\n",
    "from sklearn.model_selection import train_test_split\n",
    "import xgboost as xgb\n",
    "from sklearn.cross_validation import KFold\n",
    "from sklearn.metrics import roc_auc_score, roc_curve, auc\n",
    "from sklearn import preprocessing\n",
    "from sklearn.model_selection import GridSearchCV\n",
    "from sklearn.grid_search import RandomizedSearchCV\n",
    "from sklearn.linear_model import LogisticRegression\n",
    "from sklearn.ensemble import RandomForestClassifier\n",
    "import matplotlib.pyplot as plt"
   ]
  },
  {
   "cell_type": "code",
   "execution_count": 3,
   "metadata": {
    "collapsed": true,
    "scrolled": true
   },
   "outputs": [],
   "source": [
    "datain = pd.read_csv(r'/export/grid/04/home/tigflanker/data/gy14_pop_features_tag_train_20190129.txt',sep='\\t',encoding='utf-8',engine='python',skiprows=3)"
   ]
  },
  {
   "cell_type": "markdown",
   "metadata": {},
   "source": [
    "# 2. 特征预处理"
   ]
  },
  {
   "cell_type": "markdown",
   "metadata": {},
   "source": [
    "## 2.1. 数据观察"
   ]
  },
  {
   "cell_type": "code",
   "execution_count": 4,
   "metadata": {
    "ExecuteTime": {
     "end_time": "2019-01-29T14:46:35.626463Z",
     "start_time": "2019-01-29T14:46:35.620463Z"
    },
    "collapsed": true,
    "scrolled": true
   },
   "outputs": [],
   "source": [
    "# 做数据质量探查\n",
    "try:\n",
    "    Variable_pre_exp = pd.read_csv(r'/export/grid/04/home/tigflanker/result/variable_exp_9month.csv',sep=',',encoding='utf-8',engine='python')\n",
    "    Variable_pre_exp = Variable_pre_exp.rename(columns={'字段名' : 'var', '字段类型' : 'var_type', '最小最大值（字符型为长度）' : 'min_max', '0值数' : '0_n', '0值率' : '0_r',\n",
    " '唯一值数' : 'val_cate_n', '唯一值率' : 'val_cate_r', '缺失数' : 'na_n', '缺失率' : 'na_r', '众数值' : 'md_v', '众数率' : 'md_r',\n",
    " '3倍标准差极端值数' : 'ext_3', '值类数超过0.2' : 'sug_drop_cate', '值缺失超过0.6' : 'sug_drop_na'})\n",
    "except:\n",
    "    Variable_pre_exp, obs_miss_rate = mf.data_exp(datain, calc_obs_na=True, plt_out='/export/grid/04/home/tigflanker/result/variable_exp_full')"
   ]
  },
  {
   "cell_type": "markdown",
   "metadata": {
    "ExecuteTime": {
     "end_time": "2019-01-29T14:56:31.239530Z",
     "start_time": "2019-01-29T14:56:31.227529Z"
    }
   },
   "source": [
    "## 2.2. 剔除数据质量不好的变量或者不应出现在模型中的变量"
   ]
  },
  {
   "cell_type": "code",
   "execution_count": 6,
   "metadata": {},
   "outputs": [],
   "source": [
    "# 剔除缺失值过多和字符型变量分类过多情况\n",
    "for x in Variable_pre_exp.loc[Variable_pre_exp.sug_drop_na | Variable_pre_exp.sug_drop_cate, 'var']: # \n",
    "    try:del datain[x]\n",
    "    except:pass    \n",
    "Variable_pre_exp = Variable_pre_exp[(~Variable_pre_exp.sug_drop_na) & (~Variable_pre_exp.sug_drop_cate)].reset_index(drop=True).drop(['sug_drop_na', 'sug_drop_cate'], 1)"
   ]
  },
  {
   "cell_type": "code",
   "execution_count": 7,
   "metadata": {
    "collapsed": true
   },
   "outputs": [],
   "source": [
    "# 剔除无关变量\n",
    "datain = datain[list(set(datain.columns) - set(['**feature**', '**feature**', '**feature**', '**feature**', '**feature**', '**feature**', '**feature**', '**feature**']))]    \n",
    "# , '**feature**'"
   ]
  },
  {
   "cell_type": "markdown",
   "metadata": {},
   "source": [
    "## 2.3. 哑变量处理"
   ]
  },
  {
   "cell_type": "code",
   "execution_count": null,
   "metadata": {
    "collapsed": true
   },
   "outputs": [],
   "source": [
    "# 说明：机器学习路线均需要处理字符型的哑变量、评分卡模型则不需要\n",
    "# 此处均统一做哑变量处理"
   ]
  },
  {
   "cell_type": "code",
   "execution_count": 8,
   "metadata": {
    "collapsed": true
   },
   "outputs": [],
   "source": [
    "# 将major_trade做dummy\n",
    "dummy_mapping_df, dummy_mapping_dict = mf.Dummy(datain, dummy_var = '**feature**', drop_one = False)"
   ]
  },
  {
   "cell_type": "code",
   "execution_count": null,
   "metadata": {
    "scrolled": true
   },
   "outputs": [],
   "source": [
    "# 查看哑变量映射字典\n",
    "dummy_mapping_dict"
   ]
  },
  {
   "cell_type": "code",
   "execution_count": 3,
   "metadata": {
    "collapsed": true,
    "scrolled": true
   },
   "outputs": [],
   "source": [
    "# 截断点，节省数据处理时间\n",
    "try:\n",
    "    dummy_mapping_df = pd.read_csv(r'/export/grid/04/home/tigflanker/data/dummy_mapping_df.csv',sep=',',encoding='utf-8',engine='python')\n",
    "except:\n",
    "    dummy_mapping_df.to_csv('/export/grid/04/home/tigflanker/data/dummy_mapping_df.csv',index=False)\n",
    "    \n",
    "dt = dummy_mapping_df.dt"
   ]
  },
  {
   "cell_type": "markdown",
   "metadata": {},
   "source": [
    "## 2.x. 其他操作"
   ]
  },
  {
   "cell_type": "code",
   "execution_count": null,
   "metadata": {
    "collapsed": true
   },
   "outputs": [],
   "source": [
    "# 定义Y\n",
    "# dummy_mapping_df[y_var] = dummy_mapping_df['**feature**'].map(lambda x:1 if 1 - x > 0.489 else 0)"
   ]
  },
  {
   "cell_type": "code",
   "execution_count": null,
   "metadata": {
    "ExecuteTime": {
     "end_time": "2019-01-29T14:50:50.024014Z",
     "start_time": "2019-01-29T14:50:49.999012Z"
    },
    "scrolled": true
   },
   "outputs": [],
   "source": [
    "# 查看坏样本率\n",
    "# dummy_mapping_df.groupby(['dt',y_var]).pop_vender_acc_id.count()"
   ]
  },
  {
   "cell_type": "markdown",
   "metadata": {},
   "source": [
    "# 3. 集成学习建模"
   ]
  },
  {
   "cell_type": "markdown",
   "metadata": {},
   "source": [
    "## 3.1. XGBoost线路"
   ]
  },
  {
   "cell_type": "markdown",
   "metadata": {},
   "source": [
    "### 3.1.1. XGB特征筛选"
   ]
  },
  {
   "cell_type": "code",
   "execution_count": 4,
   "metadata": {
    "collapsed": true
   },
   "outputs": [],
   "source": [
    "# 对数据集做初步划分\n",
    "oot1 = dummy_mapping_df[dt == '2018-03-31']\n",
    "oot2 = dummy_mapping_df[dt == '2018-04-30']\n",
    "oot3 = dummy_mapping_df[dt == '2018-05-31']\n",
    "oot4 = dummy_mapping_df[dt == '2018-06-30']\n",
    "train_test = dummy_mapping_df[(dt != '2018-03-31') & (dt != '2018-04-30') & (dt != '2018-05-31') & (dt != '2018-06-30')]"
   ]
  },
  {
   "cell_type": "code",
   "execution_count": null,
   "metadata": {
    "scrolled": false
   },
   "outputs": [],
   "source": [
    "# XGB特征筛选采用Feature importance和特征PSI联合筛选，两者结果联合考量\n",
    "# 用适当“宽”的参数对特征预测能力进行排序\n",
    "# max_depth = 5, cv = 10, num_boost_round = 100\n",
    "\n",
    "# 粗调参\n",
    "param = {'max_depth':3\n",
    "         ,'eta':0.07\n",
    "         ,'silent':0\n",
    "         ,'objective':'binary:logistic'\n",
    "         ,'booster':'gbtree'\n",
    "         ,'gama':0\n",
    "         ,'min_child_weight':1\n",
    "         ,'subsample':0.9\n",
    "         ,'eval_metric':'auc'\n",
    "         ,'early_stopping_rounds':50\n",
    "        }\n",
    "\n",
    "train_ks_list, test_ks_list = [], []\n",
    "train_auc_list, test_auc_list = [], []\n",
    "keep_list = set(train_test.columns)\n",
    "imp_merge = pd.DataFrame([], columns=['Var'])\n",
    "\n",
    "for k, (train, test) in enumerate(KFold(len(train_test), 5, shuffle=True, random_state=2019)):\n",
    "    dtrain = xgb.DMatrix(train_test.iloc[train][list(set(train_test.columns) - set(['y_tag','dt','**feature**', '**feature**']))], label=train_test.y_tag.iloc[train])\n",
    "    dtest = xgb.DMatrix(train_test.iloc[test][list(set(train_test.columns) - set(['y_tag','dt','**feature**', '**feature**']))], label=train_test.y_tag.iloc[test])\n",
    "\n",
    "    xgb_model = xgb.train(params=param.items() ,dtrain=dtrain,num_boost_round = 50,evals=[(dtest,'test'), (dtrain,'train')])\n",
    "    y_train = xgb_model.predict(dtrain)\n",
    "    y_test = xgb_model.predict(dtest)\n",
    "     \n",
    "    trainauc = roc_auc_score(train_test.y_tag.iloc[train], y_train)\n",
    "    testauc = roc_auc_score(train_test.y_tag.iloc[test], y_test)\n",
    "    train_auc_list.append(trainauc)\n",
    "    test_auc_list.append(testauc)\n",
    "    \n",
    "    feature_important_weight = xgb_model.get_score(importance_type='weight')\n",
    "    weight_keys = list(feature_important_weight.keys())\n",
    "    weight_values = list(feature_important_weight.values())\n",
    "    feature_important_gain = xgb_model.get_score(importance_type='gain')\n",
    "    gain_keys = list(feature_important_gain.keys())\n",
    "    gain_values = list(feature_important_gain.values())\n",
    "    feature_important_cover = xgb_model.get_score(importance_type='cover')\n",
    "    cover_keys = list(feature_important_cover.keys())\n",
    "    cover_values = list(feature_important_cover.values())\n",
    "\n",
    "    imp_w = pd.DataFrame(list(zip(weight_keys, weight_values)), columns=['Var','weight'+str(k)])\n",
    "    imp_g = pd.DataFrame(list(zip(gain_keys, gain_values)), columns=['Var','gain'+str(k)])\n",
    "    imp_c = pd.DataFrame(list(zip(cover_keys, cover_values)), columns=['Var','cover'+str(k)])\n",
    "\n",
    "    importance = pd.merge(pd.merge(imp_w, imp_g, how='outer', on='Var'), imp_c, how='outer', on='Var')\n",
    "    imp_merge = pd.merge(imp_merge, importance, how='outer', on='Var')  # full join \n",
    "    keep_list = keep_list & set(importance.Var)"
   ]
  },
  {
   "cell_type": "code",
   "execution_count": null,
   "metadata": {
    "scrolled": true
   },
   "outputs": [],
   "source": [
    "print('保留特征数：', len(keep_list))\n",
    "print('特征列表：', keep_list)"
   ]
  },
  {
   "cell_type": "code",
   "execution_count": 7,
   "metadata": {
    "collapsed": true
   },
   "outputs": [],
   "source": [
    "# 考量特征PSI\n",
    "psi_value1 = mf.PSI(train_test, oot1)\n",
    "psi_value2 = mf.PSI(train_test, oot2)\n",
    "psi_value3 = mf.PSI(train_test, oot3)\n",
    "psi_value4 = mf.PSI(train_test, oot4)"
   ]
  },
  {
   "cell_type": "code",
   "execution_count": 8,
   "metadata": {
    "collapsed": true
   },
   "outputs": [],
   "source": [
    "psi_merge = pd.concat([pd.Series(psi_value1.Psi.values, index=psi_value1.Var), \n",
    "                       pd.Series(psi_value2.Psi.values, index=psi_value2.Var), \n",
    "                       pd.Series(psi_value3.Psi.values, index=psi_value3.Var),\n",
    "                       pd.Series(psi_value4.Psi.values, index=psi_value4.Var)], axis = 1)"
   ]
  },
  {
   "cell_type": "code",
   "execution_count": 64,
   "metadata": {
    "collapsed": true
   },
   "outputs": [],
   "source": [
    "# 综合度量，查看PSI分布，查看特征重要性分布\n",
    "pd.merge(psi_merge, imp_merge, how='outer', left_index=True,right_on='Var').to_csv('/export/grid/04/home/tigflanker/result/new_y_imp_psi.csv',index=False)"
   ]
  },
  {
   "cell_type": "markdown",
   "metadata": {},
   "source": [
    "### 3.1.2. 将筛选后的keep_list对数据集重新划分"
   ]
  },
  {
   "cell_type": "code",
   "execution_count": 9,
   "metadata": {
    "scrolled": true
   },
   "outputs": [
    {
     "data": {
      "text/plain": [
       "50"
      ]
     },
     "execution_count": 9,
     "metadata": {},
     "output_type": "execute_result"
    }
   ],
   "source": [
    "# 机器学习路线保留特征\n",
    "# 334特征，200，5 \n",
    "ml_keep_list = [y_var, '**feature**', '**feature**', '**feature**']\n",
    "# 86特征，100，3 \n",
    "ml_keep_list = [y_var, '**feature**', '**feature**', '**feature**']\n",
    "# 49特征，50, 3\n",
    "# New Y, 50, 4, PSI < 0.2, 50个\n",
    "ml_keep_list = [y_var, '**feature**', '**feature**', '**feature**']\n",
    "\n",
    "ml_datain = dummy_mapping_df[ml_keep_list]\n",
    "dt = dummy_mapping_df.dt\n",
    "len(ml_keep_list)"
   ]
  },
  {
   "cell_type": "code",
   "execution_count": 10,
   "metadata": {
    "collapsed": true
   },
   "outputs": [],
   "source": [
    "#留出oot \n",
    "oot1 = ml_datain[dt == '2018-03-31']\n",
    "oot2 = ml_datain[dt == '2018-04-30']\n",
    "oot3 = ml_datain[dt == '2018-05-31']\n",
    "oot4 = ml_datain[dt == '2018-06-30']\n",
    "train_test = ml_datain[(dt != '2018-03-31') & (dt != '2018-04-30') & (dt != '2018-05-31') & (dt != '2018-06-30')]"
   ]
  },
  {
   "cell_type": "markdown",
   "metadata": {},
   "source": [
    "### 3.1.3. XGB模型训练"
   ]
  },
  {
   "cell_type": "code",
   "execution_count": 11,
   "metadata": {
    "collapsed": true
   },
   "outputs": [],
   "source": [
    "X_train, X_test, y_train, y_test = train_test_split(train_test.drop([y_var], axis=1), train_test[y_var], test_size = 0.2, random_state = 2019)"
   ]
  },
  {
   "cell_type": "code",
   "execution_count": 12,
   "metadata": {
    "scrolled": true
   },
   "outputs": [
    {
     "data": {
      "text/plain": [
       "0    483423\n",
       "1     64404\n",
       "Name: y_tag, dtype: int64"
      ]
     },
     "execution_count": 12,
     "metadata": {},
     "output_type": "execute_result"
    }
   ],
   "source": [
    "train_test[y_var].value_counts()"
   ]
  },
  {
   "cell_type": "code",
   "execution_count": null,
   "metadata": {},
   "outputs": [],
   "source": [
    "# 网格搜索调参，网格搜索调参容易过拟合，不常用\n",
    "\n",
    "clf_cv = xgb.XGBClassifier()\n",
    "param_dist = {\n",
    "        'n_estimators':[200, 300], # [30,50]\n",
    "        'max_depth':[5, 7], #[3,5]\n",
    "        'learning_rate':[0.07], #[0.01,0.05,0.1]\n",
    "        'subsample':[0.9], #[0.8, 0.9]\n",
    "        'colsample_bytree':[1], #[0.5, 0.6, 0.7, 0.8, 0.9],\n",
    "        'scale_pos_weight':[7, 8]\n",
    "        }\n",
    "\n",
    "grid = GridSearchCV(clf_cv,param_dist,cv = 3,scoring = 'roc_auc',n_jobs = -1, verbose = 2)\n",
    "grid.fit(X_train, y_train)\n",
    "clf_xgb = grid.best_estimator_  # 按照网格搜索最好case作为分类器\n",
    "print(grid.best_score_)\n",
    "print(clf_xgb)\n",
    "\n",
    "# XGBClassifier(base_score=0.5, colsample_bylevel=1, colsample_bytree=1,\n",
    "#        gamma=0, learning_rate=0.07, max_delta_step=0, max_depth=9,\n",
    "#        min_child_weight=1, missing=None, n_estimators=300, nthread=-1,\n",
    "#        objective='binary:logistic', reg_alpha=0, reg_lambda=1,\n",
    "#        scale_pos_weight=3, seed=0, silent=True, subsample=0.9)"
   ]
  },
  {
   "cell_type": "code",
   "execution_count": 13,
   "metadata": {
    "collapsed": true
   },
   "outputs": [],
   "source": [
    "# 如参数已确定，直接训练\n",
    "clf_xgb = xgb.XGBClassifier(learning_rate=0.07, max_depth=5, n_estimators=100, nthread=-1, scale_pos_weight=8).fit(X_train, y_train)"
   ]
  },
  {
   "cell_type": "markdown",
   "metadata": {},
   "source": [
    "### 3.1.4. XGB模型表现"
   ]
  },
  {
   "cell_type": "code",
   "execution_count": 14,
   "metadata": {
    "scrolled": true
   },
   "outputs": [
    {
     "name": "stdout",
     "output_type": "stream",
     "text": [
      "AUC: 0.8498\n",
      " KS: 0.5402\n",
      "AUC: 0.8419\n",
      " KS: 0.5256\n",
      "----- 以下为OOT表现 -----\n",
      "AUC: 0.8413\n",
      " KS: 0.531\n",
      "AUC: 0.8248\n",
      " KS: 0.4942\n",
      "AUC: 0.8254\n",
      " KS: 0.4995\n",
      "AUC: 0.8047\n",
      " KS: 0.4659\n"
     ]
    }
   ],
   "source": [
    "# AUC、KS\n",
    "def roc_ks(clf = 'clf', X = 'X', y = 'y'):\n",
    "    fpr, tpr, thresholds = roc_curve(y, clf.predict_proba(X)[:,1], pos_label = 1)\n",
    "    auc_score = auc(fpr, tpr)\n",
    "    w = tpr - fpr\n",
    "    ks_score = w.max()\n",
    "\n",
    "    print('AUC:',round(auc_score,4))\n",
    "    print(' KS:',round(ks_score,4))\n",
    "\n",
    "roc_ks(clf = clf_xgb, X = X_train, y = y_train)\n",
    "roc_ks(clf = clf_xgb, X = X_test, y = y_test)\n",
    "print('----- 以下为OOT表现 -----')\n",
    "roc_ks(clf = clf_xgb, X = oot1.drop([y_var], axis=1), y = oot1['y_tag'])\n",
    "roc_ks(clf = clf_xgb, X = oot2.drop([y_var], axis=1), y = oot2['y_tag'])\n",
    "roc_ks(clf = clf_xgb, X = oot3.drop([y_var], axis=1), y = oot3['y_tag'])\n",
    "roc_ks(clf = clf_xgb, X = oot4.drop([y_var], axis=1), y = oot4['y_tag'])"
   ]
  },
  {
   "cell_type": "code",
   "execution_count": 15,
   "metadata": {},
   "outputs": [
    {
     "name": "stdout",
     "output_type": "stream",
     "text": [
      "PSI value: 9.113089066792531e-05\n",
      "PSI value: 0.001366107022575792\n",
      "PSI value: 0.034845689300212736\n",
      "PSI value: 0.0321071330683274\n",
      "PSI value: 0.017073504998211444\n"
     ]
    },
    {
     "data": {
      "text/plain": [
       "0.017073504998211444"
      ]
     },
     "execution_count": 15,
     "metadata": {},
     "output_type": "execute_result"
    }
   ],
   "source": [
    "# 模型预测结果OOT稳定性\n",
    "mf.PSI(clf_xgb.predict_proba(X_train)[:,1], clf_xgb.predict_proba(X_test)[:,1])\n",
    "mf.PSI(clf_xgb.predict_proba(X_train)[:,1], clf_xgb.predict_proba(oot1.drop([y_var], axis=1))[:,1])\n",
    "mf.PSI(clf_xgb.predict_proba(X_train)[:,1], clf_xgb.predict_proba(oot2.drop([y_var], axis=1))[:,1])\n",
    "mf.PSI(clf_xgb.predict_proba(X_train)[:,1], clf_xgb.predict_proba(oot3.drop([y_var], axis=1))[:,1])\n",
    "mf.PSI(clf_xgb.predict_proba(X_train)[:,1], clf_xgb.predict_proba(oot4.drop([y_var], axis=1))[:,1])"
   ]
  },
  {
   "cell_type": "code",
   "execution_count": 18,
   "metadata": {
    "scrolled": true
   },
   "outputs": [
    {
     "data": {
      "text/html": [
       "<div>\n",
       "<style>\n",
       "    .dataframe thead tr:only-child th {\n",
       "        text-align: right;\n",
       "    }\n",
       "\n",
       "    .dataframe thead th {\n",
       "        text-align: left;\n",
       "    }\n",
       "\n",
       "    .dataframe tbody tr th {\n",
       "        vertical-align: top;\n",
       "    }\n",
       "</style>\n",
       "<table border=\"1\" class=\"dataframe\">\n",
       "  <thead>\n",
       "    <tr style=\"text-align: right;\">\n",
       "      <th></th>\n",
       "      <th>y</th>\n",
       "      <th>p</th>\n",
       "    </tr>\n",
       "    <tr>\n",
       "      <th>p</th>\n",
       "      <th></th>\n",
       "      <th></th>\n",
       "    </tr>\n",
       "  </thead>\n",
       "  <tbody>\n",
       "    <tr>\n",
       "      <th>0.03</th>\n",
       "      <td>0.000000</td>\n",
       "      <td>99</td>\n",
       "    </tr>\n",
       "    <tr>\n",
       "      <th>0.04</th>\n",
       "      <td>0.003610</td>\n",
       "      <td>554</td>\n",
       "    </tr>\n",
       "    <tr>\n",
       "      <th>0.05</th>\n",
       "      <td>0.004252</td>\n",
       "      <td>1176</td>\n",
       "    </tr>\n",
       "    <tr>\n",
       "      <th>0.06</th>\n",
       "      <td>0.002900</td>\n",
       "      <td>1724</td>\n",
       "    </tr>\n",
       "    <tr>\n",
       "      <th>0.07</th>\n",
       "      <td>0.002095</td>\n",
       "      <td>2387</td>\n",
       "    </tr>\n",
       "    <tr>\n",
       "      <th>0.08</th>\n",
       "      <td>0.002108</td>\n",
       "      <td>2846</td>\n",
       "    </tr>\n",
       "    <tr>\n",
       "      <th>0.09</th>\n",
       "      <td>0.005682</td>\n",
       "      <td>3168</td>\n",
       "    </tr>\n",
       "    <tr>\n",
       "      <th>0.10</th>\n",
       "      <td>0.009416</td>\n",
       "      <td>3080</td>\n",
       "    </tr>\n",
       "    <tr>\n",
       "      <th>0.11</th>\n",
       "      <td>0.010006</td>\n",
       "      <td>3098</td>\n",
       "    </tr>\n",
       "    <tr>\n",
       "      <th>0.12</th>\n",
       "      <td>0.009390</td>\n",
       "      <td>2982</td>\n",
       "    </tr>\n",
       "  </tbody>\n",
       "</table>\n",
       "</div>"
      ],
      "text/plain": [
       "             y     p\n",
       "p                   \n",
       "0.03  0.000000    99\n",
       "0.04  0.003610   554\n",
       "0.05  0.004252  1176\n",
       "0.06  0.002900  1724\n",
       "0.07  0.002095  2387\n",
       "0.08  0.002108  2846\n",
       "0.09  0.005682  3168\n",
       "0.10  0.009416  3080\n",
       "0.11  0.010006  3098\n",
       "0.12  0.009390  2982"
      ]
     },
     "execution_count": 18,
     "metadata": {},
     "output_type": "execute_result"
    }
   ],
   "source": [
    "# 用于绘制百分位区段，样本数及累计坏样本率\n",
    "\n",
    "xxx = pd.DataFrame(list(zip(np.trunc(clf_xgb.predict_proba(X_test)[:,1]*100)/100, y_test.values)), columns=['p','y'])\n",
    "xxx.groupby('p').agg({'p':'count','y':np.mean}).head(10)\n",
    "# xxx.to_csv('/export/grid/04/home/tigflanker/result/new_y_xgb_predict.csv',index=False)"
   ]
  },
  {
   "cell_type": "code",
   "execution_count": 19,
   "metadata": {},
   "outputs": [
    {
     "name": "stderr",
     "output_type": "stream",
     "text": [
      "/export/grid/04/home/tigflanker/env3.5/lib/python3.5/site-packages/matplotlib/font_manager.py:1297: tigflankerWarning: findfont: Font family ['sans-serif'] not found. Falling back to DejaVu Sans\n",
      "  (prop.get_family(), self.defaultFamily[fontext]))\n"
     ]
    },
    {
     "data": {
      "image/png": "[encoded data removed]",
      "text/plain": [
       "<matplotlib.figure.Figure at 0x7f7bb1106cf8>"
      ]
     },
     "metadata": {},
     "output_type": "display_data"
    },
    {
     "name": "stdout",
     "output_type": "stream",
     "text": [
      ">>>>>Best cut point on MAX(F1-score):\n",
      "     Cut point  Precision  Recall(TPR)     FPR  F1-score\n",
      "68        0.7     0.4071        0.569  0.1104    0.4746\n",
      ">>>>>Train set score:75.01%\n",
      ">>>>>Test set score:74.60%\n"
     ]
    },
    {
     "data": {
      "image/png": "[encoded data removed]",
      "text/plain": [
       "<matplotlib.figure.Figure at 0x7f7bb1160a90>"
      ]
     },
     "metadata": {},
     "output_type": "display_data"
    },
    {
     "data": {
      "image/png": "[encoded data removed]",
      "text/plain": [
       "<matplotlib.figure.Figure at 0x7f7bb10b4748>"
      ]
     },
     "metadata": {},
     "output_type": "display_data"
    },
    {
     "data": {
      "image/png": "[encoded data removed]",
      "text/plain": [
       "<matplotlib.figure.Figure at 0x7f7bb113fef0>"
      ]
     },
     "metadata": {},
     "output_type": "display_data"
    }
   ],
   "source": [
    "# 模型表现，Train-Test集\n",
    "mf.Model_Performance(clf_xgb, X_train, y_train, X_test, y_test, calc_list = ['pr','roc','ks','fi','cut'], out_path = '/export/grid/04/home/tigflanker/result/new_y_perform')"
   ]
  },
  {
   "cell_type": "code",
   "execution_count": null,
   "metadata": {
    "scrolled": true
   },
   "outputs": [],
   "source": [
    "# 模型表现，OOT集\n",
    "mf.Model_Performance(clf_xgb, oot1.drop([y_var], axis=1), oot1['y_tag'], calc_list = ['roc','ks'])\n",
    "# mf.Model_Performance(clf_xgb, oot2.drop([y_var], axis=1), oot2['y_tag'], calc_list = ['roc','ks'])\n",
    "# mf.Model_Performance(clf_xgb, oot3.drop([y_var], axis=1), oot3['y_tag'], calc_list = ['roc','ks'])\n",
    "# mf.Model_Performance(clf_xgb, oot4.drop([y_var], axis=1), oot4['y_tag'], calc_list = ['roc','ks'])"
   ]
  },
  {
   "cell_type": "code",
   "execution_count": null,
   "metadata": {
    "collapsed": true
   },
   "outputs": [],
   "source": []
  },
  {
   "cell_type": "markdown",
   "metadata": {},
   "source": [
    "## 3.2. Random Forest线路"
   ]
  },
  {
   "cell_type": "code",
   "execution_count": null,
   "metadata": {
    "collapsed": true
   },
   "outputs": [],
   "source": [
    "# 因为分类变量已经在入模之前做过处置，这里和XGBoost相比，只需要对数据集填补一次，其他套路和XGBoost基本相似"
   ]
  },
  {
   "cell_type": "markdown",
   "metadata": {},
   "source": [
    "### 3.2.1. 数据集填补以及特征初筛"
   ]
  },
  {
   "cell_type": "code",
   "execution_count": 25,
   "metadata": {},
   "outputs": [],
   "source": [
    "# 先对数据集进行填补\n",
    "datain_imp = mf.Missing_Data_Impute(dummy_mapping_df.drop('dt', axis = 1), imp_config='imp_median')\n",
    "# datain_dummyed, dummy_mapping_dict = mf.Dummy_char(datain_imp.drop('dt', axis = 1), dummy_var=['**feature**', '**feature**'], drop_one=False)\n",
    "\n",
    "# 对数据集做初步划分\n",
    "oot1 = datain_imp[dt == '2018-03-31']\n",
    "oot2 = datain_imp[dt == '2018-04-30']\n",
    "oot3 = datain_imp[dt == '2018-05-31']\n",
    "oot4 = datain_imp[dt == '2018-06-30']\n",
    "train_test = datain_imp[(dt != '2018-03-31') & (dt != '2018-04-30') & (dt != '2018-05-31') & (dt != '2018-06-30')]"
   ]
  },
  {
   "cell_type": "code",
   "execution_count": 27,
   "metadata": {
    "scrolled": true
   },
   "outputs": [
    {
     "name": "stdout",
     "output_type": "stream",
     "text": [
      "1th fitting...\n"
     ]
    },
    {
     "name": "stderr",
     "output_type": "stream",
     "text": [
      "[Parallel(n_jobs=-1)]: Done 136 tasks      | elapsed:   42.8s\n",
      "[Parallel(n_jobs=-1)]: Done 200 out of 200 | elapsed:   58.3s finished\n",
      "[Parallel(n_jobs=32)]: Done 136 tasks      | elapsed:    1.0s\n",
      "[Parallel(n_jobs=32)]: Done 200 out of 200 | elapsed:    1.3s finished\n",
      "[Parallel(n_jobs=32)]: Done 136 tasks      | elapsed:    0.3s\n",
      "[Parallel(n_jobs=32)]: Done 200 out of 200 | elapsed:    0.4s finished\n"
     ]
    },
    {
     "name": "stdout",
     "output_type": "stream",
     "text": [
      "2th fitting...\n"
     ]
    },
    {
     "name": "stderr",
     "output_type": "stream",
     "text": [
      "[Parallel(n_jobs=-1)]: Done 136 tasks      | elapsed:   49.0s\n",
      "[Parallel(n_jobs=-1)]: Done 200 out of 200 | elapsed:  1.1min finished\n",
      "[Parallel(n_jobs=32)]: Done 136 tasks      | elapsed:    1.0s\n",
      "[Parallel(n_jobs=32)]: Done 200 out of 200 | elapsed:    1.3s finished\n",
      "[Parallel(n_jobs=32)]: Done 136 tasks      | elapsed:    0.2s\n",
      "[Parallel(n_jobs=32)]: Done 200 out of 200 | elapsed:    0.3s finished\n"
     ]
    },
    {
     "name": "stdout",
     "output_type": "stream",
     "text": [
      "3th fitting...\n"
     ]
    },
    {
     "name": "stderr",
     "output_type": "stream",
     "text": [
      "[Parallel(n_jobs=-1)]: Done 136 tasks      | elapsed:   45.1s\n",
      "[Parallel(n_jobs=-1)]: Done 200 out of 200 | elapsed:  1.0min finished\n",
      "[Parallel(n_jobs=32)]: Done 136 tasks      | elapsed:    1.0s\n",
      "[Parallel(n_jobs=32)]: Done 200 out of 200 | elapsed:    1.4s finished\n",
      "[Parallel(n_jobs=32)]: Done 136 tasks      | elapsed:    0.2s\n",
      "[Parallel(n_jobs=32)]: Done 200 out of 200 | elapsed:    0.3s finished\n"
     ]
    },
    {
     "name": "stdout",
     "output_type": "stream",
     "text": [
      "4th fitting...\n"
     ]
    },
    {
     "name": "stderr",
     "output_type": "stream",
     "text": [
      "[Parallel(n_jobs=-1)]: Done 136 tasks      | elapsed:   42.7s\n",
      "[Parallel(n_jobs=-1)]: Done 200 out of 200 | elapsed:   59.1s finished\n",
      "[Parallel(n_jobs=32)]: Done 136 tasks      | elapsed:    0.9s\n",
      "[Parallel(n_jobs=32)]: Done 200 out of 200 | elapsed:    1.3s finished\n",
      "[Parallel(n_jobs=32)]: Done 136 tasks      | elapsed:    0.2s\n",
      "[Parallel(n_jobs=32)]: Done 200 out of 200 | elapsed:    0.3s finished\n"
     ]
    },
    {
     "name": "stdout",
     "output_type": "stream",
     "text": [
      "5th fitting...\n"
     ]
    },
    {
     "name": "stderr",
     "output_type": "stream",
     "text": [
      "[Parallel(n_jobs=-1)]: Done 136 tasks      | elapsed:   46.7s\n",
      "[Parallel(n_jobs=-1)]: Done 200 out of 200 | elapsed:  1.0min finished\n",
      "[Parallel(n_jobs=32)]: Done 136 tasks      | elapsed:    1.0s\n",
      "[Parallel(n_jobs=32)]: Done 200 out of 200 | elapsed:    1.3s finished\n",
      "[Parallel(n_jobs=32)]: Done 136 tasks      | elapsed:    0.3s\n",
      "[Parallel(n_jobs=32)]: Done 200 out of 200 | elapsed:    0.4s finished\n"
     ]
    },
    {
     "name": "stdout",
     "output_type": "stream",
     "text": [
      "Train: 0.852135986552 0.00043423607681 0.542405179124 0.000677845120963\n",
      "Test: 0.83564586602 0.0023025012084 0.516759914548 0.0060970009446\n",
      "445 features kept.\n"
     ]
    }
   ],
   "source": [
    "train_ks_list, test_ks_list = [], []\n",
    "train_auc_list, test_auc_list = [], []\n",
    "imp_merge = pd.DataFrame(list(train_test.columns), columns=['Var'])\n",
    "\n",
    "for k, (train, test) in enumerate(KFold(len(train_test), 5, shuffle=True, random_state=2019)):\n",
    "    rf_train_X, rf_train_y = train_test.drop(['y_tag'], axis = 1).iloc[train], train_test.y_tag.iloc[train]\n",
    "    rf_test_X, rf_test_y = train_test.drop(['y_tag'], axis = 1).iloc[test], train_test.y_tag.iloc[test]\n",
    "\n",
    "    print(str(k+1)+'th fitting...')\n",
    "    rf_model = RandomForestClassifier(n_estimators=200, max_depth=9, verbose=1, n_jobs=-1).fit(rf_train_X, rf_train_y)\n",
    "    y_train = rf_model.predict_proba(rf_train_X)[:,1]\n",
    "    y_test = rf_model.predict_proba(rf_test_X)[:,1]\n",
    "   \n",
    "    fpr, tpr, thresholds = roc_curve(rf_train_y, y_train, pos_label = 1)\n",
    "    auc_score = auc(fpr, tpr)\n",
    "    ks_score = (tpr - fpr).max()\n",
    "    train_auc_list.append(auc_score)\n",
    "    train_ks_list.append(ks_score)\n",
    "    \n",
    "    fpr, tpr, thresholds = roc_curve(rf_test_y, y_test, pos_label = 1)\n",
    "    auc_score = auc(fpr, tpr)\n",
    "    ks_score = (tpr - fpr).max()\n",
    "    test_auc_list.append(auc_score)\n",
    "    test_ks_list.append(ks_score)\n",
    "   \n",
    "    feature_importance = pd.DataFrame(list(zip(train_test.columns, rf_model.feature_importances_)), columns=['Var','imp_'+str(k)])\n",
    "    feature_importance = feature_importance[feature_importance['imp_'+str(k)] > 0]\n",
    "    imp_merge = pd.merge(imp_merge, feature_importance, how='inner', on='Var')  # full join \n",
    "\n",
    "imp_merge['imp_mean'] = imp_merge.drop('Var', axis = 1).apply(np.mean, axis=1)\n",
    "imp_merge['imp_std'] = imp_merge.drop('Var', axis = 1).apply(np.std, axis=1)\n",
    "\n",
    "imp_merge = imp_merge.sort_values('imp_mean',ascending=False).reset_index(drop = True)\n",
    "print('Train:', np.mean(train_auc_list), np.std(train_auc_list), np.mean(train_ks_list), np.std(train_ks_list))\n",
    "print('Test:', np.mean(test_auc_list), np.std(test_auc_list), np.mean(test_ks_list), np.std(test_ks_list))\n",
    "print(len(imp_merge),'features kept.')"
   ]
  },
  {
   "cell_type": "code",
   "execution_count": 28,
   "metadata": {
    "scrolled": true
   },
   "outputs": [
    {
     "name": "stdout",
     "output_type": "stream",
     "text": [
      "Train: 0.852135986552 0.00043423607681 0.542405179124 0.000677845120963\n",
      "Test: 0.83564586602 0.0023025012084 0.516759914548 0.0060970009446\n",
      "RandomForestClassifier(bootstrap=True, class_weight=None, criterion='gini',\n",
      "            max_depth=9, max_features='auto', max_leaf_nodes=None,\n",
      "            min_impurity_split=1e-07, min_samples_leaf=1,\n",
      "            min_samples_split=2, min_weight_fraction_leaf=0.0,\n",
      "            n_estimators=200, n_jobs=-1, oob_score=False,\n",
      "            random_state=None, verbose=1, warm_start=False)\n",
      "                         Var     imp_0     imp_1     imp_2     imp_3  \\\n",
      "0         actual_sale_amt_6m  0.062063  0.060135  0.067136  0.069757   \n",
      "1            sale_ord_cnt_6m  0.058846  0.060191  0.057209  0.065932   \n",
      "\n",
      "       imp_4  imp_mean   imp_std  \n",
      "0   0.078592  0.067536  0.005945  \n",
      "1   0.054858  0.059407  0.003392  \n"
     ]
    }
   ],
   "source": [
    "# 上次记录\n",
    "print('Train:', np.mean(train_auc_list), np.std(train_auc_list), np.mean(train_ks_list), np.std(train_ks_list))\n",
    "print('Test:', np.mean(test_auc_list), np.std(test_auc_list), np.mean(test_ks_list), np.std(test_ks_list))\n",
    "print(rf_model)\n",
    "print(imp_merge.head(20))\n",
    "imp_merge.to_csv('/export/grid/04/home/tigflanker/result/rf_importance_new_y.csv',index=False)\n",
    "\n",
    "# Train: 0.81181053709 0.000438104882894 0.470950608353 0.00121276902825\n",
    "# Test: 0.777181686367 0.00108472376263 0.413350188677 0.00227858269434\n",
    "# RandomForestClassifier(bootstrap=True, class_weight=None, criterion='gini',\n",
    "#             max_depth=11, max_features='auto', max_leaf_nodes=None,\n",
    "#             min_impurity_split=1e-07, min_samples_leaf=1,\n",
    "#             min_samples_split=2, min_weight_fraction_leaf=0.0,\n",
    "#             n_estimators=200, n_jobs=-1, oob_score=False,\n",
    "#             random_state=None, verbose=1, warm_start=False)"
   ]
  },
  {
   "cell_type": "markdown",
   "metadata": {},
   "source": [
    "### 3.2.2. 将筛选后的keep_list对数据集重新划分"
   ]
  },
  {
   "cell_type": "code",
   "execution_count": 29,
   "metadata": {
    "scrolled": true
   },
   "outputs": [
    {
     "data": {
      "text/plain": [
       "48"
      ]
     },
     "execution_count": 29,
     "metadata": {},
     "output_type": "execute_result"
    }
   ],
   "source": [
    "# 机器学习路线保留特征\n",
    "rf_keep_list = [y_var, '**feature**', '**feature**', '**feature**']\n",
    "\n",
    "ml_datain = datain_imp[rf_keep_list]\n",
    "dt = dummy_mapping_df.dt\n",
    "len(rf_keep_list)"
   ]
  },
  {
   "cell_type": "code",
   "execution_count": 30,
   "metadata": {
    "collapsed": true
   },
   "outputs": [],
   "source": [
    "#留出oot \n",
    "oot1 = ml_datain[dt == '2018-03-31']\n",
    "oot2 = ml_datain[dt == '2018-04-30']\n",
    "oot3 = ml_datain[dt == '2018-05-31']\n",
    "oot4 = ml_datain[dt == '2018-06-30']\n",
    "train_test = ml_datain[(dt != '2018-03-31') & (dt != '2018-04-30') & (dt != '2018-05-31') & (dt != '2018-06-30')]"
   ]
  },
  {
   "cell_type": "markdown",
   "metadata": {},
   "source": [
    "### 3.2.3. RF模型训练"
   ]
  },
  {
   "cell_type": "code",
   "execution_count": 31,
   "metadata": {
    "collapsed": true
   },
   "outputs": [],
   "source": [
    "X_train, X_test, y_train, y_test = train_test_split(train_test.drop([y_var], axis=1), train_test[y_var], test_size = 0.2, random_state = 2019)"
   ]
  },
  {
   "cell_type": "code",
   "execution_count": 32,
   "metadata": {
    "scrolled": true
   },
   "outputs": [
    {
     "data": {
      "text/plain": [
       "0    483423\n",
       "1     64404\n",
       "Name: y_tag, dtype: int64"
      ]
     },
     "execution_count": 32,
     "metadata": {},
     "output_type": "execute_result"
    }
   ],
   "source": [
    "train_test[y_var].value_counts()"
   ]
  },
  {
   "cell_type": "code",
   "execution_count": 33,
   "metadata": {
    "collapsed": true
   },
   "outputs": [],
   "source": [
    "clf_rf = RandomForestClassifier(max_depth=7, n_estimators=200, n_jobs=-1).fit(X_train, y_train)"
   ]
  },
  {
   "cell_type": "code",
   "execution_count": null,
   "metadata": {},
   "outputs": [],
   "source": [
    "# 网格搜索调参略，详见 3.1.3"
   ]
  },
  {
   "cell_type": "markdown",
   "metadata": {},
   "source": [
    "### 3.2.4. RF模型表现"
   ]
  },
  {
   "cell_type": "code",
   "execution_count": 35,
   "metadata": {
    "scrolled": true
   },
   "outputs": [
    {
     "name": "stdout",
     "output_type": "stream",
     "text": [
      "AUC: 0.8161\n",
      " KS: 0.4831\n",
      "AUC: 0.8114\n",
      " KS: 0.4748\n",
      "----- 以下为OOT表现 -----\n",
      "AUC: 0.8299\n",
      " KS: 0.5083\n",
      "AUC: 0.8107\n",
      " KS: 0.4717\n",
      "AUC: 0.8127\n",
      " KS: 0.486\n",
      "AUC: 0.7962\n",
      " KS: 0.4564\n"
     ]
    }
   ],
   "source": [
    "# AUC、KS\n",
    "def roc_ks(clf = 'clf', X = 'X', y = 'y'):\n",
    "    fpr, tpr, thresholds = roc_curve(y, clf.predict_proba(X)[:,1], pos_label = 1)\n",
    "    auc_score = auc(fpr, tpr)\n",
    "    w = tpr - fpr\n",
    "    ks_score = w.max()\n",
    "\n",
    "    print('AUC:',round(auc_score,4))\n",
    "    print(' KS:',round(ks_score,4))\n",
    "\n",
    "roc_ks(clf = clf_rf, X = X_train, y = y_train)\n",
    "roc_ks(clf = clf_rf, X = X_test, y = y_test)\n",
    "print('----- 以下为OOT表现 -----')\n",
    "roc_ks(clf = clf_rf, X = oot1.drop([y_var], axis=1), y = oot1['y_tag'])\n",
    "roc_ks(clf = clf_rf, X = oot2.drop([y_var], axis=1), y = oot2['y_tag'])\n",
    "roc_ks(clf = clf_rf, X = oot3.drop([y_var], axis=1), y = oot3['y_tag'])\n",
    "roc_ks(clf = clf_rf, X = oot4.drop([y_var], axis=1), y = oot4['y_tag'])"
   ]
  },
  {
   "cell_type": "code",
   "execution_count": 36,
   "metadata": {},
   "outputs": [
    {
     "name": "stdout",
     "output_type": "stream",
     "text": [
      "PSI value: 0.00010617541898123815\n",
      "PSI value: 0.015499196361309779\n",
      "PSI value: 0.06308072406321596\n",
      "PSI value: 0.02416163139461844\n",
      "PSI value: 0.013696532908853414\n"
     ]
    },
    {
     "data": {
      "text/plain": [
       "0.013696532908853414"
      ]
     },
     "execution_count": 36,
     "metadata": {},
     "output_type": "execute_result"
    }
   ],
   "source": [
    "# 模型预测结果OOT稳定性\n",
    "\n",
    "mf.PSI(clf_rf.predict_proba(X_train)[:,1], clf_rf.predict_proba(X_test)[:,1])\n",
    "mf.PSI(clf_rf.predict_proba(X_train)[:,1], clf_rf.predict_proba(oot1.drop([y_var], axis=1))[:,1])\n",
    "mf.PSI(clf_rf.predict_proba(X_train)[:,1], clf_rf.predict_proba(oot2.drop([y_var], axis=1))[:,1])\n",
    "mf.PSI(clf_rf.predict_proba(X_train)[:,1], clf_rf.predict_proba(oot3.drop([y_var], axis=1))[:,1])\n",
    "mf.PSI(clf_rf.predict_proba(X_train)[:,1], clf_rf.predict_proba(oot4.drop([y_var], axis=1))[:,1])"
   ]
  },
  {
   "cell_type": "code",
   "execution_count": 37,
   "metadata": {},
   "outputs": [
    {
     "data": {
      "text/html": [
       "<div>\n",
       "<style>\n",
       "    .dataframe thead tr:only-child th {\n",
       "        text-align: right;\n",
       "    }\n",
       "\n",
       "    .dataframe thead th {\n",
       "        text-align: left;\n",
       "    }\n",
       "\n",
       "    .dataframe tbody tr th {\n",
       "        vertical-align: top;\n",
       "    }\n",
       "</style>\n",
       "<table border=\"1\" class=\"dataframe\">\n",
       "  <thead>\n",
       "    <tr style=\"text-align: right;\">\n",
       "      <th></th>\n",
       "      <th>y</th>\n",
       "      <th>p</th>\n",
       "    </tr>\n",
       "    <tr>\n",
       "      <th>p</th>\n",
       "      <th></th>\n",
       "      <th></th>\n",
       "    </tr>\n",
       "  </thead>\n",
       "  <tbody>\n",
       "    <tr>\n",
       "      <th>0.02</th>\n",
       "      <td>0.005477</td>\n",
       "      <td>4747</td>\n",
       "    </tr>\n",
       "    <tr>\n",
       "      <th>0.03</th>\n",
       "      <td>0.018018</td>\n",
       "      <td>23587</td>\n",
       "    </tr>\n",
       "    <tr>\n",
       "      <th>0.04</th>\n",
       "      <td>0.035665</td>\n",
       "      <td>11552</td>\n",
       "    </tr>\n",
       "    <tr>\n",
       "      <th>0.05</th>\n",
       "      <td>0.040743</td>\n",
       "      <td>8934</td>\n",
       "    </tr>\n",
       "    <tr>\n",
       "      <th>0.06</th>\n",
       "      <td>0.056438</td>\n",
       "      <td>6361</td>\n",
       "    </tr>\n",
       "    <tr>\n",
       "      <th>0.07</th>\n",
       "      <td>0.071639</td>\n",
       "      <td>5081</td>\n",
       "    </tr>\n",
       "    <tr>\n",
       "      <th>0.08</th>\n",
       "      <td>0.087996</td>\n",
       "      <td>4307</td>\n",
       "    </tr>\n",
       "    <tr>\n",
       "      <th>0.09</th>\n",
       "      <td>0.100634</td>\n",
       "      <td>3786</td>\n",
       "    </tr>\n",
       "    <tr>\n",
       "      <th>0.10</th>\n",
       "      <td>0.098566</td>\n",
       "      <td>3348</td>\n",
       "    </tr>\n",
       "    <tr>\n",
       "      <th>0.11</th>\n",
       "      <td>0.121524</td>\n",
       "      <td>2913</td>\n",
       "    </tr>\n",
       "  </tbody>\n",
       "</table>\n",
       "</div>"
      ],
      "text/plain": [
       "             y      p\n",
       "p                    \n",
       "0.02  0.005477   4747\n",
       "0.03  0.018018  23587\n",
       "0.04  0.035665  11552\n",
       "0.05  0.040743   8934\n",
       "0.06  0.056438   6361\n",
       "0.07  0.071639   5081\n",
       "0.08  0.087996   4307\n",
       "0.09  0.100634   3786\n",
       "0.10  0.098566   3348\n",
       "0.11  0.121524   2913"
      ]
     },
     "execution_count": 37,
     "metadata": {},
     "output_type": "execute_result"
    }
   ],
   "source": [
    "# 用于绘制百分位区段，样本数及累计坏样本率\n",
    "\n",
    "xxx = pd.DataFrame(list(zip(np.trunc(clf_rf.predict_proba(X_test)[:,1]*100)/100, y_test.values)), columns=['p','y'])\n",
    "xxx.groupby('p').agg({'p':'count','y':np.mean}).head(10)\n",
    "# xxx.to_csv('/export/grid/04/home/tigflanker/result/new_y_rf_predict.csv',index=False)"
   ]
  },
  {
   "cell_type": "code",
   "execution_count": null,
   "metadata": {
    "scrolled": true
   },
   "outputs": [],
   "source": [
    "# 模型表现，Train-Test集\n",
    "mf.Model_Performance(clf_rf, X_train, y_train, X_test, y_test, calc_list = ['pr','roc','ks','fi','cut'], out_path = '/export/grid/04/home/tigflanker/result/new_y_perform_rf')"
   ]
  },
  {
   "cell_type": "code",
   "execution_count": null,
   "metadata": {},
   "outputs": [],
   "source": [
    "# 模型表现，OOT集\n",
    "mf.Model_Performance(clf_rf, oot1.drop([y_var], axis=1), oot1['y_tag'], calc_list = ['roc','ks','cut'])\n",
    "# mf.Model_Performance(clf_rf, oot2.drop([y_var], axis=1), oot2['y_tag'], calc_list = ['roc','ks','cut'])\n",
    "# mf.Model_Performance(clf_rf, oot3.drop([y_var], axis=1), oot3['y_tag'], calc_list = ['roc','ks','cut'])\n",
    "# mf.Model_Performance(clf_rf, oot4.drop([y_var], axis=1), oot4['y_tag'], calc_list = ['roc','ks','cut'])"
   ]
  },
  {
   "cell_type": "markdown",
   "metadata": {},
   "source": [
    "### 3.2.x. XGBoosr和RF比较"
   ]
  },
  {
   "cell_type": "code",
   "execution_count": null,
   "metadata": {},
   "outputs": [],
   "source": [
    "# 需要相同特征群才能进行比较\n",
    "# mf.Model_Performance(clf_rf,  X_test, y_test, calibration={'Random Forest':clf_rf,'XGBoost':clf_xgb}, calc_list = [])"
   ]
  },
  {
   "cell_type": "code",
   "execution_count": null,
   "metadata": {
    "collapsed": true
   },
   "outputs": [],
   "source": []
  },
  {
   "cell_type": "markdown",
   "metadata": {},
   "source": [
    "# 4. 评分卡路线"
   ]
  },
  {
   "cell_type": "markdown",
   "metadata": {},
   "source": [
    "## 4.1. 对数据集做分箱、计算IV值"
   ]
  },
  {
   "cell_type": "code",
   "execution_count": null,
   "metadata": {
    "collapsed": true
   },
   "outputs": [],
   "source": [
    "# 本评分卡处理数据路线按照分箱处理，也可以走机器学习LR路线，对数据进行01标准化"
   ]
  },
  {
   "cell_type": "code",
   "execution_count": 80,
   "metadata": {
    "scrolled": true
   },
   "outputs": [
    {
     "name": "stdout",
     "output_type": "stream",
     "text": [
      "Start cutting numerical variables...\n",
      "Numerical variables clear!\n",
      "Calculating WoE & IV value...\n",
      "!!!Notice: The value in output dataset will be transform into WoE.!!!\n",
      "Final merge step...\n"
     ]
    }
   ],
   "source": [
    "# 分箱和计算WoE-IV\n",
    "# lr_keep_list是后面特征筛选后的结果\n",
    "cut_df, fa_df = mf.Cut_Merge(dummy_mapping_df[lr_keep_list], cut_way = 'ef', cut_n = 10, cut_y = y_var, calc_woe = True)\n",
    "# fa_df.to_csv('/export/grid/04/home/tigflanker/result/fa_df_m9_21f.csv',index=False)"
   ]
  },
  {
   "cell_type": "markdown",
   "metadata": {},
   "source": [
    "## 4.2. 特征筛选阶段"
   ]
  },
  {
   "cell_type": "markdown",
   "metadata": {},
   "source": [
    "### 4.2.1 预先划分数据集"
   ]
  },
  {
   "cell_type": "code",
   "execution_count": 81,
   "metadata": {
    "collapsed": true
   },
   "outputs": [],
   "source": [
    "# 按照dt做切割\n",
    "# datain_imp = mf.Missing_Data_Impute(dummy_mapping_df.drop('dt', axis = 1), imp_config='imp_median') # 标准化路线\n",
    "\n",
    "lr_oot1 = cut_df[dt == '2018-03-31']\n",
    "lr_oot2 = cut_df[dt == '2018-04-30']\n",
    "lr_oot3 = cut_df[dt == '2018-05-31']\n",
    "lr_oot4 = cut_df[dt == '2018-06-30']\n",
    "lr_train_test = cut_df[(dt != '2018-03-31') & (dt != '2018-04-30') & (dt != '2018-05-31') & (dt != '2018-06-30')]"
   ]
  },
  {
   "cell_type": "markdown",
   "metadata": {},
   "source": [
    "### 4.2.x. 标准化流程"
   ]
  },
  {
   "cell_type": "code",
   "execution_count": null,
   "metadata": {
    "collapsed": true
   },
   "outputs": [],
   "source": [
    "# 01标准化（做过WOE转换后的数据原理无需再做标准化）\n",
    "cols = list(lr_train_test.columns)\n",
    "cols.remove(y_var)\n",
    "\n",
    "scaler = preprocessing.MinMaxScaler().fit(lr_train_test[cols])\n",
    "lr_train_test_norm = pd.DataFrame(scaler.transform(lr_train_test[cols]) , columns = cols)\n",
    "lr_oot1_norm = pd.DataFrame(scaler.transform(lr_oot1[cols]) , columns = cols)\n",
    "lr_oot2_norm = pd.DataFrame(scaler.transform(lr_oot2[cols]) , columns = cols)\n",
    "lr_oot3_norm = pd.DataFrame(scaler.transform(lr_oot3[cols]) , columns = cols)"
   ]
  },
  {
   "cell_type": "markdown",
   "metadata": {},
   "source": [
    "### 4.2.2. 分别计算Corr、VIF、PSI"
   ]
  },
  {
   "cell_type": "code",
   "execution_count": 82,
   "metadata": {
    "scrolled": true
   },
   "outputs": [
    {
     "name": "stderr",
     "output_type": "stream",
     "text": [
      "/export/grid/04/home/tigflanker/env3.5/lib/python3.5/site-packages/matplotlib/font_manager.py:1297: tigflankerWarning: findfont: Font family ['sans-serif'] not found. Falling back to DejaVu Sans\n",
      "  (prop.get_family(), self.defaultFamily[fontext]))\n"
     ]
    },
    {
     "data": {
      "image/png": "[encoded data removed]",
      "text/plain": [
       "<matplotlib.figure.Figure at 0x7f809054ff98>"
      ]
     },
     "metadata": {},
     "output_type": "display_data"
    }
   ],
   "source": [
    "# 计算Corr和VIF\n",
    "corr_df = mf.Corr_Vif(lr_train_test[lr_keep_list], corr_plt_filter=0.6) "
   ]
  },
  {
   "cell_type": "code",
   "execution_count": 83,
   "metadata": {},
   "outputs": [],
   "source": [
    "# 特征稳定性PSI\n",
    "psi_value1 = mf.PSI(lr_train_test, lr_oot1)\n",
    "psi_value2 = mf.PSI(lr_train_test, lr_oot2)\n",
    "psi_value3 = mf.PSI(lr_train_test, lr_oot3)\n",
    "psi_value4 = mf.PSI(lr_train_test, lr_oot4)"
   ]
  },
  {
   "cell_type": "code",
   "execution_count": 84,
   "metadata": {
    "collapsed": true
   },
   "outputs": [],
   "source": [
    "psi_merge = pd.concat([pd.Series(psi_value1.Psi.values, index=psi_value1.Var), \n",
    "                       pd.Series(psi_value2.Psi.values, index=psi_value2.Var), \n",
    "                       pd.Series(psi_value3.Psi.values, index=psi_value3.Var)], axis = 1)"
   ]
  },
  {
   "cell_type": "code",
   "execution_count": 85,
   "metadata": {
    "collapsed": true,
    "scrolled": true
   },
   "outputs": [],
   "source": [
    "pd.merge(psi_merge, corr_df, how='outer', left_index=True,right_on='Var').to_csv('/export/grid/04/home/tigflanker/result/corr_vif_psi_new_y.csv',index=False)"
   ]
  },
  {
   "cell_type": "markdown",
   "metadata": {},
   "source": [
    "### 4.2.3. 再利用LR中的L1正则化筛减"
   ]
  },
  {
   "cell_type": "code",
   "execution_count": null,
   "metadata": {
    "collapsed": true
   },
   "outputs": [],
   "source": [
    "lr_X_train, lr_X_test, lr_y_train, lr_y_test = train_test_split(lr_train_test, lr_train_test[y_var], test_size = 0.2, random_state = 2018)"
   ]
  },
  {
   "cell_type": "code",
   "execution_count": null,
   "metadata": {
    "collapsed": true
   },
   "outputs": [],
   "source": [
    "clf_lr_l1 = LogisticRegression(penalty='l1', C=0.4).fit(lr_X_train, lr_y_train)"
   ]
  },
  {
   "cell_type": "code",
   "execution_count": null,
   "metadata": {},
   "outputs": [],
   "source": [
    "print(sum(clf_lr_l1.coef_[0] != 0))\n",
    "keep_list = pd.Series(clf_lr_l1.coef_[0], index=[lr_X_train.columns.values])\n",
    "keep_list.index[keep_list != 0]"
   ]
  },
  {
   "cell_type": "markdown",
   "metadata": {},
   "source": [
    "### 4.2.4. 将筛选后的keep_list对数据集重新划分"
   ]
  },
  {
   "cell_type": "code",
   "execution_count": 63,
   "metadata": {},
   "outputs": [
    {
     "data": {
      "text/plain": [
       "10"
      ]
     },
     "execution_count": 63,
     "metadata": {},
     "output_type": "execute_result"
    }
   ],
   "source": [
    "# L1 + 标准化 + 去除相关性\n",
    "lr_keep_list = [y_var, '**feature**', '**feature**', '**feature**', '**feature**', '**feature**', '**feature**', '**feature**', '**feature**', '**feature**']\n",
    "len(lr_keep_list)"
   ]
  },
  {
   "cell_type": "code",
   "execution_count": 86,
   "metadata": {},
   "outputs": [
    {
     "name": "stdout",
     "output_type": "stream",
     "text": [
      "本次填补规则如下： {}\n"
     ]
    }
   ],
   "source": [
    "# 按照dt做切割\n",
    "cut_df = mf.Missing_Data_Impute(dummy_mapping_df[lr_keep_list], imp_config='imp_median')\n",
    "\n",
    "lr_oot1 = cut_df[dt == '2018-03-31']\n",
    "lr_oot2 = cut_df[dt == '2018-04-30']\n",
    "lr_oot3 = cut_df[dt == '2018-05-31']\n",
    "lr_oot4 = cut_df[dt == '2018-06-30']\n",
    "lr_train_test = cut_df[(dt != '2018-03-31') & (dt != '2018-04-30') & (dt != '2018-05-31') & (dt != '2018-06-30')]"
   ]
  },
  {
   "cell_type": "markdown",
   "metadata": {},
   "source": [
    "## 4.3. LR模型训练"
   ]
  },
  {
   "cell_type": "code",
   "execution_count": 87,
   "metadata": {
    "collapsed": true
   },
   "outputs": [],
   "source": [
    "lr_X_train, lr_X_test, lr_y_train, lr_y_test = train_test_split(lr_train_test.drop(y_var, axis = 1), lr_train_test[y_var], test_size = 0.2, random_state = 2018)"
   ]
  },
  {
   "cell_type": "code",
   "execution_count": 88,
   "metadata": {},
   "outputs": [],
   "source": [
    "clf_lr_l2 = LogisticRegression(penalty='l2').fit(lr_X_train, lr_y_train)"
   ]
  },
  {
   "cell_type": "code",
   "execution_count": null,
   "metadata": {
    "scrolled": true
   },
   "outputs": [],
   "source": [
    "coef = pd.DataFrame(list(zip(lr_X_train.columns, clf_lr_l2.coef_[0])), columns=['Var','coef'])\n",
    "coef = coef[coef.coef != 0].sort_values('coef',ascending=False).reset_index(drop = True)\n",
    "# coef.to_csv('/home/tigflanker/python_script/coef.csv',encoding='utf-8',index=False)\n",
    "coef"
   ]
  },
  {
   "cell_type": "markdown",
   "metadata": {},
   "source": [
    "## 4.4. 模型表现"
   ]
  },
  {
   "cell_type": "code",
   "execution_count": 90,
   "metadata": {
    "scrolled": false
   },
   "outputs": [
    {
     "name": "stdout",
     "output_type": "stream",
     "text": [
      "AUC: 0.768\n",
      " KS: 0.4255\n",
      "AUC: 0.77\n",
      " KS: 0.4265\n",
      "----- 以下为OOT表现 -----\n",
      "AUC: 0.7901\n",
      " KS: 0.4669\n",
      "AUC: 0.7652\n",
      " KS: 0.4259\n",
      "AUC: 0.7561\n",
      " KS: 0.4224\n",
      "AUC: 0.7423\n",
      " KS: 0.3941\n"
     ]
    }
   ],
   "source": [
    "# AUC、KS\n",
    "def roc_ks(clf = 'clf', X = 'X', y = 'y'):\n",
    "    fpr, tpr, thresholds = roc_curve(y, clf.predict_proba(X)[:,1], pos_label = 1)\n",
    "    auc_score = auc(fpr, tpr)\n",
    "    w = tpr - fpr\n",
    "    ks_score = w.max()\n",
    "\n",
    "    print('AUC:',round(auc_score,4))\n",
    "    print(' KS:',round(ks_score,4))\n",
    "\n",
    "roc_ks(clf = clf_lr_l2, X = lr_X_train, y = lr_y_train)\n",
    "roc_ks(clf = clf_lr_l2, X = lr_X_test, y = lr_y_test)\n",
    "print('----- 以下为OOT表现 -----')\n",
    "roc_ks(clf = clf_lr_l2, X = lr_oot1.drop([y_var], axis=1), y = lr_oot1['y_tag'])\n",
    "roc_ks(clf = clf_lr_l2, X = lr_oot2.drop([y_var], axis=1), y = lr_oot2['y_tag'])\n",
    "roc_ks(clf = clf_lr_l2, X = lr_oot3.drop([y_var], axis=1), y = lr_oot3['y_tag'])\n",
    "roc_ks(clf = clf_lr_l2, X = lr_oot4.drop([y_var], axis=1), y = lr_oot4['y_tag'])"
   ]
  },
  {
   "cell_type": "code",
   "execution_count": null,
   "metadata": {
    "scrolled": true
   },
   "outputs": [],
   "source": [
    "mf.Model_Performance(clf_lr_l2, lr_X_train, lr_y_train, lr_X_test, lr_y_test, calc_list=['pr', 'roc', 'ks'])"
   ]
  },
  {
   "cell_type": "code",
   "execution_count": null,
   "metadata": {
    "scrolled": true
   },
   "outputs": [],
   "source": [
    "mf.Model_Performance(clf_lr_l2, lr_oot1.drop(y_var, axis = 1), lr_oot1['y_tag'], calc_list = ['roc','ks'])"
   ]
  },
  {
   "cell_type": "markdown",
   "metadata": {},
   "source": [
    "## 4.5. PDO打分"
   ]
  },
  {
   "cell_type": "code",
   "execution_count": 93,
   "metadata": {},
   "outputs": [],
   "source": [
    "# PDO评分转换\n",
    "fa_df, Basic_score = mf.PDO_Score(lr_X_train, lr_y_train, clf_lr_l2, fa_df)"
   ]
  },
  {
   "cell_type": "code",
   "execution_count": 100,
   "metadata": {},
   "outputs": [
    {
     "name": "stdout",
     "output_type": "stream",
     "text": [
      "Columns not match, please check. This time use intersection set replace.\n"
     ]
    }
   ],
   "source": [
    "# PDO打分\n",
    "PDO_Score_out = mf.PDO_Score_Convert(lr_oot1, fa_df, Basic_score = Basic_score)"
   ]
  },
  {
   "cell_type": "code",
   "execution_count": 101,
   "metadata": {
    "scrolled": false
   },
   "outputs": [
    {
     "data": {
      "text/html": [
       "<div>\n",
       "<style>\n",
       "    .dataframe thead tr:only-child th {\n",
       "        text-align: right;\n",
       "    }\n",
       "\n",
       "    .dataframe thead th {\n",
       "        text-align: left;\n",
       "    }\n",
       "\n",
       "    .dataframe tbody tr th {\n",
       "        vertical-align: top;\n",
       "    }\n",
       "</style>\n",
       "<table border=\"1\" class=\"dataframe\">\n",
       "  <thead>\n",
       "    <tr style=\"text-align: right;\">\n",
       "      <th></th>\n",
       "      <th>**feature**</th>\n",
       "      <th>**feature**</th>\n",
       "      <th>**feature**</th>\n",
       "      <th>**feature**</th>\n",
       "      <th>**feature**</th>\n",
       "      <th>**feature**</th>\n",
       "      <th>**feature**</th>\n",
       "      <th>**feature**</th>\n",
       "      <th>**feature**</th>\n",
       "      <th>PDO_Score_Convert</th>\n",
       "    </tr>\n",
       "  </thead>\n",
       "  <tbody>\n",
       "    <tr>\n",
       "      <th>0</th>\n",
       "      <td>4.501793</td>\n",
       "      <td>1.210570</td>\n",
       "      <td>-2.971608</td>\n",
       "      <td>0.000790</td>\n",
       "      <td>19.983187</td>\n",
       "      <td>0.686610</td>\n",
       "      <td>7.551542</td>\n",
       "      <td>-5.420507</td>\n",
       "      <td>-0.388756</td>\n",
       "      <td>564.803472</td>\n",
       "    </tr>\n",
       "    <tr>\n",
       "      <th>1</th>\n",
       "      <td>7.801743</td>\n",
       "      <td>6.993036</td>\n",
       "      <td>1.679519</td>\n",
       "      <td>0.000790</td>\n",
       "      <td>32.399938</td>\n",
       "      <td>0.638606</td>\n",
       "      <td>16.803450</td>\n",
       "      <td>1.134440</td>\n",
       "      <td>-0.388756</td>\n",
       "      <td>606.712618</td>\n",
       "    </tr>\n",
       "    <tr>\n",
       "      <th>2</th>\n",
       "      <td>4.501793</td>\n",
       "      <td>-23.202845</td>\n",
       "      <td>-2.971608</td>\n",
       "      <td>-0.000060</td>\n",
       "      <td>-56.398293</td>\n",
       "      <td>0.185217</td>\n",
       "      <td>-15.258606</td>\n",
       "      <td>-5.420507</td>\n",
       "      <td>-0.388756</td>\n",
       "      <td>440.696186</td>\n",
       "    </tr>\n",
       "    <tr>\n",
       "      <th>3</th>\n",
       "      <td>7.801743</td>\n",
       "      <td>11.415412</td>\n",
       "      <td>1.617558</td>\n",
       "      <td>-0.000683</td>\n",
       "      <td>32.399938</td>\n",
       "      <td>0.686610</td>\n",
       "      <td>16.803450</td>\n",
       "      <td>3.981048</td>\n",
       "      <td>-0.388756</td>\n",
       "      <td>613.966172</td>\n",
       "    </tr>\n",
       "    <tr>\n",
       "      <th>4</th>\n",
       "      <td>4.501793</td>\n",
       "      <td>1.210570</td>\n",
       "      <td>1.617558</td>\n",
       "      <td>0.000790</td>\n",
       "      <td>20.398432</td>\n",
       "      <td>0.421241</td>\n",
       "      <td>16.962122</td>\n",
       "      <td>3.981048</td>\n",
       "      <td>-0.388756</td>\n",
       "      <td>588.354649</td>\n",
       "    </tr>\n",
       "    <tr>\n",
       "      <th>5</th>\n",
       "      <td>4.501793</td>\n",
       "      <td>-10.937065</td>\n",
       "      <td>-2.971608</td>\n",
       "      <td>-0.000060</td>\n",
       "      <td>25.431384</td>\n",
       "      <td>0.638606</td>\n",
       "      <td>-2.170095</td>\n",
       "      <td>1.134440</td>\n",
       "      <td>-0.388756</td>\n",
       "      <td>554.888490</td>\n",
       "    </tr>\n",
       "    <tr>\n",
       "      <th>6</th>\n",
       "      <td>9.517123</td>\n",
       "      <td>6.993036</td>\n",
       "      <td>2.364082</td>\n",
       "      <td>-0.000683</td>\n",
       "      <td>33.362164</td>\n",
       "      <td>0.686610</td>\n",
       "      <td>16.962122</td>\n",
       "      <td>0.283676</td>\n",
       "      <td>-0.388756</td>\n",
       "      <td>609.429224</td>\n",
       "    </tr>\n",
       "    <tr>\n",
       "      <th>7</th>\n",
       "      <td>4.760884</td>\n",
       "      <td>1.210570</td>\n",
       "      <td>-2.971608</td>\n",
       "      <td>-0.000648</td>\n",
       "      <td>25.431384</td>\n",
       "      <td>0.686610</td>\n",
       "      <td>-15.258606</td>\n",
       "      <td>-5.420507</td>\n",
       "      <td>0.243713</td>\n",
       "      <td>548.331644</td>\n",
       "    </tr>\n",
       "    <tr>\n",
       "      <th>8</th>\n",
       "      <td>11.132963</td>\n",
       "      <td>10.541952</td>\n",
       "      <td>1.617558</td>\n",
       "      <td>-0.000060</td>\n",
       "      <td>25.431384</td>\n",
       "      <td>0.638606</td>\n",
       "      <td>14.032615</td>\n",
       "      <td>4.323917</td>\n",
       "      <td>-0.388756</td>\n",
       "      <td>606.980030</td>\n",
       "    </tr>\n",
       "    <tr>\n",
       "      <th>9</th>\n",
       "      <td>4.501793</td>\n",
       "      <td>-23.202845</td>\n",
       "      <td>2.364082</td>\n",
       "      <td>-0.000648</td>\n",
       "      <td>19.983187</td>\n",
       "      <td>0.638606</td>\n",
       "      <td>-2.170095</td>\n",
       "      <td>1.134440</td>\n",
       "      <td>0.243713</td>\n",
       "      <td>543.142085</td>\n",
       "    </tr>\n",
       "  </tbody>\n",
       "</table>\n",
       "</div>"
      ],
      "text/plain": [
       "   **feature**  **feature**  **feature**  \\\n",
       "0               4.501793              1.210570            -2.971608   \n",
       "1               7.801743              6.993036             1.679519   \n",
       "\n",
       "   **feature**  **feature**  **feature**  \\\n",
       "0               0.000790                 19.983187              0.686610   \n",
       "1               0.000790                 32.399938              0.638606   \n",
       "\n",
       "   **feature**  **feature**  **feature**  \\\n",
       "0                  7.551542                 -5.420507       -0.388756   \n",
       "1                 16.803450                  1.134440       -0.388756   \n",
       "\n",
       "   PDO_Score_Convert  \n",
       "0         564.803472  \n",
       "1         606.712618  \n"
      ]
     },
     "execution_count": 101,
     "metadata": {},
     "output_type": "execute_result"
    }
   ],
   "source": [
    "PDO_Score_out.head(10)"
   ]
  },
  {
   "cell_type": "code",
   "execution_count": 102,
   "metadata": {},
   "outputs": [
    {
     "data": {
      "text/html": [
       "<div>\n",
       "<style>\n",
       "    .dataframe thead tr:only-child th {\n",
       "        text-align: right;\n",
       "    }\n",
       "\n",
       "    .dataframe thead th {\n",
       "        text-align: left;\n",
       "    }\n",
       "\n",
       "    .dataframe tbody tr th {\n",
       "        vertical-align: top;\n",
       "    }\n",
       "</style>\n",
       "<table border=\"1\" class=\"dataframe\">\n",
       "  <thead>\n",
       "    <tr style=\"text-align: right;\">\n",
       "      <th></th>\n",
       "      <th>Bins</th>\n",
       "      <th>Var</th>\n",
       "      <th>Binn</th>\n",
       "      <th>bads</th>\n",
       "      <th>N</th>\n",
       "      <th>bad rate</th>\n",
       "      <th>Woe</th>\n",
       "      <th>Iv</th>\n",
       "      <th>Iv_rank</th>\n",
       "      <th>Score</th>\n",
       "    </tr>\n",
       "  </thead>\n",
       "  <tbody>\n",
       "    <tr>\n",
       "      <th>0</th>\n",
       "      <td>(-inf, 0.741]</td>\n",
       "      <td>**feature**</td>\n",
       "      <td>0</td>\n",
       "      <td>19449</td>\n",
       "      <td>98292</td>\n",
       "      <td>19.79%</td>\n",
       "      <td>0.504685</td>\n",
       "      <td>0.113592</td>\n",
       "      <td>8.0</td>\n",
       "      <td>-22.733011</td>\n",
       "    </tr>\n",
       "    <tr>\n",
       "      <th>1</th>\n",
       "      <td>(0.741, 0.88]</td>\n",
       "      <td>**feature**</td>\n",
       "      <td>1</td>\n",
       "      <td>11576</td>\n",
       "      <td>97975</td>\n",
       "      <td>11.82%</td>\n",
       "      <td>-0.105694</td>\n",
       "      <td>0.113592</td>\n",
       "      <td>8.0</td>\n",
       "      <td>4.760884</td>\n",
       "    </tr>\n",
       "    <tr>\n",
       "      <th>2</th>\n",
       "      <td>(0.88, 0.923]</td>\n",
       "      <td>**feature**</td>\n",
       "      <td>2</td>\n",
       "      <td>9322</td>\n",
       "      <td>99083</td>\n",
       "      <td>9.41%</td>\n",
       "      <td>-0.360425</td>\n",
       "      <td>0.113592</td>\n",
       "      <td>8.0</td>\n",
       "      <td>16.234987</td>\n",
       "    </tr>\n",
       "    <tr>\n",
       "      <th>3</th>\n",
       "      <td>(0.923, 0.948]</td>\n",
       "      <td>**feature**</td>\n",
       "      <td>3</td>\n",
       "      <td>9423</td>\n",
       "      <td>97856</td>\n",
       "      <td>9.63%</td>\n",
       "      <td>-0.334744</td>\n",
       "      <td>0.113592</td>\n",
       "      <td>8.0</td>\n",
       "      <td>15.078183</td>\n",
       "    </tr>\n",
       "    <tr>\n",
       "      <th>4</th>\n",
       "      <td>(0.948, 0.963]</td>\n",
       "      <td>**feature**</td>\n",
       "      <td>4</td>\n",
       "      <td>10609</td>\n",
       "      <td>101823</td>\n",
       "      <td>10.42%</td>\n",
       "      <td>-0.247158</td>\n",
       "      <td>0.113592</td>\n",
       "      <td>8.0</td>\n",
       "      <td>11.132963</td>\n",
       "    </tr>\n",
       "    <tr>\n",
       "      <th>5</th>\n",
       "      <td>(0.963, 0.972]</td>\n",
       "      <td>**feature**</td>\n",
       "      <td>5</td>\n",
       "      <td>10477</td>\n",
       "      <td>97382</td>\n",
       "      <td>10.76%</td>\n",
       "      <td>-0.211285</td>\n",
       "      <td>0.113592</td>\n",
       "      <td>8.0</td>\n",
       "      <td>9.517123</td>\n",
       "    </tr>\n",
       "    <tr>\n",
       "      <th>6</th>\n",
       "      <td>(0.972, 0.979]</td>\n",
       "      <td>**feature**</td>\n",
       "      <td>6</td>\n",
       "      <td>11713</td>\n",
       "      <td>105240</td>\n",
       "      <td>11.13%</td>\n",
       "      <td>-0.173203</td>\n",
       "      <td>0.113592</td>\n",
       "      <td>8.0</td>\n",
       "      <td>7.801743</td>\n",
       "    </tr>\n",
       "    <tr>\n",
       "      <th>7</th>\n",
       "      <td>(0.979, 0.985]</td>\n",
       "      <td>**feature**</td>\n",
       "      <td>7</td>\n",
       "      <td>12226</td>\n",
       "      <td>102953</td>\n",
       "      <td>11.88%</td>\n",
       "      <td>-0.099942</td>\n",
       "      <td>0.113592</td>\n",
       "      <td>8.0</td>\n",
       "      <td>4.501793</td>\n",
       "    </tr>\n",
       "    <tr>\n",
       "      <th>8</th>\n",
       "      <td>(0.985, 0.991]</td>\n",
       "      <td>**feature**</td>\n",
       "      <td>8</td>\n",
       "      <td>12628</td>\n",
       "      <td>90078</td>\n",
       "      <td>14.02%</td>\n",
       "      <td>0.090632</td>\n",
       "      <td>0.113592</td>\n",
       "      <td>8.0</td>\n",
       "      <td>-4.082421</td>\n",
       "    </tr>\n",
       "    <tr>\n",
       "      <th>9</th>\n",
       "      <td>(0.991, inf]</td>\n",
       "      <td>**feature**</td>\n",
       "      <td>9</td>\n",
       "      <td>19670</td>\n",
       "      <td>89844</td>\n",
       "      <td>21.89%</td>\n",
       "      <td>0.632465</td>\n",
       "      <td>0.113592</td>\n",
       "      <td>8.0</td>\n",
       "      <td>-28.488711</td>\n",
       "    </tr>\n",
       "  </tbody>\n",
       "</table>\n",
       "</div>"
      ],
      "text/plain": [
       "             Bins                    Var Binn   bads       N bad rate  \\\n",
       "0   (-inf, 0.741]  **feature**    0  19449   98292   19.79%   \n",
       "1   (0.741, 0.88]  **feature**    1  11576   97975   11.82%   \n",
       "2   (0.88, 0.923]  **feature**    2   9322   99083    9.41%   \n",
       "3  (0.923, 0.948]  **feature**    3   9423   97856    9.63%   \n",
       "4  (0.948, 0.963]  **feature**    4  10609  101823   10.42%   \n",
       "5  (0.963, 0.972]  **feature**    5  10477   97382   10.76%   \n",
       "6  (0.972, 0.979]  **feature**    6  11713  105240   11.13%   \n",
       "7  (0.979, 0.985]  **feature**    7  12226  102953   11.88%   \n",
       "8  (0.985, 0.991]  **feature**    8  12628   90078   14.02%   \n",
       "9    (0.991, inf]  **feature**    9  19670   89844   21.89%   \n",
       "\n",
       "        Woe        Iv  Iv_rank      Score  \n",
       "0  0.504685  0.113592      8.0 -22.733011  \n",
       "1 -0.105694  0.113592      8.0   4.760884  \n",
       "2 -0.360425  0.113592      8.0  16.234987  \n",
       "3 -0.334744  0.113592      8.0  15.078183  \n",
       "4 -0.247158  0.113592      8.0  11.132963  \n",
       "5 -0.211285  0.113592      8.0   9.517123  \n",
       "6 -0.173203  0.113592      8.0   7.801743  \n",
       "7 -0.099942  0.113592      8.0   4.501793  \n",
       "8  0.090632  0.113592      8.0  -4.082421  \n",
       "9  0.632465  0.113592      8.0 -28.488711  "
      ]
     },
     "execution_count": 102,
     "metadata": {},
     "output_type": "execute_result"
    }
   ],
   "source": [
    "fa_df.head(10)"
   ]
  },
  {
   "cell_type": "markdown",
   "metadata": {},
   "source": [
    "# 5. 模型及表格保存"
   ]
  },
  {
   "cell_type": "code",
   "execution_count": null,
   "metadata": {
    "collapsed": true
   },
   "outputs": [],
   "source": [
    "from sklearn.externals import joblib"
   ]
  },
  {
   "cell_type": "code",
   "execution_count": null,
   "metadata": {
    "collapsed": true
   },
   "outputs": [],
   "source": [
    "# 保存模型\n",
    "joblib.dump((clf_xgb, Variable_pre_exp, obs_miss_rate),'/export/grid/04/home/tigflanker/model/model_table.model')"
   ]
  },
  {
   "cell_type": "code",
   "execution_count": null,
   "metadata": {
    "collapsed": true
   },
   "outputs": [],
   "source": [
    "joblib.dump((clf_lr_l1),'/export/grid/04/home/tigflanker/model/clf_lr_l1.model')"
   ]
  },
  {
   "cell_type": "code",
   "execution_count": null,
   "metadata": {
    "collapsed": true
   },
   "outputs": [],
   "source": [
    "joblib.dump((clf_lr_l2),'/export/grid/04/home/tigflanker/model/clf_lr_l2.model')"
   ]
  },
  {
   "cell_type": "code",
   "execution_count": null,
   "metadata": {
    "collapsed": true
   },
   "outputs": [],
   "source": [
    "importances = pd.DataFrame(list(zip(X_train.columns, clf_xgb.feature_importances_)), columns=['Var','imp'])"
   ]
  },
  {
   "cell_type": "code",
   "execution_count": null,
   "metadata": {
    "collapsed": true
   },
   "outputs": [],
   "source": [
    "importances.to_csv('/export/grid/04/home/tigflanker/result/importances.csv',index=False)"
   ]
  },
  {
   "cell_type": "code",
   "execution_count": null,
   "metadata": {
    "collapsed": true
   },
   "outputs": [],
   "source": [
    "X_train.columns"
   ]
  },
  {
   "cell_type": "code",
   "execution_count": null,
   "metadata": {
    "collapsed": true
   },
   "outputs": [],
   "source": [
    "mf.MLMP(clf_xgb, X_train, y_train, X_test, y_test)"
   ]
  },
  {
   "cell_type": "code",
   "execution_count": null,
   "metadata": {
    "collapsed": true
   },
   "outputs": [],
   "source": []
  }
 ],
 "metadata": {
  "kernelspec": {
   "display_name": "Python 3",
   "language": "python",
   "name": "python3"
  },
  "toc": {
   "base_numbering": 1,
   "nav_menu": {},
   "number_sections": false,
   "sideBar": true,
   "skip_h1_title": false,
   "title_cell": "Table of Contents",
   "title_sidebar": "Contents",
   "toc_cell": false,
   "toc_position": {
    "height": "calc(100% - 180px)",
    "left": "10px",
    "top": "150px",
    "width": "351px"
   },
   "toc_section_display": true,
   "toc_window_display": true
  },
  "varInspector": {
   "cols": {
    "lenName": 16,
    "lenType": 16,
    "lenVar": 40
   },
   "kernels_config": {
    "python": {
     "delete_cmd_postfix": "",
     "delete_cmd_prefix": "del ",
     "library": "var_list.py",
     "varRefreshCmd": "print(var_dic_list())"
    },
    "r": {
     "delete_cmd_postfix": ") ",
     "delete_cmd_prefix": "rm(",
     "library": "var_list.r",
     "varRefreshCmd": "cat(var_dic_list()) "
    }
   },
   "types_to_exclude": [
    "module",
    "function",
    "builtin_function_or_method",
    "instance",
    "_Feature"
   ],
   "window_display": false
  }
 },
 "nbformat": 4,
 "nbformat_minor": 2
}
